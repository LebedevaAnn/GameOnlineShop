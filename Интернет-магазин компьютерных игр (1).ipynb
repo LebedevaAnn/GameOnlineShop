{
 "cells": [
  {
   "cell_type": "code",
   "execution_count": 1,
   "metadata": {},
   "outputs": [],
   "source": [
    "import pandas as pd \n",
    "import matplotlib.pyplot as plt \n",
    "import seaborn as sns \n",
    "import scipy.stats as st"
   ]
  },
  {
   "cell_type": "code",
   "execution_count": 2,
   "metadata": {},
   "outputs": [],
   "source": [
    "df= pd.read_csv('/datasets/games.csv')"
   ]
  },
  {
   "cell_type": "code",
   "execution_count": 3,
   "metadata": {},
   "outputs": [
    {
     "data": {
      "text/html": [
       "<div>\n",
       "<style scoped>\n",
       "    .dataframe tbody tr th:only-of-type {\n",
       "        vertical-align: middle;\n",
       "    }\n",
       "\n",
       "    .dataframe tbody tr th {\n",
       "        vertical-align: top;\n",
       "    }\n",
       "\n",
       "    .dataframe thead th {\n",
       "        text-align: right;\n",
       "    }\n",
       "</style>\n",
       "<table border=\"1\" class=\"dataframe\">\n",
       "  <thead>\n",
       "    <tr style=\"text-align: right;\">\n",
       "      <th></th>\n",
       "      <th>Name</th>\n",
       "      <th>Platform</th>\n",
       "      <th>Year_of_Release</th>\n",
       "      <th>Genre</th>\n",
       "      <th>NA_sales</th>\n",
       "      <th>EU_sales</th>\n",
       "      <th>JP_sales</th>\n",
       "      <th>Other_sales</th>\n",
       "      <th>Critic_Score</th>\n",
       "      <th>User_Score</th>\n",
       "      <th>Rating</th>\n",
       "    </tr>\n",
       "  </thead>\n",
       "  <tbody>\n",
       "    <tr>\n",
       "      <th>0</th>\n",
       "      <td>Wii Sports</td>\n",
       "      <td>Wii</td>\n",
       "      <td>2006.0</td>\n",
       "      <td>Sports</td>\n",
       "      <td>41.36</td>\n",
       "      <td>28.96</td>\n",
       "      <td>3.77</td>\n",
       "      <td>8.45</td>\n",
       "      <td>76.0</td>\n",
       "      <td>8</td>\n",
       "      <td>E</td>\n",
       "    </tr>\n",
       "    <tr>\n",
       "      <th>1</th>\n",
       "      <td>Super Mario Bros.</td>\n",
       "      <td>NES</td>\n",
       "      <td>1985.0</td>\n",
       "      <td>Platform</td>\n",
       "      <td>29.08</td>\n",
       "      <td>3.58</td>\n",
       "      <td>6.81</td>\n",
       "      <td>0.77</td>\n",
       "      <td>NaN</td>\n",
       "      <td>NaN</td>\n",
       "      <td>NaN</td>\n",
       "    </tr>\n",
       "    <tr>\n",
       "      <th>2</th>\n",
       "      <td>Mario Kart Wii</td>\n",
       "      <td>Wii</td>\n",
       "      <td>2008.0</td>\n",
       "      <td>Racing</td>\n",
       "      <td>15.68</td>\n",
       "      <td>12.76</td>\n",
       "      <td>3.79</td>\n",
       "      <td>3.29</td>\n",
       "      <td>82.0</td>\n",
       "      <td>8.3</td>\n",
       "      <td>E</td>\n",
       "    </tr>\n",
       "    <tr>\n",
       "      <th>3</th>\n",
       "      <td>Wii Sports Resort</td>\n",
       "      <td>Wii</td>\n",
       "      <td>2009.0</td>\n",
       "      <td>Sports</td>\n",
       "      <td>15.61</td>\n",
       "      <td>10.93</td>\n",
       "      <td>3.28</td>\n",
       "      <td>2.95</td>\n",
       "      <td>80.0</td>\n",
       "      <td>8</td>\n",
       "      <td>E</td>\n",
       "    </tr>\n",
       "    <tr>\n",
       "      <th>4</th>\n",
       "      <td>Pokemon Red/Pokemon Blue</td>\n",
       "      <td>GB</td>\n",
       "      <td>1996.0</td>\n",
       "      <td>Role-Playing</td>\n",
       "      <td>11.27</td>\n",
       "      <td>8.89</td>\n",
       "      <td>10.22</td>\n",
       "      <td>1.00</td>\n",
       "      <td>NaN</td>\n",
       "      <td>NaN</td>\n",
       "      <td>NaN</td>\n",
       "    </tr>\n",
       "  </tbody>\n",
       "</table>\n",
       "</div>"
      ],
      "text/plain": [
       "                       Name Platform  Year_of_Release         Genre  NA_sales  \\\n",
       "0                Wii Sports      Wii           2006.0        Sports     41.36   \n",
       "1         Super Mario Bros.      NES           1985.0      Platform     29.08   \n",
       "2            Mario Kart Wii      Wii           2008.0        Racing     15.68   \n",
       "3         Wii Sports Resort      Wii           2009.0        Sports     15.61   \n",
       "4  Pokemon Red/Pokemon Blue       GB           1996.0  Role-Playing     11.27   \n",
       "\n",
       "   EU_sales  JP_sales  Other_sales  Critic_Score User_Score Rating  \n",
       "0     28.96      3.77         8.45          76.0          8      E  \n",
       "1      3.58      6.81         0.77           NaN        NaN    NaN  \n",
       "2     12.76      3.79         3.29          82.0        8.3      E  \n",
       "3     10.93      3.28         2.95          80.0          8      E  \n",
       "4      8.89     10.22         1.00           NaN        NaN    NaN  "
      ]
     },
     "execution_count": 3,
     "metadata": {},
     "output_type": "execute_result"
    }
   ],
   "source": [
    "df.head() # ознакомление с данными"
   ]
  },
  {
   "cell_type": "markdown",
   "metadata": {},
   "source": [
    "У нас есть таблица с названиями игр, годомо выпуска и платформами, на которых они выпущены, жанром, данными о продажах в трех регионах (Северная Америка, Европа, Япония), оценками критиков  и пользователей, и рейтингом"
   ]
  },
  {
   "cell_type": "markdown",
   "metadata": {},
   "source": [
    "### Предобработка данных"
   ]
  },
  {
   "cell_type": "code",
   "execution_count": 4,
   "metadata": {},
   "outputs": [],
   "source": [
    "# приводим названия столбцов к одному регистру\n",
    "df.columns = list(map(lambda x: x.lower(), df.columns))"
   ]
  },
  {
   "cell_type": "code",
   "execution_count": 5,
   "metadata": {},
   "outputs": [
    {
     "data": {
      "text/plain": [
       "Index(['name', 'platform', 'year_of_release', 'genre', 'na_sales', 'eu_sales',\n",
       "       'jp_sales', 'other_sales', 'critic_score', 'user_score', 'rating'],\n",
       "      dtype='object')"
      ]
     },
     "execution_count": 5,
     "metadata": {},
     "output_type": "execute_result"
    }
   ],
   "source": [
    "df.columns"
   ]
  },
  {
   "cell_type": "code",
   "execution_count": 6,
   "metadata": {},
   "outputs": [
    {
     "name": "stdout",
     "output_type": "stream",
     "text": [
      "<class 'pandas.core.frame.DataFrame'>\n",
      "RangeIndex: 16715 entries, 0 to 16714\n",
      "Data columns (total 11 columns):\n",
      " #   Column           Non-Null Count  Dtype  \n",
      "---  ------           --------------  -----  \n",
      " 0   name             16713 non-null  object \n",
      " 1   platform         16715 non-null  object \n",
      " 2   year_of_release  16446 non-null  float64\n",
      " 3   genre            16713 non-null  object \n",
      " 4   na_sales         16715 non-null  float64\n",
      " 5   eu_sales         16715 non-null  float64\n",
      " 6   jp_sales         16715 non-null  float64\n",
      " 7   other_sales      16715 non-null  float64\n",
      " 8   critic_score     8137 non-null   float64\n",
      " 9   user_score       10014 non-null  object \n",
      " 10  rating           9949 non-null   object \n",
      "dtypes: float64(6), object(5)\n",
      "memory usage: 1.4+ MB\n"
     ]
    }
   ],
   "source": [
    "# смотрим типы данных и пропуски\n",
    "df.info()"
   ]
  },
  {
   "cell_type": "markdown",
   "metadata": {},
   "source": [
    "Пропуски есть в столбцах name, year_of_release,  genre, critic_score, user_score, rating .\n",
    "\n",
    "Пропуски в столбцах year_of_release, genre могли появиться из-за небрежности при вводе данных. Пропуски в столбцах critic_score, user_score могли возникнуть из-за технической ошибки (программа не подсчитала средний рейтинг игры, сложности в синхронизации с ресурсами, где пользователи и критики выставляют свои оценки). Пропуски в столбце rating могли возникнуть из-за того, что игре не был присвоен определенный рейтинг\n",
    "\n",
    "В большей части из этих столбцов заполнение пропусков предстваляется маловероятным, так как возможно искажение картины. \n",
    "\n",
    "Для начала можно \n",
    "\n",
    "1) удалить 2 строки, где пропущено название игры (name) , так такое количество не повлияет на анализ   \n",
    "2) Изменить тип данных столбца user_score на float, заполнить пропуски только если этого потребует смена типа данных"
   ]
  },
  {
   "cell_type": "code",
   "execution_count": 7,
   "metadata": {},
   "outputs": [],
   "source": [
    "df['critic_score'] = df['critic_score'].astype(float)\n"
   ]
  },
  {
   "cell_type": "code",
   "execution_count": 8,
   "metadata": {},
   "outputs": [
    {
     "data": {
      "text/plain": [
       "array(['8', nan, '8.3', '8.5', '6.6', '8.4', '8.6', '7.7', '6.3', '7.4',\n",
       "       '8.2', '9', '7.9', '8.1', '8.7', '7.1', '3.4', '5.3', '4.8', '3.2',\n",
       "       '8.9', '6.4', '7.8', '7.5', '2.6', '7.2', '9.2', '7', '7.3', '4.3',\n",
       "       '7.6', '5.7', '5', '9.1', '6.5', 'tbd', '8.8', '6.9', '9.4', '6.8',\n",
       "       '6.1', '6.7', '5.4', '4', '4.9', '4.5', '9.3', '6.2', '4.2', '6',\n",
       "       '3.7', '4.1', '5.8', '5.6', '5.5', '4.4', '4.6', '5.9', '3.9',\n",
       "       '3.1', '2.9', '5.2', '3.3', '4.7', '5.1', '3.5', '2.5', '1.9', '3',\n",
       "       '2.7', '2.2', '2', '9.5', '2.1', '3.6', '2.8', '1.8', '3.8', '0',\n",
       "       '1.6', '9.6', '2.4', '1.7', '1.1', '0.3', '1.5', '0.7', '1.2',\n",
       "       '2.3', '0.5', '1.3', '0.2', '0.6', '1.4', '0.9', '1', '9.7'],\n",
       "      dtype=object)"
      ]
     },
     "execution_count": 8,
     "metadata": {},
     "output_type": "execute_result"
    }
   ],
   "source": [
    "\n",
    "df['user_score'].unique()"
   ]
  },
  {
   "cell_type": "code",
   "execution_count": 9,
   "metadata": {},
   "outputs": [
    {
     "data": {
      "text/plain": [
       "2424"
      ]
     },
     "execution_count": 9,
     "metadata": {},
     "output_type": "execute_result"
    }
   ],
   "source": [
    "df[df['user_score']== 'tbd']['name'].count()"
   ]
  },
  {
   "cell_type": "markdown",
   "metadata": {},
   "source": [
    "Мы обнаружили 2424 строки со значением user_score = 'tbd'. Эта аббревиатура означает, что рейтинг неопределен. \n",
    "Для того, чтобы изменить тип данных на float можно заменить tbd на NaN"
   ]
  },
  {
   "cell_type": "code",
   "execution_count": 10,
   "metadata": {},
   "outputs": [],
   "source": [
    "df['user_score'] = df['user_score'].apply(lambda x: None if x == 'tbd' else x)\n",
    "df['user_score'] = df['user_score'].astype(float)\n"
   ]
  },
  {
   "cell_type": "code",
   "execution_count": 11,
   "metadata": {},
   "outputs": [
    {
     "name": "stdout",
     "output_type": "stream",
     "text": [
      "<class 'pandas.core.frame.DataFrame'>\n",
      "RangeIndex: 16715 entries, 0 to 16714\n",
      "Data columns (total 11 columns):\n",
      " #   Column           Non-Null Count  Dtype  \n",
      "---  ------           --------------  -----  \n",
      " 0   name             16713 non-null  object \n",
      " 1   platform         16715 non-null  object \n",
      " 2   year_of_release  16446 non-null  float64\n",
      " 3   genre            16713 non-null  object \n",
      " 4   na_sales         16715 non-null  float64\n",
      " 5   eu_sales         16715 non-null  float64\n",
      " 6   jp_sales         16715 non-null  float64\n",
      " 7   other_sales      16715 non-null  float64\n",
      " 8   critic_score     8137 non-null   float64\n",
      " 9   user_score       7590 non-null   float64\n",
      " 10  rating           9949 non-null   object \n",
      "dtypes: float64(7), object(4)\n",
      "memory usage: 1.4+ MB\n"
     ]
    }
   ],
   "source": [
    "df.info()"
   ]
  },
  {
   "cell_type": "markdown",
   "metadata": {},
   "source": [
    "Итак, мы привели типы данных к нужным. \n",
    "\n",
    "Проверим наличие дубликатов."
   ]
  },
  {
   "cell_type": "code",
   "execution_count": 12,
   "metadata": {},
   "outputs": [
    {
     "data": {
      "text/plain": [
       "0"
      ]
     },
     "execution_count": 12,
     "metadata": {},
     "output_type": "execute_result"
    }
   ],
   "source": [
    "df.duplicated().sum()"
   ]
  },
  {
   "cell_type": "code",
   "execution_count": 54,
   "metadata": {},
   "outputs": [
    {
     "data": {
      "text/html": [
       "<div>\n",
       "<style scoped>\n",
       "    .dataframe tbody tr th:only-of-type {\n",
       "        vertical-align: middle;\n",
       "    }\n",
       "\n",
       "    .dataframe tbody tr th {\n",
       "        vertical-align: top;\n",
       "    }\n",
       "\n",
       "    .dataframe thead th {\n",
       "        text-align: right;\n",
       "    }\n",
       "</style>\n",
       "<table border=\"1\" class=\"dataframe\">\n",
       "  <thead>\n",
       "    <tr style=\"text-align: right;\">\n",
       "      <th></th>\n",
       "      <th>name</th>\n",
       "      <th>platform</th>\n",
       "      <th>year_of_release</th>\n",
       "      <th>genre</th>\n",
       "      <th>na_sales</th>\n",
       "      <th>eu_sales</th>\n",
       "      <th>jp_sales</th>\n",
       "      <th>other_sales</th>\n",
       "      <th>critic_score</th>\n",
       "      <th>user_score</th>\n",
       "      <th>rating</th>\n",
       "      <th>total_sales</th>\n",
       "    </tr>\n",
       "  </thead>\n",
       "  <tbody>\n",
       "    <tr>\n",
       "      <th>604</th>\n",
       "      <td>Madden NFL 13</td>\n",
       "      <td>PS3</td>\n",
       "      <td>2012.0</td>\n",
       "      <td>Sports</td>\n",
       "      <td>2.11</td>\n",
       "      <td>0.22</td>\n",
       "      <td>0.00</td>\n",
       "      <td>0.23</td>\n",
       "      <td>83.0</td>\n",
       "      <td>5.5</td>\n",
       "      <td>E</td>\n",
       "      <td>2.56</td>\n",
       "    </tr>\n",
       "    <tr>\n",
       "      <th>659</th>\n",
       "      <td>NaN</td>\n",
       "      <td>GEN</td>\n",
       "      <td>1993.0</td>\n",
       "      <td>NaN</td>\n",
       "      <td>1.78</td>\n",
       "      <td>0.53</td>\n",
       "      <td>0.00</td>\n",
       "      <td>0.08</td>\n",
       "      <td>NaN</td>\n",
       "      <td>NaN</td>\n",
       "      <td>unknown</td>\n",
       "      <td>2.39</td>\n",
       "    </tr>\n",
       "    <tr>\n",
       "      <th>14244</th>\n",
       "      <td>NaN</td>\n",
       "      <td>GEN</td>\n",
       "      <td>1993.0</td>\n",
       "      <td>NaN</td>\n",
       "      <td>0.00</td>\n",
       "      <td>0.00</td>\n",
       "      <td>0.03</td>\n",
       "      <td>0.00</td>\n",
       "      <td>NaN</td>\n",
       "      <td>NaN</td>\n",
       "      <td>unknown</td>\n",
       "      <td>0.03</td>\n",
       "    </tr>\n",
       "    <tr>\n",
       "      <th>16230</th>\n",
       "      <td>Madden NFL 13</td>\n",
       "      <td>PS3</td>\n",
       "      <td>2012.0</td>\n",
       "      <td>Sports</td>\n",
       "      <td>0.00</td>\n",
       "      <td>0.01</td>\n",
       "      <td>0.00</td>\n",
       "      <td>0.00</td>\n",
       "      <td>83.0</td>\n",
       "      <td>5.5</td>\n",
       "      <td>E</td>\n",
       "      <td>0.01</td>\n",
       "    </tr>\n",
       "  </tbody>\n",
       "</table>\n",
       "</div>"
      ],
      "text/plain": [
       "                name platform  year_of_release   genre  na_sales  eu_sales  \\\n",
       "604    Madden NFL 13      PS3           2012.0  Sports      2.11      0.22   \n",
       "659              NaN      GEN           1993.0     NaN      1.78      0.53   \n",
       "14244            NaN      GEN           1993.0     NaN      0.00      0.00   \n",
       "16230  Madden NFL 13      PS3           2012.0  Sports      0.00      0.01   \n",
       "\n",
       "       jp_sales  other_sales  critic_score  user_score   rating  total_sales  \n",
       "604        0.00         0.23          83.0         5.5        E         2.56  \n",
       "659        0.00         0.08           NaN         NaN  unknown         2.39  \n",
       "14244      0.03         0.00           NaN         NaN  unknown         0.03  \n",
       "16230      0.00         0.00          83.0         5.5        E         0.01  "
      ]
     },
     "execution_count": 54,
     "metadata": {},
     "output_type": "execute_result"
    }
   ],
   "source": [
    "#Код ревьюера\n",
    "df[df[['name', 'platform','year_of_release']].duplicated(keep=False)]"
   ]
  },
  {
   "cell_type": "code",
   "execution_count": 13,
   "metadata": {},
   "outputs": [
    {
     "data": {
      "text/plain": [
       "array(['Wii', 'NES', 'GB', 'DS', 'X360', 'PS3', 'PS2', 'SNES', 'GBA',\n",
       "       'PS4', '3DS', 'N64', 'PS', 'XB', 'PC', '2600', 'PSP', 'XOne',\n",
       "       'WiiU', 'GC', 'GEN', 'DC', 'PSV', 'SAT', 'SCD', 'WS', 'NG', 'TG16',\n",
       "       '3DO', 'GG', 'PCFX'], dtype=object)"
      ]
     },
     "execution_count": 13,
     "metadata": {},
     "output_type": "execute_result"
    }
   ],
   "source": [
    "df['platform'].unique()"
   ]
  },
  {
   "cell_type": "markdown",
   "metadata": {},
   "source": [
    "Среди названий платформ неявных дубликатов не обнаружено. Есть разные версии платформ от одних и тех же создателей, но они существовали в разное время, поэтому не считаются дубликатами"
   ]
  },
  {
   "cell_type": "code",
   "execution_count": 14,
   "metadata": {},
   "outputs": [
    {
     "data": {
      "text/plain": [
       "array([2006., 1985., 2008., 2009., 1996., 1989., 1984., 2005., 1999.,\n",
       "       2007., 2010., 2013., 2004., 1990., 1988., 2002., 2001., 2011.,\n",
       "       1998., 2015., 2012., 2014., 1992., 1997., 1993., 1994., 1982.,\n",
       "       2016., 2003., 1986., 2000.,   nan, 1995., 1991., 1981., 1987.,\n",
       "       1980., 1983.])"
      ]
     },
     "execution_count": 14,
     "metadata": {},
     "output_type": "execute_result"
    }
   ],
   "source": [
    "df['year_of_release'].unique()"
   ]
  },
  {
   "cell_type": "markdown",
   "metadata": {},
   "source": [
    "В строке с годом выпуска дубликатов также нет"
   ]
  },
  {
   "cell_type": "code",
   "execution_count": 15,
   "metadata": {},
   "outputs": [
    {
     "data": {
      "text/plain": [
       "array(['Sports', 'Platform', 'Racing', 'Role-Playing', 'Puzzle', 'Misc',\n",
       "       'Shooter', 'Simulation', 'Action', 'Fighting', 'Adventure',\n",
       "       'Strategy', nan], dtype=object)"
      ]
     },
     "execution_count": 15,
     "metadata": {},
     "output_type": "execute_result"
    }
   ],
   "source": [
    "df['genre'].unique()"
   ]
  },
  {
   "cell_type": "markdown",
   "metadata": {},
   "source": [
    "Среди жанров неявных дубликатов не обнаружено"
   ]
  },
  {
   "cell_type": "code",
   "execution_count": 16,
   "metadata": {},
   "outputs": [
    {
     "data": {
      "text/plain": [
       "array(['E', nan, 'M', 'T', 'E10+', 'K-A', 'AO', 'EC', 'RP'], dtype=object)"
      ]
     },
     "execution_count": 16,
     "metadata": {},
     "output_type": "execute_result"
    }
   ],
   "source": [
    "df['rating'].unique()"
   ]
  },
  {
   "cell_type": "markdown",
   "metadata": {},
   "source": [
    "В рейтингах присутствует устаревшее обозначение игр \"Для всех\" - K-A, которое в 1998 было заменено на E. Так как мы будем анализировать актуальный промежуток времени, а это игры, которые, как минимум  не старше 2000 года, можно посмотреть, встречаются ли эти неявные дубли после 2000 года"
   ]
  },
  {
   "cell_type": "code",
   "execution_count": 17,
   "metadata": {},
   "outputs": [
    {
     "data": {
      "text/html": [
       "<div>\n",
       "<style scoped>\n",
       "    .dataframe tbody tr th:only-of-type {\n",
       "        vertical-align: middle;\n",
       "    }\n",
       "\n",
       "    .dataframe tbody tr th {\n",
       "        vertical-align: top;\n",
       "    }\n",
       "\n",
       "    .dataframe thead th {\n",
       "        text-align: right;\n",
       "    }\n",
       "</style>\n",
       "<table border=\"1\" class=\"dataframe\">\n",
       "  <thead>\n",
       "    <tr style=\"text-align: right;\">\n",
       "      <th></th>\n",
       "      <th>name</th>\n",
       "      <th>platform</th>\n",
       "      <th>year_of_release</th>\n",
       "      <th>genre</th>\n",
       "      <th>na_sales</th>\n",
       "      <th>eu_sales</th>\n",
       "      <th>jp_sales</th>\n",
       "      <th>other_sales</th>\n",
       "      <th>critic_score</th>\n",
       "      <th>user_score</th>\n",
       "      <th>rating</th>\n",
       "    </tr>\n",
       "  </thead>\n",
       "  <tbody>\n",
       "    <tr>\n",
       "      <th>656</th>\n",
       "      <td>Theme Hospital</td>\n",
       "      <td>PC</td>\n",
       "      <td>1997.0</td>\n",
       "      <td>Strategy</td>\n",
       "      <td>2.30</td>\n",
       "      <td>0.10</td>\n",
       "      <td>0.00</td>\n",
       "      <td>0.00</td>\n",
       "      <td>NaN</td>\n",
       "      <td>9.0</td>\n",
       "      <td>K-A</td>\n",
       "    </tr>\n",
       "    <tr>\n",
       "      <th>903</th>\n",
       "      <td>PaRappa The Rapper</td>\n",
       "      <td>PS</td>\n",
       "      <td>1996.0</td>\n",
       "      <td>Misc</td>\n",
       "      <td>0.26</td>\n",
       "      <td>0.16</td>\n",
       "      <td>1.46</td>\n",
       "      <td>0.03</td>\n",
       "      <td>92.0</td>\n",
       "      <td>7.4</td>\n",
       "      <td>K-A</td>\n",
       "    </tr>\n",
       "    <tr>\n",
       "      <th>16681</th>\n",
       "      <td>Worms 2</td>\n",
       "      <td>PC</td>\n",
       "      <td>1997.0</td>\n",
       "      <td>Strategy</td>\n",
       "      <td>0.00</td>\n",
       "      <td>0.01</td>\n",
       "      <td>0.00</td>\n",
       "      <td>0.00</td>\n",
       "      <td>NaN</td>\n",
       "      <td>8.1</td>\n",
       "      <td>K-A</td>\n",
       "    </tr>\n",
       "  </tbody>\n",
       "</table>\n",
       "</div>"
      ],
      "text/plain": [
       "                     name platform  year_of_release     genre  na_sales  \\\n",
       "656        Theme Hospital       PC           1997.0  Strategy      2.30   \n",
       "903    PaRappa The Rapper       PS           1996.0      Misc      0.26   \n",
       "16681             Worms 2       PC           1997.0  Strategy      0.00   \n",
       "\n",
       "       eu_sales  jp_sales  other_sales  critic_score  user_score rating  \n",
       "656        0.10      0.00         0.00           NaN         9.0    K-A  \n",
       "903        0.16      1.46         0.03          92.0         7.4    K-A  \n",
       "16681      0.01      0.00         0.00           NaN         8.1    K-A  "
      ]
     },
     "execution_count": 17,
     "metadata": {},
     "output_type": "execute_result"
    }
   ],
   "source": [
    "df[df['rating'] == 'K-A']"
   ]
  },
  {
   "cell_type": "markdown",
   "metadata": {},
   "source": [
    "Таких игры всего три, и они выпущены ранее 2000 года, поэтому можно проигнорировать эти дубли, в финальную таблицу они не войдут"
   ]
  },
  {
   "cell_type": "code",
   "execution_count": 18,
   "metadata": {},
   "outputs": [
    {
     "data": {
      "text/html": [
       "<div>\n",
       "<style scoped>\n",
       "    .dataframe tbody tr th:only-of-type {\n",
       "        vertical-align: middle;\n",
       "    }\n",
       "\n",
       "    .dataframe tbody tr th {\n",
       "        vertical-align: top;\n",
       "    }\n",
       "\n",
       "    .dataframe thead th {\n",
       "        text-align: right;\n",
       "    }\n",
       "</style>\n",
       "<table border=\"1\" class=\"dataframe\">\n",
       "  <thead>\n",
       "    <tr style=\"text-align: right;\">\n",
       "      <th></th>\n",
       "      <th>name</th>\n",
       "      <th>platform</th>\n",
       "      <th>year_of_release</th>\n",
       "      <th>genre</th>\n",
       "      <th>na_sales</th>\n",
       "      <th>eu_sales</th>\n",
       "      <th>jp_sales</th>\n",
       "      <th>other_sales</th>\n",
       "      <th>critic_score</th>\n",
       "      <th>user_score</th>\n",
       "      <th>rating</th>\n",
       "    </tr>\n",
       "  </thead>\n",
       "  <tbody>\n",
       "    <tr>\n",
       "      <th>1</th>\n",
       "      <td>Super Mario Bros.</td>\n",
       "      <td>NES</td>\n",
       "      <td>1985.0</td>\n",
       "      <td>Platform</td>\n",
       "      <td>29.08</td>\n",
       "      <td>3.58</td>\n",
       "      <td>6.81</td>\n",
       "      <td>0.77</td>\n",
       "      <td>NaN</td>\n",
       "      <td>NaN</td>\n",
       "      <td>NaN</td>\n",
       "    </tr>\n",
       "    <tr>\n",
       "      <th>4</th>\n",
       "      <td>Pokemon Red/Pokemon Blue</td>\n",
       "      <td>GB</td>\n",
       "      <td>1996.0</td>\n",
       "      <td>Role-Playing</td>\n",
       "      <td>11.27</td>\n",
       "      <td>8.89</td>\n",
       "      <td>10.22</td>\n",
       "      <td>1.00</td>\n",
       "      <td>NaN</td>\n",
       "      <td>NaN</td>\n",
       "      <td>NaN</td>\n",
       "    </tr>\n",
       "    <tr>\n",
       "      <th>5</th>\n",
       "      <td>Tetris</td>\n",
       "      <td>GB</td>\n",
       "      <td>1989.0</td>\n",
       "      <td>Puzzle</td>\n",
       "      <td>23.20</td>\n",
       "      <td>2.26</td>\n",
       "      <td>4.22</td>\n",
       "      <td>0.58</td>\n",
       "      <td>NaN</td>\n",
       "      <td>NaN</td>\n",
       "      <td>NaN</td>\n",
       "    </tr>\n",
       "    <tr>\n",
       "      <th>9</th>\n",
       "      <td>Duck Hunt</td>\n",
       "      <td>NES</td>\n",
       "      <td>1984.0</td>\n",
       "      <td>Shooter</td>\n",
       "      <td>26.93</td>\n",
       "      <td>0.63</td>\n",
       "      <td>0.28</td>\n",
       "      <td>0.47</td>\n",
       "      <td>NaN</td>\n",
       "      <td>NaN</td>\n",
       "      <td>NaN</td>\n",
       "    </tr>\n",
       "    <tr>\n",
       "      <th>10</th>\n",
       "      <td>Nintendogs</td>\n",
       "      <td>DS</td>\n",
       "      <td>2005.0</td>\n",
       "      <td>Simulation</td>\n",
       "      <td>9.05</td>\n",
       "      <td>10.95</td>\n",
       "      <td>1.93</td>\n",
       "      <td>2.74</td>\n",
       "      <td>NaN</td>\n",
       "      <td>NaN</td>\n",
       "      <td>NaN</td>\n",
       "    </tr>\n",
       "    <tr>\n",
       "      <th>...</th>\n",
       "      <td>...</td>\n",
       "      <td>...</td>\n",
       "      <td>...</td>\n",
       "      <td>...</td>\n",
       "      <td>...</td>\n",
       "      <td>...</td>\n",
       "      <td>...</td>\n",
       "      <td>...</td>\n",
       "      <td>...</td>\n",
       "      <td>...</td>\n",
       "      <td>...</td>\n",
       "    </tr>\n",
       "    <tr>\n",
       "      <th>16710</th>\n",
       "      <td>Samurai Warriors: Sanada Maru</td>\n",
       "      <td>PS3</td>\n",
       "      <td>2016.0</td>\n",
       "      <td>Action</td>\n",
       "      <td>0.00</td>\n",
       "      <td>0.00</td>\n",
       "      <td>0.01</td>\n",
       "      <td>0.00</td>\n",
       "      <td>NaN</td>\n",
       "      <td>NaN</td>\n",
       "      <td>NaN</td>\n",
       "    </tr>\n",
       "    <tr>\n",
       "      <th>16711</th>\n",
       "      <td>LMA Manager 2007</td>\n",
       "      <td>X360</td>\n",
       "      <td>2006.0</td>\n",
       "      <td>Sports</td>\n",
       "      <td>0.00</td>\n",
       "      <td>0.01</td>\n",
       "      <td>0.00</td>\n",
       "      <td>0.00</td>\n",
       "      <td>NaN</td>\n",
       "      <td>NaN</td>\n",
       "      <td>NaN</td>\n",
       "    </tr>\n",
       "    <tr>\n",
       "      <th>16712</th>\n",
       "      <td>Haitaka no Psychedelica</td>\n",
       "      <td>PSV</td>\n",
       "      <td>2016.0</td>\n",
       "      <td>Adventure</td>\n",
       "      <td>0.00</td>\n",
       "      <td>0.00</td>\n",
       "      <td>0.01</td>\n",
       "      <td>0.00</td>\n",
       "      <td>NaN</td>\n",
       "      <td>NaN</td>\n",
       "      <td>NaN</td>\n",
       "    </tr>\n",
       "    <tr>\n",
       "      <th>16713</th>\n",
       "      <td>Spirits &amp; Spells</td>\n",
       "      <td>GBA</td>\n",
       "      <td>2003.0</td>\n",
       "      <td>Platform</td>\n",
       "      <td>0.01</td>\n",
       "      <td>0.00</td>\n",
       "      <td>0.00</td>\n",
       "      <td>0.00</td>\n",
       "      <td>NaN</td>\n",
       "      <td>NaN</td>\n",
       "      <td>NaN</td>\n",
       "    </tr>\n",
       "    <tr>\n",
       "      <th>16714</th>\n",
       "      <td>Winning Post 8 2016</td>\n",
       "      <td>PSV</td>\n",
       "      <td>2016.0</td>\n",
       "      <td>Simulation</td>\n",
       "      <td>0.00</td>\n",
       "      <td>0.00</td>\n",
       "      <td>0.01</td>\n",
       "      <td>0.00</td>\n",
       "      <td>NaN</td>\n",
       "      <td>NaN</td>\n",
       "      <td>NaN</td>\n",
       "    </tr>\n",
       "  </tbody>\n",
       "</table>\n",
       "<p>6766 rows × 11 columns</p>\n",
       "</div>"
      ],
      "text/plain": [
       "                                name platform  year_of_release         genre  \\\n",
       "1                  Super Mario Bros.      NES           1985.0      Platform   \n",
       "4           Pokemon Red/Pokemon Blue       GB           1996.0  Role-Playing   \n",
       "5                             Tetris       GB           1989.0        Puzzle   \n",
       "9                          Duck Hunt      NES           1984.0       Shooter   \n",
       "10                        Nintendogs       DS           2005.0    Simulation   \n",
       "...                              ...      ...              ...           ...   \n",
       "16710  Samurai Warriors: Sanada Maru      PS3           2016.0        Action   \n",
       "16711               LMA Manager 2007     X360           2006.0        Sports   \n",
       "16712        Haitaka no Psychedelica      PSV           2016.0     Adventure   \n",
       "16713               Spirits & Spells      GBA           2003.0      Platform   \n",
       "16714            Winning Post 8 2016      PSV           2016.0    Simulation   \n",
       "\n",
       "       na_sales  eu_sales  jp_sales  other_sales  critic_score  user_score  \\\n",
       "1         29.08      3.58      6.81         0.77           NaN         NaN   \n",
       "4         11.27      8.89     10.22         1.00           NaN         NaN   \n",
       "5         23.20      2.26      4.22         0.58           NaN         NaN   \n",
       "9         26.93      0.63      0.28         0.47           NaN         NaN   \n",
       "10         9.05     10.95      1.93         2.74           NaN         NaN   \n",
       "...         ...       ...       ...          ...           ...         ...   \n",
       "16710      0.00      0.00      0.01         0.00           NaN         NaN   \n",
       "16711      0.00      0.01      0.00         0.00           NaN         NaN   \n",
       "16712      0.00      0.00      0.01         0.00           NaN         NaN   \n",
       "16713      0.01      0.00      0.00         0.00           NaN         NaN   \n",
       "16714      0.00      0.00      0.01         0.00           NaN         NaN   \n",
       "\n",
       "      rating  \n",
       "1        NaN  \n",
       "4        NaN  \n",
       "5        NaN  \n",
       "9        NaN  \n",
       "10       NaN  \n",
       "...      ...  \n",
       "16710    NaN  \n",
       "16711    NaN  \n",
       "16712    NaN  \n",
       "16713    NaN  \n",
       "16714    NaN  \n",
       "\n",
       "[6766 rows x 11 columns]"
      ]
     },
     "execution_count": 18,
     "metadata": {},
     "output_type": "execute_result"
    }
   ],
   "source": [
    "df[df['rating'].isna()]"
   ]
  },
  {
   "cell_type": "markdown",
   "metadata": {},
   "source": [
    "Пропущенные значения в столбце rating в большинстве совпадают с пропущенными значениями в столбцах critic_score и user_score. \n",
    "Вероятно, данные об этих играх собирались с ресурсов, где не предусмотрены ни оценки пользователей или критиков, ни возрастные рейтинги. В любом случае, можно пока что заменить NaN в столбце с рейтингом на Unknown, чтобы не упустить часть информации для анализа."
   ]
  },
  {
   "cell_type": "code",
   "execution_count": 19,
   "metadata": {},
   "outputs": [],
   "source": [
    "df['rating'] = df['rating'].fillna('unknown')"
   ]
  },
  {
   "cell_type": "code",
   "execution_count": 20,
   "metadata": {},
   "outputs": [],
   "source": [
    "df['total_sales'] = df['na_sales']+df['eu_sales']+df['jp_sales']+df['other_sales']"
   ]
  },
  {
   "cell_type": "code",
   "execution_count": 21,
   "metadata": {},
   "outputs": [
    {
     "data": {
      "text/plain": [
       "11559"
      ]
     },
     "execution_count": 21,
     "metadata": {},
     "output_type": "execute_result"
    }
   ],
   "source": [
    "df['name'].nunique()"
   ]
  },
  {
   "cell_type": "code",
   "execution_count": 22,
   "metadata": {},
   "outputs": [
    {
     "data": {
      "text/html": [
       "<div>\n",
       "<style scoped>\n",
       "    .dataframe tbody tr th:only-of-type {\n",
       "        vertical-align: middle;\n",
       "    }\n",
       "\n",
       "    .dataframe tbody tr th {\n",
       "        vertical-align: top;\n",
       "    }\n",
       "\n",
       "    .dataframe thead th {\n",
       "        text-align: right;\n",
       "    }\n",
       "</style>\n",
       "<table border=\"1\" class=\"dataframe\">\n",
       "  <thead>\n",
       "    <tr style=\"text-align: right;\">\n",
       "      <th></th>\n",
       "      <th>name</th>\n",
       "      <th>platform</th>\n",
       "      <th>year_of_release</th>\n",
       "      <th>genre</th>\n",
       "      <th>na_sales</th>\n",
       "      <th>eu_sales</th>\n",
       "      <th>jp_sales</th>\n",
       "      <th>other_sales</th>\n",
       "      <th>critic_score</th>\n",
       "      <th>user_score</th>\n",
       "      <th>rating</th>\n",
       "      <th>total_sales</th>\n",
       "    </tr>\n",
       "  </thead>\n",
       "  <tbody>\n",
       "    <tr>\n",
       "      <th>1</th>\n",
       "      <td>Super Mario Bros.</td>\n",
       "      <td>NES</td>\n",
       "      <td>1985.0</td>\n",
       "      <td>Platform</td>\n",
       "      <td>29.08</td>\n",
       "      <td>3.58</td>\n",
       "      <td>6.81</td>\n",
       "      <td>0.77</td>\n",
       "      <td>NaN</td>\n",
       "      <td>NaN</td>\n",
       "      <td>unknown</td>\n",
       "      <td>40.24</td>\n",
       "    </tr>\n",
       "    <tr>\n",
       "      <th>201</th>\n",
       "      <td>Super Mario Bros.</td>\n",
       "      <td>GB</td>\n",
       "      <td>1999.0</td>\n",
       "      <td>Platform</td>\n",
       "      <td>3.40</td>\n",
       "      <td>1.30</td>\n",
       "      <td>0.15</td>\n",
       "      <td>0.22</td>\n",
       "      <td>NaN</td>\n",
       "      <td>NaN</td>\n",
       "      <td>unknown</td>\n",
       "      <td>5.07</td>\n",
       "    </tr>\n",
       "  </tbody>\n",
       "</table>\n",
       "</div>"
      ],
      "text/plain": [
       "                  name platform  year_of_release     genre  na_sales  \\\n",
       "1    Super Mario Bros.      NES           1985.0  Platform     29.08   \n",
       "201  Super Mario Bros.       GB           1999.0  Platform      3.40   \n",
       "\n",
       "     eu_sales  jp_sales  other_sales  critic_score  user_score   rating  \\\n",
       "1        3.58      6.81         0.77           NaN         NaN  unknown   \n",
       "201      1.30      0.15         0.22           NaN         NaN  unknown   \n",
       "\n",
       "     total_sales  \n",
       "1          40.24  \n",
       "201         5.07  "
      ]
     },
     "execution_count": 22,
     "metadata": {},
     "output_type": "execute_result"
    }
   ],
   "source": [
    "df[df['name'] == 'Super Mario Bros.'] # выборочно смотрим , чем отличеюися строки с обним названием"
   ]
  },
  {
   "cell_type": "markdown",
   "metadata": {},
   "source": [
    "В столбце с названием игры 11559 уникальное значение при общем количестве строк 16715. Однако, это версии игры, которые были выпущены в разные годы и на разных платформах, так что дубликатами их не считаем"
   ]
  },
  {
   "cell_type": "markdown",
   "metadata": {},
   "source": [
    "Итак, предобработка данных завершена. Можно приступать к исследовательскому анализу данных"
   ]
  },
  {
   "cell_type": "markdown",
   "metadata": {},
   "source": [
    "### Исследовательский анализ данных"
   ]
  },
  {
   "cell_type": "markdown",
   "metadata": {},
   "source": [
    "Для начала посмотрим диапазон годов, за которые есть данные в таблице и количество выпускаемых игр по годам"
   ]
  },
  {
   "cell_type": "code",
   "execution_count": 23,
   "metadata": {},
   "outputs": [
    {
     "data": {
      "image/png": "[encoded data removed]",
      "text/plain": [
       "<Figure size 432x288 with 1 Axes>"
      ]
     },
     "metadata": {
      "needs_background": "light"
     },
     "output_type": "display_data"
    }
   ],
   "source": [
    "df.groupby('year_of_release')['name'].nunique().plot()\n",
    "\n",
    "\n",
    "plt.title('Количество выпущенных игр по годам')\n",
    "plt.xlabel('Год')\n",
    "plt.xlabel('Количество игр')\n",
    "plt.show()"
   ]
  },
  {
   "cell_type": "markdown",
   "metadata": {},
   "source": [
    "Виден резкий рост числа игр с середины 90х , затем спад после 2010 года. После 2010 года за 2 года выпуск игр сократился в 2 раза, к 2016 году количество игр сократилось до уровня 1997 года. Период ранее 2000 года можно вооще не рассматривать, он не важен для анализа в дальнейшем этот период сузим еще"
   ]
  },
  {
   "cell_type": "code",
   "execution_count": 24,
   "metadata": {},
   "outputs": [
    {
     "data": {
      "image/png": "[encoded data removed]",
      "text/plain": [
       "<Figure size 1440x216 with 1 Axes>"
      ]
     },
     "metadata": {
      "needs_background": "light"
     },
     "output_type": "display_data"
    }
   ],
   "source": [
    "platforms = df.groupby('platform')['total_sales'].sum().sort_values(ascending  = False).reset_index()\n",
    "plt.figure(figsize=(20, 3))\n",
    "sns.barplot(x='platform', y='total_sales',  data=platforms)\n",
    "#month_sales\n",
    "\n",
    "plt.title('Распределение платформ по популярности')\n",
    "plt.xlabel('Платформа')\n",
    "plt.ylabel('Количество покупок')\n",
    "plt.show()"
   ]
  },
  {
   "cell_type": "markdown",
   "metadata": {},
   "source": [
    "За весь исследуемый период самыми популярными платформами были PS2, X360, Wii, PS3, DS. Для них посмотрим изменение продаж по годам"
   ]
  },
  {
   "cell_type": "code",
   "execution_count": 25,
   "metadata": {},
   "outputs": [
    {
     "data": {
      "text/plain": [
       "Text(0, 0.5, 'Выручка')"
      ]
     },
     "execution_count": 25,
     "metadata": {},
     "output_type": "execute_result"
    },
    {
     "data": {
      "image/png": "[encoded data removed]",
      "text/plain": [
       "<Figure size 1080x360 with 1 Axes>"
      ]
     },
     "metadata": {
      "needs_background": "light"
     },
     "output_type": "display_data"
    }
   ],
   "source": [
    "top_platforms = ['PS2', 'X360', 'Wii', 'PS3', 'DS']\n",
    "df.query('platform in @top_platforms').pivot_table(index='year_of_release', \n",
    "                                                   columns = 'platform', \n",
    "                                                   values='total_sales', aggfunc='sum').plot(figsize=(15, 5))\n",
    "plt.title('Распределение продаж 5 популятных платформ по годам')\n",
    "plt.xlabel('Год')\n",
    "plt.ylabel('Выручка')"
   ]
  },
  {
   "cell_type": "markdown",
   "metadata": {},
   "source": [
    "Все выбранные платформы вели свою деятельность после 2000 года. Для каждой платформы характерен рост продаж, затем падение до начального уровня. Такой \"период жизни\" занимает примерно 10 лет для каждой платформы. Половину этого времени рост продаж у платформы растет, а половину - падает.  Поэтому для дальнейшего исследования и для построения прогноза на 2017 год возьмем данные за последние полные 5 лет (половина жизненного цикла платформы) - с 2011 по 2016 "
   ]
  },
  {
   "cell_type": "code",
   "execution_count": 26,
   "metadata": {},
   "outputs": [
    {
     "data": {
      "text/html": [
       "<div>\n",
       "<style scoped>\n",
       "    .dataframe tbody tr th:only-of-type {\n",
       "        vertical-align: middle;\n",
       "    }\n",
       "\n",
       "    .dataframe tbody tr th {\n",
       "        vertical-align: top;\n",
       "    }\n",
       "\n",
       "    .dataframe thead th {\n",
       "        text-align: right;\n",
       "    }\n",
       "</style>\n",
       "<table border=\"1\" class=\"dataframe\">\n",
       "  <thead>\n",
       "    <tr style=\"text-align: right;\">\n",
       "      <th></th>\n",
       "      <th>name</th>\n",
       "      <th>platform</th>\n",
       "      <th>year_of_release</th>\n",
       "      <th>genre</th>\n",
       "      <th>na_sales</th>\n",
       "      <th>eu_sales</th>\n",
       "      <th>jp_sales</th>\n",
       "      <th>other_sales</th>\n",
       "      <th>critic_score</th>\n",
       "      <th>user_score</th>\n",
       "      <th>rating</th>\n",
       "      <th>total_sales</th>\n",
       "    </tr>\n",
       "  </thead>\n",
       "  <tbody>\n",
       "    <tr>\n",
       "      <th>16</th>\n",
       "      <td>Grand Theft Auto V</td>\n",
       "      <td>PS3</td>\n",
       "      <td>2013.0</td>\n",
       "      <td>Action</td>\n",
       "      <td>7.02</td>\n",
       "      <td>9.09</td>\n",
       "      <td>0.98</td>\n",
       "      <td>3.96</td>\n",
       "      <td>97.0</td>\n",
       "      <td>8.2</td>\n",
       "      <td>M</td>\n",
       "      <td>21.05</td>\n",
       "    </tr>\n",
       "    <tr>\n",
       "      <th>23</th>\n",
       "      <td>Grand Theft Auto V</td>\n",
       "      <td>X360</td>\n",
       "      <td>2013.0</td>\n",
       "      <td>Action</td>\n",
       "      <td>9.66</td>\n",
       "      <td>5.14</td>\n",
       "      <td>0.06</td>\n",
       "      <td>1.41</td>\n",
       "      <td>97.0</td>\n",
       "      <td>8.1</td>\n",
       "      <td>M</td>\n",
       "      <td>16.27</td>\n",
       "    </tr>\n",
       "    <tr>\n",
       "      <th>29</th>\n",
       "      <td>Call of Duty: Modern Warfare 3</td>\n",
       "      <td>X360</td>\n",
       "      <td>2011.0</td>\n",
       "      <td>Shooter</td>\n",
       "      <td>9.04</td>\n",
       "      <td>4.24</td>\n",
       "      <td>0.13</td>\n",
       "      <td>1.32</td>\n",
       "      <td>88.0</td>\n",
       "      <td>3.4</td>\n",
       "      <td>M</td>\n",
       "      <td>14.73</td>\n",
       "    </tr>\n",
       "    <tr>\n",
       "      <th>31</th>\n",
       "      <td>Call of Duty: Black Ops 3</td>\n",
       "      <td>PS4</td>\n",
       "      <td>2015.0</td>\n",
       "      <td>Shooter</td>\n",
       "      <td>6.03</td>\n",
       "      <td>5.86</td>\n",
       "      <td>0.36</td>\n",
       "      <td>2.38</td>\n",
       "      <td>NaN</td>\n",
       "      <td>NaN</td>\n",
       "      <td>unknown</td>\n",
       "      <td>14.63</td>\n",
       "    </tr>\n",
       "    <tr>\n",
       "      <th>33</th>\n",
       "      <td>Pokemon X/Pokemon Y</td>\n",
       "      <td>3DS</td>\n",
       "      <td>2013.0</td>\n",
       "      <td>Role-Playing</td>\n",
       "      <td>5.28</td>\n",
       "      <td>4.19</td>\n",
       "      <td>4.35</td>\n",
       "      <td>0.78</td>\n",
       "      <td>NaN</td>\n",
       "      <td>NaN</td>\n",
       "      <td>unknown</td>\n",
       "      <td>14.60</td>\n",
       "    </tr>\n",
       "  </tbody>\n",
       "</table>\n",
       "</div>"
      ],
      "text/plain": [
       "                              name platform  year_of_release         genre  \\\n",
       "16              Grand Theft Auto V      PS3           2013.0        Action   \n",
       "23              Grand Theft Auto V     X360           2013.0        Action   \n",
       "29  Call of Duty: Modern Warfare 3     X360           2011.0       Shooter   \n",
       "31       Call of Duty: Black Ops 3      PS4           2015.0       Shooter   \n",
       "33             Pokemon X/Pokemon Y      3DS           2013.0  Role-Playing   \n",
       "\n",
       "    na_sales  eu_sales  jp_sales  other_sales  critic_score  user_score  \\\n",
       "16      7.02      9.09      0.98         3.96          97.0         8.2   \n",
       "23      9.66      5.14      0.06         1.41          97.0         8.1   \n",
       "29      9.04      4.24      0.13         1.32          88.0         3.4   \n",
       "31      6.03      5.86      0.36         2.38           NaN         NaN   \n",
       "33      5.28      4.19      4.35         0.78           NaN         NaN   \n",
       "\n",
       "     rating  total_sales  \n",
       "16        M        21.05  \n",
       "23        M        16.27  \n",
       "29        M        14.73  \n",
       "31  unknown        14.63  \n",
       "33  unknown        14.60  "
      ]
     },
     "execution_count": 26,
     "metadata": {},
     "output_type": "execute_result"
    }
   ],
   "source": [
    "df_actual = df[df['year_of_release'] >= 2011]\n",
    "df_actual.head()"
   ]
  },
  {
   "cell_type": "code",
   "execution_count": 27,
   "metadata": {},
   "outputs": [
    {
     "data": {
      "text/html": [
       "<div>\n",
       "<style scoped>\n",
       "    .dataframe tbody tr th:only-of-type {\n",
       "        vertical-align: middle;\n",
       "    }\n",
       "\n",
       "    .dataframe tbody tr th {\n",
       "        vertical-align: top;\n",
       "    }\n",
       "\n",
       "    .dataframe thead th {\n",
       "        text-align: right;\n",
       "    }\n",
       "</style>\n",
       "<table border=\"1\" class=\"dataframe\">\n",
       "  <thead>\n",
       "    <tr style=\"text-align: right;\">\n",
       "      <th></th>\n",
       "      <th>platform</th>\n",
       "      <th>total_sales</th>\n",
       "    </tr>\n",
       "  </thead>\n",
       "  <tbody>\n",
       "    <tr>\n",
       "      <th>0</th>\n",
       "      <td>PS3</td>\n",
       "      <td>445.57</td>\n",
       "    </tr>\n",
       "    <tr>\n",
       "      <th>1</th>\n",
       "      <td>X360</td>\n",
       "      <td>380.38</td>\n",
       "    </tr>\n",
       "    <tr>\n",
       "      <th>2</th>\n",
       "      <td>PS4</td>\n",
       "      <td>314.14</td>\n",
       "    </tr>\n",
       "    <tr>\n",
       "      <th>3</th>\n",
       "      <td>3DS</td>\n",
       "      <td>257.81</td>\n",
       "    </tr>\n",
       "    <tr>\n",
       "      <th>4</th>\n",
       "      <td>XOne</td>\n",
       "      <td>159.32</td>\n",
       "    </tr>\n",
       "  </tbody>\n",
       "</table>\n",
       "</div>"
      ],
      "text/plain": [
       "  platform  total_sales\n",
       "0      PS3       445.57\n",
       "1     X360       380.38\n",
       "2      PS4       314.14\n",
       "3      3DS       257.81\n",
       "4     XOne       159.32"
      ]
     },
     "execution_count": 27,
     "metadata": {},
     "output_type": "execute_result"
    }
   ],
   "source": [
    "df_actual.groupby('platform')['total_sales'].sum().sort_values(ascending  = False).reset_index().head()"
   ]
  },
  {
   "cell_type": "markdown",
   "metadata": {},
   "source": [
    "В актуальном периоде по объему выручки лидируют PS3,X360, PS4"
   ]
  },
  {
   "cell_type": "markdown",
   "metadata": {},
   "source": [
    "Построим график распределения выручки по годам для всех платформ за период 2011 - 2016"
   ]
  },
  {
   "cell_type": "code",
   "execution_count": 28,
   "metadata": {},
   "outputs": [
    {
     "data": {
      "text/plain": [
       "Text(0, 0.5, 'Выручка')"
      ]
     },
     "execution_count": 28,
     "metadata": {},
     "output_type": "execute_result"
    },
    {
     "data": {
      "image/png": "[encoded data removed]",
      "text/plain": [
       "<Figure size 1080x360 with 1 Axes>"
      ]
     },
     "metadata": {
      "needs_background": "light"
     },
     "output_type": "display_data"
    }
   ],
   "source": [
    "\n",
    "df_actual.pivot_table(index='year_of_release', columns = 'platform', \n",
    "                                                   values='total_sales', aggfunc='sum').plot(figsize=(15, 5))\n",
    "plt.title('Распределение продаж платформ 2011-2016')\n",
    "plt.xlabel('Год')\n",
    "plt.ylabel('Выручка')"
   ]
  },
  {
   "cell_type": "markdown",
   "metadata": {},
   "source": [
    "График выглядит перегруженным из-за присутствия более 10 платформ. Однако на нем заметно, что часть платформ перестала существовать до 2011 года, а часть появилась после того времени. Сделаем еще один график на временном интервале 2013 - 2016"
   ]
  },
  {
   "cell_type": "code",
   "execution_count": 29,
   "metadata": {},
   "outputs": [
    {
     "data": {
      "image/png": "[encoded data removed]",
      "text/plain": [
       "<Figure size 720x360 with 1 Axes>"
      ]
     },
     "metadata": {
      "needs_background": "light"
     },
     "output_type": "display_data"
    }
   ],
   "source": [
    "df[df['year_of_release'] >= 2013].pivot_table(index='year_of_release', columns = 'platform', \n",
    "                                                   values='total_sales', aggfunc='sum').plot(figsize=(10, 5))\n",
    "plt.title('Распределение продаж платформ 2011-2016')\n",
    "plt.xlabel('Год')\n",
    "plt.ylabel('Выручка')\n",
    "plt.show()"
   ]
  },
  {
   "cell_type": "markdown",
   "metadata": {},
   "source": [
    "У всех платформ, даже у новых, продажи падают.Однако, учитывая факт, что данные за 2016 год могут быть неполными (вероятно на момент выгрузки данных 2016 год еще не закончился), то не следует рассматривать падение в 2016 году как 100% истину.  \n",
    "\n",
    "Односительно стабильный уровень продаж у молодых WiiU, PSV. Платформы PS4 ， Xone показывали рост до 2015 года. Падение в 2016 году можеть быть вызвано неполнотой данных, поэтому можно предположить, что рост продаж продолжится (так как с момента появляения платформ прошло только 3 года) \n",
    "\n",
    "\n",
    "Итого, потенциально прибыльными можно считать платформы: \n",
    "* PS4\n",
    "* XOne\n",
    "* WiiU"
   ]
  },
  {
   "cell_type": "code",
   "execution_count": 30,
   "metadata": {},
   "outputs": [
    {
     "data": {
      "image/png": "[encoded data removed]",
      "text/plain": [
       "<Figure size 432x288 with 1 Axes>"
      ]
     },
     "metadata": {
      "needs_background": "light"
     },
     "output_type": "display_data"
    }
   ],
   "source": [
    "# строим график продаж игр в разбивке по платформам\n",
    "sns.boxplot(data = df_actual, \n",
    "                      x = 'platform',\n",
    "                      y = 'total_sales')\n",
    "                      \n",
    "plt.title('Распределение продаж платформ 2006-2016')\n",
    "plt.xlabel('Платформа')\n",
    "plt.ylabel('Выручка')\n",
    "plt.ylim(0, 1)\n",
    "plt.show()"
   ]
  },
  {
   "cell_type": "markdown",
   "metadata": {},
   "source": [
    "Самое высокое медианное значение выручки за игру у платформ PS3, X360, XOne, PS4.  \n",
    "Самое низкое - у DC, PC, PSV.  \n",
    "\n",
    "Среди выбранных нами потенциально прибыльных платформ неплохие результаты показывают платформы wiiU (медианное значение продаж несильно отстает от X360), XOne."
   ]
  },
  {
   "cell_type": "markdown",
   "metadata": {},
   "source": [
    "Возьмем одну из наиболее успешных платформ за актуальный период времени - Х360. Посмотрим, влияют ли оценки пользователей и критиков на продажи"
   ]
  },
  {
   "cell_type": "code",
   "execution_count": 31,
   "metadata": {},
   "outputs": [
    {
     "data": {
      "image/png": "[encoded data removed]",
      "text/plain": [
       "<Figure size 1080x288 with 2 Axes>"
      ]
     },
     "metadata": {
      "needs_background": "light"
     },
     "output_type": "display_data"
    }
   ],
   "source": [
    "# строем диаграммы рассеяния для  оценки корреляции продаж и оценок пользователей и критиков для платформы X360\n",
    "plt.figure(figsize=(15,4)) \n",
    "plt.subplot(1,2,1)\n",
    "\n",
    "plt.scatter(x = 'user_score', y = 'total_sales', data = df_actual[df_actual['platform'] == 'X360'])\n",
    "plt.title('Корреляция продаж с оценкой пользователей у платформы X360')\n",
    "plt.xlabel('Оценка пользователей')\n",
    "plt.ylabel('Выручка')\n",
    "plt.subplot(1,2,2)\n",
    "plt.scatter(x = 'critic_score', y = 'total_sales', data = df_actual[df_actual['platform'] == 'X360'])\n",
    "plt.title('Корреляция продаж с оценкой критиков у платформы X360')\n",
    "plt.xlabel('Оценка критиков')\n",
    "plt.ylabel('Выручка')\n",
    "plt.show()"
   ]
  },
  {
   "cell_type": "markdown",
   "metadata": {},
   "source": [
    "На диаграммах не прослеживается четкая зависимость между оценками и уровнем продаж, однако какое-то влияние оценки все же могут оказывать (на графике с оценками критиков при высоких оценках более высокие продажи) . Посчитаем корреляцию"
   ]
  },
  {
   "cell_type": "code",
   "execution_count": 32,
   "metadata": {},
   "outputs": [
    {
     "data": {
      "text/plain": [
       "<AxesSubplot:>"
      ]
     },
     "execution_count": 32,
     "metadata": {},
     "output_type": "execute_result"
    },
    {
     "data": {
      "image/png": "[encoded data removed]",
      "text/plain": [
       "<Figure size 360x360 with 2 Axes>"
      ]
     },
     "metadata": {
      "needs_background": "light"
     },
     "output_type": "display_data"
    }
   ],
   "source": [
    "\n",
    "X360 = df_actual[df_actual['platform'] == 'X360']\n",
    "cm = X360[['critic_score','user_score', 'total_sales']].corr() #вычисляем матрицу корреляций\n",
    "\n",
    "\n",
    "from matplotlib.pyplot import figure\n",
    "\n",
    "figure(figsize=(5, 5));\n",
    "\n",
    "#нарисуем тепловую карту с подписями для матрицы корреляций\n",
    "sns.heatmap(cm, annot=True, square=True) #ваш код здесь"
   ]
  },
  {
   "cell_type": "markdown",
   "metadata": {},
   "source": [
    "Корреляция общих продаж и оценки критиков - 0.39 , что не является очень сильной корреляцией, но можно сказать, что оценки критиков могут оказывать определенное влияние на продажи игры.  \n",
    "\n",
    "Корреляция общих продаж и оценок пользователей составляет 0.039, можно сказать что тут оценки пользователей не влияют на уровень продаж"
   ]
  },
  {
   "cell_type": "markdown",
   "metadata": {},
   "source": [
    "Посчитаем корреляцию для остальных платформ. Так как их все же много, то посмотрим корреляцию у выборочно у XOne, PS4, WiiU, PS3"
   ]
  },
  {
   "cell_type": "code",
   "execution_count": 33,
   "metadata": {},
   "outputs": [
    {
     "data": {
      "text/html": [
       "<div>\n",
       "<style scoped>\n",
       "    .dataframe tbody tr th:only-of-type {\n",
       "        vertical-align: middle;\n",
       "    }\n",
       "\n",
       "    .dataframe tbody tr th {\n",
       "        vertical-align: top;\n",
       "    }\n",
       "\n",
       "    .dataframe thead th {\n",
       "        text-align: right;\n",
       "    }\n",
       "</style>\n",
       "<table border=\"1\" class=\"dataframe\">\n",
       "  <thead>\n",
       "    <tr style=\"text-align: right;\">\n",
       "      <th></th>\n",
       "      <th>critic_score</th>\n",
       "      <th>user_score</th>\n",
       "      <th>total_sales</th>\n",
       "    </tr>\n",
       "  </thead>\n",
       "  <tbody>\n",
       "    <tr>\n",
       "      <th>critic_score</th>\n",
       "      <td>1.000000</td>\n",
       "      <td>0.472462</td>\n",
       "      <td>0.416998</td>\n",
       "    </tr>\n",
       "    <tr>\n",
       "      <th>user_score</th>\n",
       "      <td>0.472462</td>\n",
       "      <td>1.000000</td>\n",
       "      <td>-0.068925</td>\n",
       "    </tr>\n",
       "    <tr>\n",
       "      <th>total_sales</th>\n",
       "      <td>0.416998</td>\n",
       "      <td>-0.068925</td>\n",
       "      <td>1.000000</td>\n",
       "    </tr>\n",
       "  </tbody>\n",
       "</table>\n",
       "</div>"
      ],
      "text/plain": [
       "              critic_score  user_score  total_sales\n",
       "critic_score      1.000000    0.472462     0.416998\n",
       "user_score        0.472462    1.000000    -0.068925\n",
       "total_sales       0.416998   -0.068925     1.000000"
      ]
     },
     "execution_count": 33,
     "metadata": {},
     "output_type": "execute_result"
    }
   ],
   "source": [
    "XOne = df_actual.query('platform == \"XOne\"')\n",
    "XOne_corr= XOne[['critic_score','user_score', 'total_sales']].corr()\n",
    "XOne_corr\n"
   ]
  },
  {
   "cell_type": "code",
   "execution_count": 34,
   "metadata": {},
   "outputs": [
    {
     "data": {
      "text/html": [
       "<div>\n",
       "<style scoped>\n",
       "    .dataframe tbody tr th:only-of-type {\n",
       "        vertical-align: middle;\n",
       "    }\n",
       "\n",
       "    .dataframe tbody tr th {\n",
       "        vertical-align: top;\n",
       "    }\n",
       "\n",
       "    .dataframe thead th {\n",
       "        text-align: right;\n",
       "    }\n",
       "</style>\n",
       "<table border=\"1\" class=\"dataframe\">\n",
       "  <thead>\n",
       "    <tr style=\"text-align: right;\">\n",
       "      <th></th>\n",
       "      <th>critic_score</th>\n",
       "      <th>user_score</th>\n",
       "      <th>total_sales</th>\n",
       "    </tr>\n",
       "  </thead>\n",
       "  <tbody>\n",
       "    <tr>\n",
       "      <th>critic_score</th>\n",
       "      <td>1.000000</td>\n",
       "      <td>0.557654</td>\n",
       "      <td>0.406568</td>\n",
       "    </tr>\n",
       "    <tr>\n",
       "      <th>user_score</th>\n",
       "      <td>0.557654</td>\n",
       "      <td>1.000000</td>\n",
       "      <td>-0.031957</td>\n",
       "    </tr>\n",
       "    <tr>\n",
       "      <th>total_sales</th>\n",
       "      <td>0.406568</td>\n",
       "      <td>-0.031957</td>\n",
       "      <td>1.000000</td>\n",
       "    </tr>\n",
       "  </tbody>\n",
       "</table>\n",
       "</div>"
      ],
      "text/plain": [
       "              critic_score  user_score  total_sales\n",
       "critic_score      1.000000    0.557654     0.406568\n",
       "user_score        0.557654    1.000000    -0.031957\n",
       "total_sales       0.406568   -0.031957     1.000000"
      ]
     },
     "execution_count": 34,
     "metadata": {},
     "output_type": "execute_result"
    }
   ],
   "source": [
    "PS4 = df_actual.query('platform == \"PS4\"')\n",
    "PS4_corr= PS4[['critic_score','user_score', 'total_sales']].corr()\n",
    "PS4_corr"
   ]
  },
  {
   "cell_type": "code",
   "execution_count": 35,
   "metadata": {},
   "outputs": [
    {
     "data": {
      "text/html": [
       "<div>\n",
       "<style scoped>\n",
       "    .dataframe tbody tr th:only-of-type {\n",
       "        vertical-align: middle;\n",
       "    }\n",
       "\n",
       "    .dataframe tbody tr th {\n",
       "        vertical-align: top;\n",
       "    }\n",
       "\n",
       "    .dataframe thead th {\n",
       "        text-align: right;\n",
       "    }\n",
       "</style>\n",
       "<table border=\"1\" class=\"dataframe\">\n",
       "  <thead>\n",
       "    <tr style=\"text-align: right;\">\n",
       "      <th></th>\n",
       "      <th>critic_score</th>\n",
       "      <th>user_score</th>\n",
       "      <th>total_sales</th>\n",
       "    </tr>\n",
       "  </thead>\n",
       "  <tbody>\n",
       "    <tr>\n",
       "      <th>critic_score</th>\n",
       "      <td>1.00000</td>\n",
       "      <td>0.770080</td>\n",
       "      <td>0.348380</td>\n",
       "    </tr>\n",
       "    <tr>\n",
       "      <th>user_score</th>\n",
       "      <td>0.77008</td>\n",
       "      <td>1.000000</td>\n",
       "      <td>0.400219</td>\n",
       "    </tr>\n",
       "    <tr>\n",
       "      <th>total_sales</th>\n",
       "      <td>0.34838</td>\n",
       "      <td>0.400219</td>\n",
       "      <td>1.000000</td>\n",
       "    </tr>\n",
       "  </tbody>\n",
       "</table>\n",
       "</div>"
      ],
      "text/plain": [
       "              critic_score  user_score  total_sales\n",
       "critic_score       1.00000    0.770080     0.348380\n",
       "user_score         0.77008    1.000000     0.400219\n",
       "total_sales        0.34838    0.400219     1.000000"
      ]
     },
     "execution_count": 35,
     "metadata": {},
     "output_type": "execute_result"
    }
   ],
   "source": [
    "WiiU = df_actual.query('platform == \"WiiU\"')\n",
    "WiiU_corr= WiiU[['critic_score','user_score', 'total_sales']].corr()\n",
    "WiiU_corr\n"
   ]
  },
  {
   "cell_type": "code",
   "execution_count": 36,
   "metadata": {},
   "outputs": [
    {
     "data": {
      "text/html": [
       "<div>\n",
       "<style scoped>\n",
       "    .dataframe tbody tr th:only-of-type {\n",
       "        vertical-align: middle;\n",
       "    }\n",
       "\n",
       "    .dataframe tbody tr th {\n",
       "        vertical-align: top;\n",
       "    }\n",
       "\n",
       "    .dataframe thead th {\n",
       "        text-align: right;\n",
       "    }\n",
       "</style>\n",
       "<table border=\"1\" class=\"dataframe\">\n",
       "  <thead>\n",
       "    <tr style=\"text-align: right;\">\n",
       "      <th></th>\n",
       "      <th>critic_score</th>\n",
       "      <th>user_score</th>\n",
       "      <th>total_sales</th>\n",
       "    </tr>\n",
       "  </thead>\n",
       "  <tbody>\n",
       "    <tr>\n",
       "      <th>critic_score</th>\n",
       "      <td>1.000000</td>\n",
       "      <td>0.745222</td>\n",
       "      <td>0.348740</td>\n",
       "    </tr>\n",
       "    <tr>\n",
       "      <th>user_score</th>\n",
       "      <td>0.745222</td>\n",
       "      <td>1.000000</td>\n",
       "      <td>0.222078</td>\n",
       "    </tr>\n",
       "    <tr>\n",
       "      <th>total_sales</th>\n",
       "      <td>0.348740</td>\n",
       "      <td>0.222078</td>\n",
       "      <td>1.000000</td>\n",
       "    </tr>\n",
       "  </tbody>\n",
       "</table>\n",
       "</div>"
      ],
      "text/plain": [
       "              critic_score  user_score  total_sales\n",
       "critic_score      1.000000    0.745222     0.348740\n",
       "user_score        0.745222    1.000000     0.222078\n",
       "total_sales       0.348740    0.222078     1.000000"
      ]
     },
     "execution_count": 36,
     "metadata": {},
     "output_type": "execute_result"
    }
   ],
   "source": [
    "_3DS = df_actual.query('platform == \"3DS\"')\n",
    "_3DS_corr = _3DS[['critic_score','user_score', 'total_sales']].corr()\n",
    "_3DS_corr"
   ]
  },
  {
   "cell_type": "markdown",
   "metadata": {},
   "source": [
    "Можно заметить, что у всех платформ корреляция между уровнем продаж и оценками критиком примерно одинаковая 0.34-0.41. \n",
    "\n",
    "Что касается отзывов пользователей, то они оказывают большее влияние на продажи платформ, у которых пока что невысокие общие продажи ( 3DS, WiiU) , а у уже состоявшихся на рынке (XOne, PS4, X360) оценки пользователей никак не влияют на продажи"
   ]
  },
  {
   "cell_type": "markdown",
   "metadata": {},
   "source": [
    "Построим диаграммы рассеяния для платформ, для которых мы посчитали корреляцию выше"
   ]
  },
  {
   "cell_type": "code",
   "execution_count": 37,
   "metadata": {},
   "outputs": [
    {
     "data": {
      "image/png": "[encoded data removed]",
      "text/plain": [
       "<Figure size 720x720 with 4 Axes>"
      ]
     },
     "metadata": {
      "needs_background": "light"
     },
     "output_type": "display_data"
    }
   ],
   "source": [
    "# диаграммы рассеяния: корреляция оценок пользователей и продаж\n",
    "platforms = ['XOne', 'PS4', 'WiiU', '3DS']\n",
    "\n",
    "fig, axes = plt.subplots(\n",
    "    len( \n",
    "    platforms),1, figsize = (10,10))\n",
    "\n",
    "\n",
    "for i,platform in enumerate(platforms): \n",
    "    \n",
    "        axes[i].scatter(x = 'user_score', y = 'total_sales', data = df_actual[df_actual['platform'] == platform])\n",
    "        \n",
    "        axes[i].set_title(f'Корреляция продаж с оценкой пользователей у платформы {platform}')\n",
    "        axes[i].set_xlabel('Оценка пользователей')\n",
    "        axes[i].set_ylabel('Выручка')\n",
    "        \n",
    "plt.tight_layout()\n",
    "    "
   ]
  },
  {
   "cell_type": "code",
   "execution_count": 38,
   "metadata": {},
   "outputs": [
    {
     "data": {
      "image/png": "[encoded data removed]",
      "text/plain": [
       "<Figure size 720x720 with 4 Axes>"
      ]
     },
     "metadata": {
      "needs_background": "light"
     },
     "output_type": "display_data"
    }
   ],
   "source": [
    "# диаграммы рассеяния: корреляция оценок критиков и продаж\n",
    "platforms = ['XOne', 'PS4', 'WiiU', '3DS']\n",
    "\n",
    "fig, axes = plt.subplots(\n",
    "    len( \n",
    "    platforms),1, figsize = (10,10))\n",
    "\n",
    "\n",
    "for i,platform in enumerate(platforms): \n",
    "    \n",
    "        axes[i].scatter(x = 'critic_score', y = 'total_sales', data = df_actual[df_actual['platform'] == platform])\n",
    "        \n",
    "        axes[i].set_title(f'Корреляция продаж с оценкой пользователей у платформы {platform}')\n",
    "        axes[i].set_xlabel('Оценка пользователей')\n",
    "        axes[i].set_ylabel('Выручка')\n",
    "        \n",
    "plt.tight_layout()"
   ]
  },
  {
   "cell_type": "markdown",
   "metadata": {},
   "source": [
    "По диаграммам так же видно, что оценки критиков сильнее влияют на продажи, чем оценки пользователей. При этом у платформ WiiU и 3DS оценки критиков влияют на продажи только небольшого числа игр"
   ]
  },
  {
   "cell_type": "markdown",
   "metadata": {},
   "source": [
    "Изучим самые прибыльные жанры и количество игр в этих жанрах"
   ]
  },
  {
   "cell_type": "code",
   "execution_count": 39,
   "metadata": {},
   "outputs": [
    {
     "data": {
      "image/png": "[encoded data removed]",
      "text/plain": [
       "<Figure size 432x288 with 1 Axes>"
      ]
     },
     "metadata": {
      "needs_background": "light"
     },
     "output_type": "display_data"
    }
   ],
   "source": [
    "df_actual.groupby('genre')['total_sales'].sum().sort_values(ascending = False).plot(kind = 'bar')\n",
    "plt.title('Распределение суммы продаж по жанрам')\n",
    "plt.xlabel('Жанр')\n",
    "plt.ylabel('Выручка')\n",
    "plt.show()"
   ]
  },
  {
   "cell_type": "code",
   "execution_count": 40,
   "metadata": {},
   "outputs": [
    {
     "data": {
      "image/png": "[encoded data removed]",
      "text/plain": [
       "<Figure size 432x288 with 1 Axes>"
      ]
     },
     "metadata": {
      "needs_background": "light"
     },
     "output_type": "display_data"
    }
   ],
   "source": [
    "df_actual.groupby('genre')['name'].count().sort_values(ascending = False).plot(kind = 'bar')\n",
    "plt.title('Распределение количества игр по жанрам')\n",
    "plt.xlabel('Жанр')\n",
    "plt.ylabel('Количество игр')\n",
    "plt.show()"
   ]
  },
  {
   "cell_type": "code",
   "execution_count": 41,
   "metadata": {},
   "outputs": [
    {
     "data": {
      "text/html": [
       "<div>\n",
       "<style scoped>\n",
       "    .dataframe tbody tr th:only-of-type {\n",
       "        vertical-align: middle;\n",
       "    }\n",
       "\n",
       "    .dataframe tbody tr th {\n",
       "        vertical-align: top;\n",
       "    }\n",
       "\n",
       "    .dataframe thead th {\n",
       "        text-align: right;\n",
       "    }\n",
       "</style>\n",
       "<table border=\"1\" class=\"dataframe\">\n",
       "  <thead>\n",
       "    <tr style=\"text-align: right;\">\n",
       "      <th></th>\n",
       "      <th>total_sales</th>\n",
       "      <th>name</th>\n",
       "      <th>sales_per_game</th>\n",
       "    </tr>\n",
       "    <tr>\n",
       "      <th>genre</th>\n",
       "      <th></th>\n",
       "      <th></th>\n",
       "      <th></th>\n",
       "    </tr>\n",
       "  </thead>\n",
       "  <tbody>\n",
       "    <tr>\n",
       "      <th>Shooter</th>\n",
       "      <td>402.91</td>\n",
       "      <td>329</td>\n",
       "      <td>1.22</td>\n",
       "    </tr>\n",
       "    <tr>\n",
       "      <th>Platform</th>\n",
       "      <td>88.68</td>\n",
       "      <td>122</td>\n",
       "      <td>0.73</td>\n",
       "    </tr>\n",
       "    <tr>\n",
       "      <th>Sports</th>\n",
       "      <td>237.15</td>\n",
       "      <td>389</td>\n",
       "      <td>0.61</td>\n",
       "    </tr>\n",
       "    <tr>\n",
       "      <th>Role-Playing</th>\n",
       "      <td>245.63</td>\n",
       "      <td>465</td>\n",
       "      <td>0.53</td>\n",
       "    </tr>\n",
       "    <tr>\n",
       "      <th>Racing</th>\n",
       "      <td>88.31</td>\n",
       "      <td>180</td>\n",
       "      <td>0.49</td>\n",
       "    </tr>\n",
       "  </tbody>\n",
       "</table>\n",
       "</div>"
      ],
      "text/plain": [
       "              total_sales  name  sales_per_game\n",
       "genre                                          \n",
       "Shooter            402.91   329            1.22\n",
       "Platform            88.68   122            0.73\n",
       "Sports             237.15   389            0.61\n",
       "Role-Playing       245.63   465            0.53\n",
       "Racing              88.31   180            0.49"
      ]
     },
     "execution_count": 41,
     "metadata": {},
     "output_type": "execute_result"
    }
   ],
   "source": [
    "# рассмотрим продажи по жанрам в относительных величинах - сумма продаж в отношении к количеству игр\n",
    "\n",
    "genre= df_actual.groupby('genre').agg({'total_sales': 'sum', 'name': 'count'})\n",
    "genre['sales_per_game'] = round(genre['total_sales'] / genre['name'] , 2)\n",
    "genre.sort_values(by = 'sales_per_game', ascending = False).head()"
   ]
  },
  {
   "cell_type": "markdown",
   "metadata": {},
   "source": [
    "Игр в жанре 'Action' действительно больше по количеству, однако это не самый прибыльный жанр в относительных значениях. Самый прибыльный жанр при расчете прибыли за игру - Schooter. На втором месте - Platform (платформеры), а на третьем - Sports"
   ]
  },
  {
   "cell_type": "markdown",
   "metadata": {},
   "source": [
    "**Выводы по разделу:**\n",
    "\n",
    "* Средний срок существования платформы - 10 лет\n",
    "* За период 2005 - 2016 самые высокие продажи были у платформ  X360, Wii, PS3\n",
    "* Продажи на всех платформах падают, но с разной скоростью. Однако падение в 2016 году может быть обусловлено неполнотой данных по продажам за 2016 год\n",
    "* Потенциально перспективные платформы - PS4, XOne, WiiU\n",
    "* У всех платформ корреляция между уровнем продаж и оценками критиком примерно одинаковая 0.34-0.41 (не прямая зависимость, но определенное влияние есть). Оценки пользователей оказывают большее влияние на продажи у молодых платформ ( 3DS, WiiU) , а у уже состоявшихся на рынке (XOne, PS4, X360) оценки пользователей никак не влияют на продажи\n",
    "* Чаще всего можно встретить игры жанров Action\n",
    "* Самый прибыльный жанр при расчете прибыли за игру - Schooter. На втором месте - Platform (платформеры), а на третьем - Sports\n",
    "    "
   ]
  },
  {
   "cell_type": "markdown",
   "metadata": {},
   "source": [
    "### Портрет пользователя каждого региона"
   ]
  },
  {
   "cell_type": "markdown",
   "metadata": {},
   "source": [
    "Для пользователя каждого региона (NA, EU, JP)определим : \n",
    "* Самые популярные платформы (топ-5). \n",
    "* Самые популярные жанры (топ-5).\n",
    "* Влияет ли рейтинг ESRB на продажи в отдельном регионе"
   ]
  },
  {
   "cell_type": "code",
   "execution_count": 42,
   "metadata": {},
   "outputs": [
    {
     "data": {
      "text/html": [
       "<div>\n",
       "<style scoped>\n",
       "    .dataframe tbody tr th:only-of-type {\n",
       "        vertical-align: middle;\n",
       "    }\n",
       "\n",
       "    .dataframe tbody tr th {\n",
       "        vertical-align: top;\n",
       "    }\n",
       "\n",
       "    .dataframe thead th {\n",
       "        text-align: right;\n",
       "    }\n",
       "</style>\n",
       "<table border=\"1\" class=\"dataframe\">\n",
       "  <thead>\n",
       "    <tr style=\"text-align: right;\">\n",
       "      <th></th>\n",
       "      <th>platform</th>\n",
       "      <th>na_sales</th>\n",
       "      <th>%</th>\n",
       "    </tr>\n",
       "  </thead>\n",
       "  <tbody>\n",
       "    <tr>\n",
       "      <th>0</th>\n",
       "      <td>X360</td>\n",
       "      <td>226.80</td>\n",
       "      <td>27.33</td>\n",
       "    </tr>\n",
       "    <tr>\n",
       "      <th>1</th>\n",
       "      <td>PS3</td>\n",
       "      <td>168.26</td>\n",
       "      <td>20.28</td>\n",
       "    </tr>\n",
       "    <tr>\n",
       "      <th>2</th>\n",
       "      <td>PS4</td>\n",
       "      <td>108.74</td>\n",
       "      <td>13.10</td>\n",
       "    </tr>\n",
       "    <tr>\n",
       "      <th>3</th>\n",
       "      <td>XOne</td>\n",
       "      <td>93.12</td>\n",
       "      <td>11.22</td>\n",
       "    </tr>\n",
       "    <tr>\n",
       "      <th>4</th>\n",
       "      <td>3DS</td>\n",
       "      <td>82.65</td>\n",
       "      <td>9.96</td>\n",
       "    </tr>\n",
       "  </tbody>\n",
       "</table>\n",
       "</div>"
      ],
      "text/plain": [
       "  platform  na_sales      %\n",
       "0     X360    226.80  27.33\n",
       "1      PS3    168.26  20.28\n",
       "2      PS4    108.74  13.10\n",
       "3     XOne     93.12  11.22\n",
       "4      3DS     82.65   9.96"
      ]
     },
     "execution_count": 42,
     "metadata": {},
     "output_type": "execute_result"
    }
   ],
   "source": [
    "# ищем популярные платформы в североамериканском регионе\n",
    "na_sales = df_actual.groupby('platform')['na_sales'].sum().sort_values(ascending = False).reset_index()\n",
    "na_sales['%'] =round(na_sales['na_sales']/na_sales['na_sales'].sum()*100,2)\n",
    "na_sales.head()"
   ]
  },
  {
   "cell_type": "code",
   "execution_count": 43,
   "metadata": {},
   "outputs": [
    {
     "data": {
      "text/html": [
       "<div>\n",
       "<style scoped>\n",
       "    .dataframe tbody tr th:only-of-type {\n",
       "        vertical-align: middle;\n",
       "    }\n",
       "\n",
       "    .dataframe tbody tr th {\n",
       "        vertical-align: top;\n",
       "    }\n",
       "\n",
       "    .dataframe thead th {\n",
       "        text-align: right;\n",
       "    }\n",
       "</style>\n",
       "<table border=\"1\" class=\"dataframe\">\n",
       "  <thead>\n",
       "    <tr style=\"text-align: right;\">\n",
       "      <th></th>\n",
       "      <th>platform</th>\n",
       "      <th>eu_sales</th>\n",
       "      <th>%</th>\n",
       "    </tr>\n",
       "  </thead>\n",
       "  <tbody>\n",
       "    <tr>\n",
       "      <th>0</th>\n",
       "      <td>PS3</td>\n",
       "      <td>163.10</td>\n",
       "      <td>24.35</td>\n",
       "    </tr>\n",
       "    <tr>\n",
       "      <th>1</th>\n",
       "      <td>PS4</td>\n",
       "      <td>141.09</td>\n",
       "      <td>21.06</td>\n",
       "    </tr>\n",
       "    <tr>\n",
       "      <th>2</th>\n",
       "      <td>X360</td>\n",
       "      <td>117.10</td>\n",
       "      <td>17.48</td>\n",
       "    </tr>\n",
       "    <tr>\n",
       "      <th>3</th>\n",
       "      <td>3DS</td>\n",
       "      <td>61.27</td>\n",
       "      <td>9.15</td>\n",
       "    </tr>\n",
       "    <tr>\n",
       "      <th>4</th>\n",
       "      <td>PC</td>\n",
       "      <td>56.70</td>\n",
       "      <td>8.47</td>\n",
       "    </tr>\n",
       "  </tbody>\n",
       "</table>\n",
       "</div>"
      ],
      "text/plain": [
       "  platform  eu_sales      %\n",
       "0      PS3    163.10  24.35\n",
       "1      PS4    141.09  21.06\n",
       "2     X360    117.10  17.48\n",
       "3      3DS     61.27   9.15\n",
       "4       PC     56.70   8.47"
      ]
     },
     "execution_count": 43,
     "metadata": {},
     "output_type": "execute_result"
    }
   ],
   "source": [
    "# популярные платформы в европейском регионе\n",
    "eu_sales = df_actual.groupby('platform')['eu_sales'].sum().sort_values(ascending = False).reset_index()\n",
    "eu_sales['%'] =round(eu_sales['eu_sales']/eu_sales['eu_sales'].sum()*100,2)\n",
    "eu_sales.head()"
   ]
  },
  {
   "cell_type": "code",
   "execution_count": 44,
   "metadata": {},
   "outputs": [
    {
     "data": {
      "text/html": [
       "<div>\n",
       "<style scoped>\n",
       "    .dataframe tbody tr th:only-of-type {\n",
       "        vertical-align: middle;\n",
       "    }\n",
       "\n",
       "    .dataframe tbody tr th {\n",
       "        vertical-align: top;\n",
       "    }\n",
       "\n",
       "    .dataframe thead th {\n",
       "        text-align: right;\n",
       "    }\n",
       "</style>\n",
       "<table border=\"1\" class=\"dataframe\">\n",
       "  <thead>\n",
       "    <tr style=\"text-align: right;\">\n",
       "      <th></th>\n",
       "      <th>platform</th>\n",
       "      <th>jp_sales</th>\n",
       "      <th>%</th>\n",
       "    </tr>\n",
       "  </thead>\n",
       "  <tbody>\n",
       "    <tr>\n",
       "      <th>0</th>\n",
       "      <td>3DS</td>\n",
       "      <td>100.62</td>\n",
       "      <td>40.96</td>\n",
       "    </tr>\n",
       "    <tr>\n",
       "      <th>1</th>\n",
       "      <td>PS3</td>\n",
       "      <td>49.39</td>\n",
       "      <td>20.11</td>\n",
       "    </tr>\n",
       "    <tr>\n",
       "      <th>2</th>\n",
       "      <td>PSP</td>\n",
       "      <td>24.04</td>\n",
       "      <td>9.79</td>\n",
       "    </tr>\n",
       "    <tr>\n",
       "      <th>3</th>\n",
       "      <td>PSV</td>\n",
       "      <td>21.84</td>\n",
       "      <td>8.89</td>\n",
       "    </tr>\n",
       "    <tr>\n",
       "      <th>4</th>\n",
       "      <td>PS4</td>\n",
       "      <td>15.96</td>\n",
       "      <td>6.50</td>\n",
       "    </tr>\n",
       "  </tbody>\n",
       "</table>\n",
       "</div>"
      ],
      "text/plain": [
       "  platform  jp_sales      %\n",
       "0      3DS    100.62  40.96\n",
       "1      PS3     49.39  20.11\n",
       "2      PSP     24.04   9.79\n",
       "3      PSV     21.84   8.89\n",
       "4      PS4     15.96   6.50"
      ]
     },
     "execution_count": 44,
     "metadata": {},
     "output_type": "execute_result"
    }
   ],
   "source": [
    "# популярные платформы Японии  регионе\n",
    "jp_sales = df_actual.groupby('platform')['jp_sales'].sum().sort_values(ascending = False).reset_index()\n",
    "jp_sales['%'] =round(jp_sales['jp_sales']/jp_sales['jp_sales'].sum()*100,2)\n",
    "jp_sales.head()"
   ]
  },
  {
   "cell_type": "markdown",
   "metadata": {},
   "source": [
    "Можно заметить, что в Северной Америке наиболее высоки продажи на платформе X360 - американской платфоре, В Европе -PS3 (японская платформа),  в Японии - 3DS (японская платформа). Вероятно пользователям удобнее взаимодействовать с локальными платформами (помимо Европы,у которой, по видимому нет локальных платформ). Либо у этих платформ не получается выйти на международных рынок, но они успешно реализовались в стране выпуска\n",
    "\n",
    "В Европейском регионе популярны как америранские, так и японские платформы\n",
    "\n"
   ]
  },
  {
   "cell_type": "code",
   "execution_count": 45,
   "metadata": {},
   "outputs": [
    {
     "data": {
      "text/html": [
       "<div>\n",
       "<style scoped>\n",
       "    .dataframe tbody tr th:only-of-type {\n",
       "        vertical-align: middle;\n",
       "    }\n",
       "\n",
       "    .dataframe tbody tr th {\n",
       "        vertical-align: top;\n",
       "    }\n",
       "\n",
       "    .dataframe thead th {\n",
       "        text-align: right;\n",
       "    }\n",
       "</style>\n",
       "<table border=\"1\" class=\"dataframe\">\n",
       "  <thead>\n",
       "    <tr style=\"text-align: right;\">\n",
       "      <th></th>\n",
       "      <th>genre</th>\n",
       "      <th>na_sales</th>\n",
       "      <th>%</th>\n",
       "    </tr>\n",
       "  </thead>\n",
       "  <tbody>\n",
       "    <tr>\n",
       "      <th>0</th>\n",
       "      <td>Action</td>\n",
       "      <td>230.92</td>\n",
       "      <td>27.83</td>\n",
       "    </tr>\n",
       "    <tr>\n",
       "      <th>1</th>\n",
       "      <td>Shooter</td>\n",
       "      <td>194.43</td>\n",
       "      <td>23.43</td>\n",
       "    </tr>\n",
       "    <tr>\n",
       "      <th>2</th>\n",
       "      <td>Sports</td>\n",
       "      <td>108.70</td>\n",
       "      <td>13.10</td>\n",
       "    </tr>\n",
       "    <tr>\n",
       "      <th>3</th>\n",
       "      <td>Role-Playing</td>\n",
       "      <td>83.78</td>\n",
       "      <td>10.10</td>\n",
       "    </tr>\n",
       "    <tr>\n",
       "      <th>4</th>\n",
       "      <td>Misc</td>\n",
       "      <td>69.69</td>\n",
       "      <td>8.40</td>\n",
       "    </tr>\n",
       "  </tbody>\n",
       "</table>\n",
       "</div>"
      ],
      "text/plain": [
       "          genre  na_sales      %\n",
       "0        Action    230.92  27.83\n",
       "1       Shooter    194.43  23.43\n",
       "2        Sports    108.70  13.10\n",
       "3  Role-Playing     83.78  10.10\n",
       "4          Misc     69.69   8.40"
      ]
     },
     "execution_count": 45,
     "metadata": {},
     "output_type": "execute_result"
    }
   ],
   "source": [
    "# популярные жанры в Америке\n",
    "na_genre = df_actual.groupby('genre')['na_sales'].sum().sort_values(ascending = False).reset_index()\n",
    "na_genre['%'] =round(na_genre['na_sales']/na_genre['na_sales'].sum()*100,2)\n",
    "na_genre.head()"
   ]
  },
  {
   "cell_type": "code",
   "execution_count": 46,
   "metadata": {},
   "outputs": [
    {
     "data": {
      "text/html": [
       "<div>\n",
       "<style scoped>\n",
       "    .dataframe tbody tr th:only-of-type {\n",
       "        vertical-align: middle;\n",
       "    }\n",
       "\n",
       "    .dataframe tbody tr th {\n",
       "        vertical-align: top;\n",
       "    }\n",
       "\n",
       "    .dataframe thead th {\n",
       "        text-align: right;\n",
       "    }\n",
       "</style>\n",
       "<table border=\"1\" class=\"dataframe\">\n",
       "  <thead>\n",
       "    <tr style=\"text-align: right;\">\n",
       "      <th></th>\n",
       "      <th>genre</th>\n",
       "      <th>eu_sales</th>\n",
       "      <th>%</th>\n",
       "    </tr>\n",
       "  </thead>\n",
       "  <tbody>\n",
       "    <tr>\n",
       "      <th>0</th>\n",
       "      <td>Action</td>\n",
       "      <td>199.12</td>\n",
       "      <td>29.73</td>\n",
       "    </tr>\n",
       "    <tr>\n",
       "      <th>1</th>\n",
       "      <td>Shooter</td>\n",
       "      <td>148.02</td>\n",
       "      <td>22.10</td>\n",
       "    </tr>\n",
       "    <tr>\n",
       "      <th>2</th>\n",
       "      <td>Sports</td>\n",
       "      <td>88.48</td>\n",
       "      <td>13.21</td>\n",
       "    </tr>\n",
       "    <tr>\n",
       "      <th>3</th>\n",
       "      <td>Role-Playing</td>\n",
       "      <td>62.30</td>\n",
       "      <td>9.30</td>\n",
       "    </tr>\n",
       "    <tr>\n",
       "      <th>4</th>\n",
       "      <td>Racing</td>\n",
       "      <td>40.58</td>\n",
       "      <td>6.06</td>\n",
       "    </tr>\n",
       "  </tbody>\n",
       "</table>\n",
       "</div>"
      ],
      "text/plain": [
       "          genre  eu_sales      %\n",
       "0        Action    199.12  29.73\n",
       "1       Shooter    148.02  22.10\n",
       "2        Sports     88.48  13.21\n",
       "3  Role-Playing     62.30   9.30\n",
       "4        Racing     40.58   6.06"
      ]
     },
     "execution_count": 46,
     "metadata": {},
     "output_type": "execute_result"
    }
   ],
   "source": [
    "# популярные жанры в Европе\n",
    "eu_genre = df_actual.groupby('genre')['eu_sales'].sum().sort_values(ascending = False).reset_index()\n",
    "eu_genre['%'] =round(eu_genre['eu_sales']/eu_genre['eu_sales'].sum()*100,2)\n",
    "eu_genre.head()"
   ]
  },
  {
   "cell_type": "code",
   "execution_count": 47,
   "metadata": {},
   "outputs": [
    {
     "data": {
      "text/html": [
       "<div>\n",
       "<style scoped>\n",
       "    .dataframe tbody tr th:only-of-type {\n",
       "        vertical-align: middle;\n",
       "    }\n",
       "\n",
       "    .dataframe tbody tr th {\n",
       "        vertical-align: top;\n",
       "    }\n",
       "\n",
       "    .dataframe thead th {\n",
       "        text-align: right;\n",
       "    }\n",
       "</style>\n",
       "<table border=\"1\" class=\"dataframe\">\n",
       "  <thead>\n",
       "    <tr style=\"text-align: right;\">\n",
       "      <th></th>\n",
       "      <th>genre</th>\n",
       "      <th>jp_sales</th>\n",
       "      <th>%</th>\n",
       "    </tr>\n",
       "  </thead>\n",
       "  <tbody>\n",
       "    <tr>\n",
       "      <th>0</th>\n",
       "      <td>Role-Playing</td>\n",
       "      <td>79.87</td>\n",
       "      <td>32.51</td>\n",
       "    </tr>\n",
       "    <tr>\n",
       "      <th>1</th>\n",
       "      <td>Action</td>\n",
       "      <td>63.62</td>\n",
       "      <td>25.90</td>\n",
       "    </tr>\n",
       "    <tr>\n",
       "      <th>2</th>\n",
       "      <td>Misc</td>\n",
       "      <td>17.60</td>\n",
       "      <td>7.16</td>\n",
       "    </tr>\n",
       "    <tr>\n",
       "      <th>3</th>\n",
       "      <td>Fighting</td>\n",
       "      <td>12.38</td>\n",
       "      <td>5.04</td>\n",
       "    </tr>\n",
       "    <tr>\n",
       "      <th>4</th>\n",
       "      <td>Platform</td>\n",
       "      <td>12.13</td>\n",
       "      <td>4.94</td>\n",
       "    </tr>\n",
       "  </tbody>\n",
       "</table>\n",
       "</div>"
      ],
      "text/plain": [
       "          genre  jp_sales      %\n",
       "0  Role-Playing     79.87  32.51\n",
       "1        Action     63.62  25.90\n",
       "2          Misc     17.60   7.16\n",
       "3      Fighting     12.38   5.04\n",
       "4      Platform     12.13   4.94"
      ]
     },
     "execution_count": 47,
     "metadata": {},
     "output_type": "execute_result"
    }
   ],
   "source": [
    "# популярные жанры в Японии\n",
    "jp_genre = df_actual.groupby('genre')['jp_sales'].sum().sort_values(ascending = False).reset_index()\n",
    "jp_genre['%'] =round(jp_genre['jp_sales']/jp_genre['jp_sales'].sum()*100,2)\n",
    "jp_genre.head()"
   ]
  },
  {
   "cell_type": "markdown",
   "metadata": {},
   "source": [
    "В Америке и Европе картина популярных жанров практически идентична - в тройку входят Action(27-29%), Shooter(22-23%), Sports (13%), причем в похожем соотношении \n",
    "\n",
    "Картина заметно отличается в Японии - там на первом месте Role_playing (32% всех продаж) , на втором месте Action(26%), а остальные жанры несильно популярны в Японии, у остальных доли меньше 8% от общих продаж в стране)\n",
    "\n",
    "Различия в популядных жанрах могут быть обусловлены тем, что менталитет и образ жизни японцев сильно отличается от европейского"
   ]
  },
  {
   "cell_type": "code",
   "execution_count": 48,
   "metadata": {},
   "outputs": [
    {
     "data": {
      "text/plain": [
       "array(['M', 'unknown', 'E', 'E10+', 'T', 'EC', 'RP'], dtype=object)"
      ]
     },
     "execution_count": 48,
     "metadata": {},
     "output_type": "execute_result"
    }
   ],
   "source": [
    "df_actual['rating'].unique()"
   ]
  },
  {
   "cell_type": "markdown",
   "metadata": {},
   "source": [
    "Найдем наиболее часто встречаемые рейтинги по регионам"
   ]
  },
  {
   "cell_type": "code",
   "execution_count": 49,
   "metadata": {},
   "outputs": [
    {
     "data": {
      "text/html": [
       "<div>\n",
       "<style scoped>\n",
       "    .dataframe tbody tr th:only-of-type {\n",
       "        vertical-align: middle;\n",
       "    }\n",
       "\n",
       "    .dataframe tbody tr th {\n",
       "        vertical-align: top;\n",
       "    }\n",
       "\n",
       "    .dataframe thead th {\n",
       "        text-align: right;\n",
       "    }\n",
       "</style>\n",
       "<table border=\"1\" class=\"dataframe\">\n",
       "  <thead>\n",
       "    <tr style=\"text-align: right;\">\n",
       "      <th></th>\n",
       "      <th>na_sales</th>\n",
       "    </tr>\n",
       "    <tr>\n",
       "      <th>rating</th>\n",
       "      <th></th>\n",
       "    </tr>\n",
       "  </thead>\n",
       "  <tbody>\n",
       "    <tr>\n",
       "      <th>M</th>\n",
       "      <td>308.45</td>\n",
       "    </tr>\n",
       "    <tr>\n",
       "      <th>E</th>\n",
       "      <td>170.17</td>\n",
       "    </tr>\n",
       "    <tr>\n",
       "      <th>unknown</th>\n",
       "      <td>123.69</td>\n",
       "    </tr>\n",
       "    <tr>\n",
       "      <th>E10+</th>\n",
       "      <td>117.72</td>\n",
       "    </tr>\n",
       "    <tr>\n",
       "      <th>T</th>\n",
       "      <td>109.31</td>\n",
       "    </tr>\n",
       "    <tr>\n",
       "      <th>EC</th>\n",
       "      <td>0.42</td>\n",
       "    </tr>\n",
       "    <tr>\n",
       "      <th>RP</th>\n",
       "      <td>0.00</td>\n",
       "    </tr>\n",
       "  </tbody>\n",
       "</table>\n",
       "</div>"
      ],
      "text/plain": [
       "         na_sales\n",
       "rating           \n",
       "M          308.45\n",
       "E          170.17\n",
       "unknown    123.69\n",
       "E10+       117.72\n",
       "T          109.31\n",
       "EC           0.42\n",
       "RP           0.00"
      ]
     },
     "execution_count": 49,
     "metadata": {},
     "output_type": "execute_result"
    }
   ],
   "source": [
    "# рейтинги в Америке\n",
    "na_rating= df_actual.pivot_table(index='rating', values='na_sales',\n",
    "                                        aggfunc='sum').sort_values('na_sales', ascending=False)\n",
    "na_rating"
   ]
  },
  {
   "cell_type": "code",
   "execution_count": 50,
   "metadata": {},
   "outputs": [
    {
     "data": {
      "text/html": [
       "<div>\n",
       "<style scoped>\n",
       "    .dataframe tbody tr th:only-of-type {\n",
       "        vertical-align: middle;\n",
       "    }\n",
       "\n",
       "    .dataframe tbody tr th {\n",
       "        vertical-align: top;\n",
       "    }\n",
       "\n",
       "    .dataframe thead th {\n",
       "        text-align: right;\n",
       "    }\n",
       "</style>\n",
       "<table border=\"1\" class=\"dataframe\">\n",
       "  <thead>\n",
       "    <tr style=\"text-align: right;\">\n",
       "      <th></th>\n",
       "      <th>eu_sales</th>\n",
       "    </tr>\n",
       "    <tr>\n",
       "      <th>rating</th>\n",
       "      <th></th>\n",
       "    </tr>\n",
       "  </thead>\n",
       "  <tbody>\n",
       "    <tr>\n",
       "      <th>M</th>\n",
       "      <td>250.26</td>\n",
       "    </tr>\n",
       "    <tr>\n",
       "      <th>E</th>\n",
       "      <td>141.73</td>\n",
       "    </tr>\n",
       "    <tr>\n",
       "      <th>unknown</th>\n",
       "      <td>116.61</td>\n",
       "    </tr>\n",
       "    <tr>\n",
       "      <th>T</th>\n",
       "      <td>83.16</td>\n",
       "    </tr>\n",
       "    <tr>\n",
       "      <th>E10+</th>\n",
       "      <td>78.00</td>\n",
       "    </tr>\n",
       "    <tr>\n",
       "      <th>RP</th>\n",
       "      <td>0.03</td>\n",
       "    </tr>\n",
       "    <tr>\n",
       "      <th>EC</th>\n",
       "      <td>0.00</td>\n",
       "    </tr>\n",
       "  </tbody>\n",
       "</table>\n",
       "</div>"
      ],
      "text/plain": [
       "         eu_sales\n",
       "rating           \n",
       "M          250.26\n",
       "E          141.73\n",
       "unknown    116.61\n",
       "T           83.16\n",
       "E10+        78.00\n",
       "RP           0.03\n",
       "EC           0.00"
      ]
     },
     "execution_count": 50,
     "metadata": {},
     "output_type": "execute_result"
    }
   ],
   "source": [
    "eu_rating= df_actual.pivot_table(index='rating', values='eu_sales',\n",
    "                                        aggfunc='sum').sort_values('eu_sales', ascending=False)\n",
    "eu_rating"
   ]
  },
  {
   "cell_type": "code",
   "execution_count": 51,
   "metadata": {},
   "outputs": [
    {
     "data": {
      "text/html": [
       "<div>\n",
       "<style scoped>\n",
       "    .dataframe tbody tr th:only-of-type {\n",
       "        vertical-align: middle;\n",
       "    }\n",
       "\n",
       "    .dataframe tbody tr th {\n",
       "        vertical-align: top;\n",
       "    }\n",
       "\n",
       "    .dataframe thead th {\n",
       "        text-align: right;\n",
       "    }\n",
       "</style>\n",
       "<table border=\"1\" class=\"dataframe\">\n",
       "  <thead>\n",
       "    <tr style=\"text-align: right;\">\n",
       "      <th></th>\n",
       "      <th>jp_sales</th>\n",
       "    </tr>\n",
       "    <tr>\n",
       "      <th>rating</th>\n",
       "      <th></th>\n",
       "    </tr>\n",
       "  </thead>\n",
       "  <tbody>\n",
       "    <tr>\n",
       "      <th>unknown</th>\n",
       "      <td>138.21</td>\n",
       "    </tr>\n",
       "    <tr>\n",
       "      <th>E</th>\n",
       "      <td>36.68</td>\n",
       "    </tr>\n",
       "    <tr>\n",
       "      <th>T</th>\n",
       "      <td>33.39</td>\n",
       "    </tr>\n",
       "    <tr>\n",
       "      <th>M</th>\n",
       "      <td>26.14</td>\n",
       "    </tr>\n",
       "    <tr>\n",
       "      <th>E10+</th>\n",
       "      <td>11.23</td>\n",
       "    </tr>\n",
       "    <tr>\n",
       "      <th>EC</th>\n",
       "      <td>0.00</td>\n",
       "    </tr>\n",
       "    <tr>\n",
       "      <th>RP</th>\n",
       "      <td>0.00</td>\n",
       "    </tr>\n",
       "  </tbody>\n",
       "</table>\n",
       "</div>"
      ],
      "text/plain": [
       "         jp_sales\n",
       "rating           \n",
       "unknown    138.21\n",
       "E           36.68\n",
       "T           33.39\n",
       "M           26.14\n",
       "E10+        11.23\n",
       "EC           0.00\n",
       "RP           0.00"
      ]
     },
     "execution_count": 51,
     "metadata": {},
     "output_type": "execute_result"
    }
   ],
   "source": [
    "jp_rating= df_actual.pivot_table(index='rating', values='jp_sales',\n",
    "                                        aggfunc='sum').sort_values('jp_sales', ascending=False)\n",
    "jp_rating"
   ]
  },
  {
   "cell_type": "markdown",
   "metadata": {},
   "source": [
    "\n",
    "По имеющимся данным можно увидеть, что в США  самые часто встречаемые рейтинги -  М (\"Для взрослых\") и  E(«Для всех»). Также много игр, где рейтинг не указан \n",
    "\n",
    "в Японии популярны игры E («Для всех») и Т (\"Для подростков\").Вероятно, в Японии молодые люди чаще играют в компьютер, чем взрослые. Однако больше всего игр, где рейтинг ESRB не указан в связи с нем, что данная система возрастного рейтинга по большей части применяется для игр, реализуемых в США и Канаде.\n",
    "\n",
    "Во всех регионах очень низкие продажи игр категории EC  («Для детей младшего возраста»). Это может быть связано с тем, что маленькие дети в целом редко играют в компьютер \n"
   ]
  },
  {
   "cell_type": "markdown",
   "metadata": {},
   "source": [
    "Итак , портреты среднестатистического покупателя в регионах: \n",
    "\n",
    "**Северная Америка**:\n",
    "\n",
    "* Взрослый человек, который предпочитает платформу X360, игры в стиле Action,либо Shooter\n",
    "\n",
    "**Европа**:\n",
    "\n",
    "* Взрослый человек, который предпочитает платформу PS3, игры в стиле  Action,либо Shooter\n",
    "\n",
    "\n",
    "**Япония**:\n",
    "\n",
    "* Молодой человек, который предпочитает платформу DS, игры в стиле  Role-Playing либо Action"
   ]
  },
  {
   "cell_type": "markdown",
   "metadata": {},
   "source": [
    "### Проверка гипотез"
   ]
  },
  {
   "cell_type": "markdown",
   "metadata": {},
   "source": [
    "Для проверки обеих гипотез будем использовать t-критерий Стьюдента, т.к. в обоих случаях выборки независимы между собой.\n",
    "\n",
    "\n",
    "**Нулевая гипотеза 1**:Средние пользовательские рейтинги платформ Xbox One и PC одинаковые  \n",
    "**Альтернативная гипотеза 1**: Средние пользовательские рейтинги платформ Xbox One и PC разные  "
   ]
  },
  {
   "cell_type": "markdown",
   "metadata": {},
   "source": [
    "Проведем стат.тест.   \n",
    "В качестве alpha выставим 0.05. \n",
    "Если посчитанные p-value окажется меньше альфа, то гипотеза не подтвердится"
   ]
  },
  {
   "cell_type": "code",
   "execution_count": 52,
   "metadata": {},
   "outputs": [
    {
     "name": "stdout",
     "output_type": "stream",
     "text": [
      "Выборочное среднее значение пользовательского рейтинга платформы Xbox One   6.52\n",
      "Выборочное среднее значение пользовательского рейтинга платформы PC 6.45\n",
      "p-value: 0.6130712247638477\n",
      "Нет оснований отвергнуть\n"
     ]
    }
   ],
   "source": [
    "# для проверки гипотезы проведем стат.тест\n",
    "print('Выборочное среднее значение пользовательского рейтинга платформы Xbox One  ', \n",
    "      round(df_actual.loc[df_actual['platform'] == 'XOne', 'user_score'].mean(),2))\n",
    "print('Выборочное среднее значение пользовательского рейтинга платформы PC',\n",
    "      round(df_actual.loc[df_actual['platform'] == 'PC', 'user_score'].mean(),2))\n",
    "\n",
    "# задаём уровень значимости \n",
    "alpha = 0.05\n",
    "\n",
    "results = st.ttest_ind(\n",
    "    df_actual.loc[df_actual['platform'] == 'XOne', 'user_score'].dropna(),\n",
    "    df_actual.loc[df_actual['platform'] == 'PC', 'user_score'].dropna(),\n",
    "    equal_var=False,\n",
    "    alternative='two-sided'\n",
    ")\n",
    "\n",
    "print(f'p-value: {results.pvalue}')\n",
    "\n",
    "# проверяем p-value\n",
    "if results.pvalue < alpha:\n",
    "    print('Отвергаем нулевую гипотезу')\n",
    "else:\n",
    "    print('Нет оснований отвергнуть')\n"
   ]
  },
  {
   "cell_type": "markdown",
   "metadata": {},
   "source": [
    "Итак, мы не отвергаем гипотезу о том, что средние пользовательские рейтинги на платформах Xone и PC равны. Скорее всего среднее значение близко друг к другу"
   ]
  },
  {
   "cell_type": "markdown",
   "metadata": {},
   "source": [
    "**Нулевая гипотеза 2**: Средние пользовательские рейтинги жанров Action (англ. «действие», экшен-игры) и Sports (англ. «спортивные соревнования») одинаковые \n",
    "\n",
    "**Альтернативная гипотеза 2**: Средние пользовательские рейтинги жанров Action (англ. «действие», экшен-игры) и Sports разные"
   ]
  },
  {
   "cell_type": "code",
   "execution_count": 53,
   "metadata": {},
   "outputs": [
    {
     "name": "stdout",
     "output_type": "stream",
     "text": [
      "Выборочное среднее значение пользовательского рейтинга жанра Action   6.78\n",
      "Выборочное среднее значение пользовательского рейтинга жанра Sports 5.65\n",
      "p-value: 5.1974550252152054e-24\n",
      "Отвергаем нулевую гипотезу\n"
     ]
    }
   ],
   "source": [
    "action = df_actual.loc[df_actual['genre'] == 'Action']\n",
    "sports = df_actual.loc[df_actual['genre'] == 'Sports']\n",
    "\n",
    "print('Выборочное среднее значение пользовательского рейтинга жанра Action  ', round(action['user_score'].mean(),2))\n",
    "print('Выборочное среднее значение пользовательского рейтинга жанра Sports',round(sports['user_score'].mean(),2))\n",
    "\n",
    "# задаём уровень значимости \n",
    "alpha = 0.05\n",
    "\n",
    "\n",
    "# проводим ttest для двух выборок\n",
    "results = st.ttest_ind(action['user_score'].dropna(), sports['user_score'].dropna())\n",
    "\n",
    "print(f'p-value: {results.pvalue}')\n",
    "\n",
    "# проверяем p-value\n",
    "if results.pvalue < alpha:\n",
    "    print('Отвергаем нулевую гипотезу')\n",
    "else:\n",
    "    print('Нет оснований отвергнуть нулевую гипотезу')"
   ]
  },
  {
   "cell_type": "markdown",
   "metadata": {},
   "source": [
    "Итак гипотеза о том, что средние пользовательские рейтинги жанров Action и Sports одинаковые, нами отвергнута в пользу альтернативной. Значит, что средние пользовательские рейтинги  этих жанров скорее всего отличаются "
   ]
  },
  {
   "cell_type": "markdown",
   "metadata": {},
   "source": [
    "**Итоги проверки гипотез**: \n",
    "\n",
    "* Гипотеза о том, что средние пользовательские рейтинги платформ Xbox One и PC одинаковые не подтвердилась, скорее всего средние пользовательские рейтинги этих платформ разные\n",
    "* Гипотезу о том, что средние пользовательские рейтинги жанров Action и Sports разные отвергнуть не получилось. Скорее всего они они практически одинаковые"
   ]
  },
  {
   "cell_type": "markdown",
   "metadata": {},
   "source": [
    "### Выводы по проекту"
   ]
  },
  {
   "cell_type": "markdown",
   "metadata": {},
   "source": [
    "**1) Предобработка данных**: Данные достаточно чистые, без дубликатов, однако есть много пропусках в определенных столбцах, которые сложно заполнить ('critic_score', 'user_score', 'rating').   \n",
    "Больше всего пропусков в столбке c рейтингом  ESRB, что может говорить либо о том, что рейтинг еще не определен, либо о нежелании владельца игры его указывать  . Больше всего пропусков в играх, которые продавались в Японии - \n",
    "\n",
    "\n",
    "**2) Исследовательский анализ данных**: \n",
    "\n",
    "* Средний срок существования платформы - 10 лет\n",
    "* За период 2005 - 2016 самые высокие продажи были у платформ X360, Wii, PS3\n",
    "* Продажи на всех платформах падают, но с разной скоростью. Также учитывая факт, что данные за 2016 год могут быть неполными, то вероятно для некоторых платформ падение в 2016 году - результат неполноты данных по продажам за 2016 год\n",
    "* Потенциально перспективные платформы в 2017 году -PS4, XOne, WiiU\n",
    "* У всех платформ корреляция между уровнем продаж и оценками критиком примерно одинаковая 0.34-0.41 (не прямая зависимость, но определенное влияние есть). Оценки пользователей оказывают большее влияние на продажи у молодых платформ с низкими продажами (3DS, WiiU) , а у уже состоявшихся на рынке (XOne, PS4, X360) оценки пользователей никак не влияют на продажи\n",
    "* Чаще всего можно встретить игры жанров Action, также часто встречаются Sports и Misc\n",
    "* Самый прибыльный жанр при расчете прибыли за игру - Schooter. На втором месте - Platform (платформеры), а на третьем - Sports\n",
    "\n",
    "\n",
    "**3) Портрет пользователя каждого региона**\n",
    "\n",
    "**Северная Америка:**\n",
    "\n",
    "Топ-5 платформ: \n",
    "\n",
    "- X360\t\n",
    "- PS3\t\n",
    "- PS4\t\n",
    "- XOne\t\n",
    "- 3DS\t\n",
    "\n",
    "Топ-5 жанров: \n",
    " - Action\t\n",
    "- Shooter\t\n",
    "- Sports\t\n",
    "- Role-Playing\t\n",
    "- Misc\t\n",
    "\n",
    "Основные рейтинги:  М (\"Для взрослых\"), E(«Для всех»)\n",
    "\n",
    "Портрет пользователя игр из Северной Америки:  Взрослый человек, который предпочитает платформу X360, игры в стиле Action,либо Shooter\n",
    "\n",
    "**Европа**\n",
    "\n",
    "Топ-5 платформ:\n",
    "\n",
    "- PS3\t\n",
    "- PS4\t\n",
    "- X360\t\n",
    "- 3DS\n",
    "- PC\t\n",
    "\n",
    "Топ-5 жанров: \n",
    "\n",
    "- Action\n",
    "- Shooter\t\n",
    "- Sports\n",
    "- Role-Playing\t\n",
    "- Racing\t\n",
    "\n",
    "Основные рейтинги: E(«Для всех»), М (\"Для взрослых\"), Т (\"Для подростков\")\n",
    "\n",
    "Портрет пользователя игр из Европы: Взрослый человек, который предпочитает платформу PS3, игры в стиле  Action,либо Shooter\n",
    "\n",
    "**Япония**\n",
    "\n",
    "Топ-5 платформ:\n",
    "\n",
    "- 3DS\t\n",
    "- PS3\n",
    "- PSP\t\n",
    "- PSV\t\n",
    "- PS4\t\n",
    "\n",
    "Топ-5 жанров: \n",
    "- Role-Playing\t\n",
    "- Action\t\n",
    "- Misc\t\n",
    "- Fighting\t\n",
    "- Platform\t\n",
    "\n",
    "Основные рейтинги: E(«Для всех»), Т (\"Для подростков\"). В Японии игр с рейтингом T больше, чем М, вероятно молодые люди чаще играют в компьютер, чем взрослые. При этом у большей части игр не указан рейтинг ESRB (так как он предназначен по большей части для США и Канады) \n",
    "\n",
    "Портрет пользователя игр из Японии:  Молодой человек, который предпочитает платформу DS, игры в стиле  Role-Playing либо Action\n",
    "\n",
    "В Северной Америке и Европе популярные жанры и возрастные рейтинги очень схожи, в то время как портрет среднестатистического пользователя из Японии заметно отличается. Это может быть обусловлено тем,  что менталитет и образ жизни японцев сильно отличается от европейского\n",
    "\n",
    "**4) Проверка гипотез** \n",
    "\n",
    "\n",
    "* Гипотеза о том, что средние пользовательские рейтинги платформ Xbox One и PC одинаковые не может быть отвергнута. Похоже, что средние рейтинги очень схожи.\n",
    "* Гипотезу о том, что средние пользовательские рейтинги жанров Action и Sports одинаковые мы отвергли. Средние пользовательские рейтинги жанров Action и Sports разные.\n",
    "\n",
    "\n",
    "\n",
    "**Рекомендации:**  в 2017 году стоит делать ставки на игры в жанрах Shooter, Action и Sports в категории \"Для всех\", не забывать про отличия Японии от остальных регионов (популярность жанра Role-Playing и значительная часть молодежи среди покупателей) \n",
    "\n",
    "\n",
    "\n"
   ]
  },
  {
   "cell_type": "code",
   "execution_count": null,
   "metadata": {},
   "outputs": [],
   "source": []
  }
 ],
 "metadata": {
  "ExecuteTimeLog": [
   {
    "duration": 371,
    "start_time": "2023-11-23T18:16:00.260Z"
   },
   {
    "duration": 97,
    "start_time": "2023-11-23T18:16:29.299Z"
   },
   {
    "duration": 57,
    "start_time": "2023-11-23T18:16:42.674Z"
   },
   {
    "duration": 49,
    "start_time": "2023-11-23T18:16:45.721Z"
   },
   {
    "duration": 88,
    "start_time": "2023-11-23T18:17:01.730Z"
   },
   {
    "duration": 84,
    "start_time": "2023-11-23T18:17:52.677Z"
   },
   {
    "duration": 55,
    "start_time": "2023-11-23T18:18:01.873Z"
   },
   {
    "duration": 200,
    "start_time": "2023-11-23T18:20:07.696Z"
   },
   {
    "duration": 20,
    "start_time": "2023-11-23T18:20:22.460Z"
   },
   {
    "duration": 9,
    "start_time": "2023-11-23T18:20:53.773Z"
   },
   {
    "duration": 7,
    "start_time": "2023-11-23T18:21:06.164Z"
   },
   {
    "duration": 7,
    "start_time": "2023-11-23T18:24:59.231Z"
   },
   {
    "duration": 3,
    "start_time": "2023-11-23T18:25:50.282Z"
   },
   {
    "duration": 4,
    "start_time": "2023-11-23T18:25:56.204Z"
   },
   {
    "duration": 21,
    "start_time": "2023-11-23T18:27:32.218Z"
   },
   {
    "duration": 12,
    "start_time": "2023-11-23T18:38:36.325Z"
   },
   {
    "duration": 4,
    "start_time": "2023-11-23T18:38:39.594Z"
   },
   {
    "duration": 14,
    "start_time": "2023-11-23T18:39:03.700Z"
   },
   {
    "duration": 4,
    "start_time": "2023-11-23T18:39:15.529Z"
   },
   {
    "duration": 10,
    "start_time": "2023-11-23T18:39:20.244Z"
   },
   {
    "duration": 6,
    "start_time": "2023-11-23T18:39:41.248Z"
   },
   {
    "duration": 25,
    "start_time": "2023-11-23T18:40:17.648Z"
   },
   {
    "duration": 9,
    "start_time": "2023-11-23T18:44:03.992Z"
   },
   {
    "duration": 7,
    "start_time": "2023-11-23T18:47:13.174Z"
   },
   {
    "duration": 7,
    "start_time": "2023-11-23T18:50:28.948Z"
   },
   {
    "duration": 280,
    "start_time": "2023-11-23T18:50:36.874Z"
   },
   {
    "duration": 6,
    "start_time": "2023-11-23T18:53:09.831Z"
   },
   {
    "duration": 9,
    "start_time": "2023-11-23T18:53:20.729Z"
   },
   {
    "duration": 10,
    "start_time": "2023-11-23T18:54:03.410Z"
   },
   {
    "duration": 19,
    "start_time": "2023-11-23T18:54:33.128Z"
   },
   {
    "duration": 13,
    "start_time": "2023-11-23T18:55:51.801Z"
   },
   {
    "duration": 11,
    "start_time": "2023-11-23T18:56:31.636Z"
   },
   {
    "duration": 5,
    "start_time": "2023-11-23T18:56:41.378Z"
   },
   {
    "duration": 12,
    "start_time": "2023-11-23T18:57:14.043Z"
   },
   {
    "duration": 97,
    "start_time": "2023-11-23T18:57:34.018Z"
   },
   {
    "duration": 5,
    "start_time": "2023-11-23T19:11:15.295Z"
   },
   {
    "duration": 53,
    "start_time": "2023-11-24T13:23:36.621Z"
   },
   {
    "duration": 401,
    "start_time": "2023-11-24T13:23:40.083Z"
   },
   {
    "duration": 194,
    "start_time": "2023-11-24T13:23:42.899Z"
   },
   {
    "duration": 19,
    "start_time": "2023-11-24T13:23:44.860Z"
   },
   {
    "duration": 4,
    "start_time": "2023-11-24T13:23:47.011Z"
   },
   {
    "duration": 5,
    "start_time": "2023-11-24T13:23:49.020Z"
   },
   {
    "duration": 17,
    "start_time": "2023-11-24T13:23:51.082Z"
   },
   {
    "duration": 4,
    "start_time": "2023-11-24T13:23:54.339Z"
   },
   {
    "duration": 5,
    "start_time": "2023-11-24T13:23:56.859Z"
   },
   {
    "duration": 7,
    "start_time": "2023-11-24T13:23:59.387Z"
   },
   {
    "duration": 13,
    "start_time": "2023-11-24T13:24:01.619Z"
   },
   {
    "duration": 7,
    "start_time": "2023-11-24T13:24:04.524Z"
   },
   {
    "duration": 15,
    "start_time": "2023-11-24T13:24:06.843Z"
   },
   {
    "duration": 6,
    "start_time": "2023-11-24T13:24:39.235Z"
   },
   {
    "duration": 45,
    "start_time": "2023-11-24T13:27:46.703Z"
   },
   {
    "duration": 9,
    "start_time": "2023-11-24T13:28:22.766Z"
   },
   {
    "duration": 12,
    "start_time": "2023-11-24T13:31:15.876Z"
   },
   {
    "duration": 26,
    "start_time": "2023-11-24T13:32:49.034Z"
   },
   {
    "duration": 7,
    "start_time": "2023-11-24T13:33:16.963Z"
   },
   {
    "duration": 14,
    "start_time": "2023-11-24T13:34:38.713Z"
   },
   {
    "duration": 6,
    "start_time": "2023-11-24T13:34:47.385Z"
   },
   {
    "duration": 9,
    "start_time": "2023-11-24T13:34:56.936Z"
   },
   {
    "duration": 9,
    "start_time": "2023-11-24T13:35:03.969Z"
   },
   {
    "duration": 10,
    "start_time": "2023-11-24T13:38:38.941Z"
   },
   {
    "duration": 13,
    "start_time": "2023-11-24T13:39:05.813Z"
   },
   {
    "duration": 87,
    "start_time": "2023-11-24T13:45:57.765Z"
   },
   {
    "duration": 4,
    "start_time": "2023-11-24T13:46:07.661Z"
   },
   {
    "duration": 8,
    "start_time": "2023-11-24T13:48:36.747Z"
   },
   {
    "duration": 370,
    "start_time": "2023-11-25T08:29:50.417Z"
   },
   {
    "duration": 91,
    "start_time": "2023-11-25T08:29:50.789Z"
   },
   {
    "duration": 18,
    "start_time": "2023-11-25T08:29:50.882Z"
   },
   {
    "duration": 3,
    "start_time": "2023-11-25T08:29:50.901Z"
   },
   {
    "duration": 10,
    "start_time": "2023-11-25T08:29:50.905Z"
   },
   {
    "duration": 13,
    "start_time": "2023-11-25T08:29:50.917Z"
   },
   {
    "duration": 3,
    "start_time": "2023-11-25T08:29:50.931Z"
   },
   {
    "duration": 18,
    "start_time": "2023-11-25T08:29:50.935Z"
   },
   {
    "duration": 9,
    "start_time": "2023-11-25T08:29:50.955Z"
   },
   {
    "duration": 19,
    "start_time": "2023-11-25T08:29:50.965Z"
   },
   {
    "duration": 9,
    "start_time": "2023-11-25T08:29:50.985Z"
   },
   {
    "duration": 12,
    "start_time": "2023-11-25T08:29:50.995Z"
   },
   {
    "duration": 4,
    "start_time": "2023-11-25T08:29:51.008Z"
   },
   {
    "duration": 6,
    "start_time": "2023-11-25T08:29:51.014Z"
   },
   {
    "duration": 8,
    "start_time": "2023-11-25T08:29:51.022Z"
   },
   {
    "duration": 13,
    "start_time": "2023-11-25T08:29:51.031Z"
   },
   {
    "duration": 77,
    "start_time": "2023-11-25T08:29:51.046Z"
   },
   {
    "duration": 0,
    "start_time": "2023-11-25T08:29:51.124Z"
   },
   {
    "duration": 547,
    "start_time": "2023-11-25T08:30:15.591Z"
   },
   {
    "duration": 113,
    "start_time": "2023-11-25T08:30:26.067Z"
   },
   {
    "duration": 124,
    "start_time": "2023-11-25T08:30:44.694Z"
   },
   {
    "duration": 2,
    "start_time": "2023-11-25T08:32:09.415Z"
   },
   {
    "duration": 122,
    "start_time": "2023-11-25T08:32:13.004Z"
   },
   {
    "duration": 160,
    "start_time": "2023-11-25T08:32:26.344Z"
   },
   {
    "duration": 13,
    "start_time": "2023-11-25T08:34:48.217Z"
   },
   {
    "duration": 404,
    "start_time": "2023-11-25T08:35:22.019Z"
   },
   {
    "duration": 45,
    "start_time": "2023-11-25T08:35:33.627Z"
   },
   {
    "duration": 15,
    "start_time": "2023-11-25T08:35:59.783Z"
   },
   {
    "duration": 144,
    "start_time": "2023-11-25T08:36:07.669Z"
   },
   {
    "duration": 112,
    "start_time": "2023-11-25T08:36:18.740Z"
   },
   {
    "duration": 278,
    "start_time": "2023-11-25T08:36:34.581Z"
   },
   {
    "duration": 110,
    "start_time": "2023-11-25T08:37:43.306Z"
   },
   {
    "duration": 10,
    "start_time": "2023-11-25T08:37:48.604Z"
   },
   {
    "duration": 115,
    "start_time": "2023-11-25T08:38:18.314Z"
   },
   {
    "duration": 10,
    "start_time": "2023-11-25T08:39:36.977Z"
   },
   {
    "duration": 108,
    "start_time": "2023-11-25T08:39:48.072Z"
   },
   {
    "duration": 10,
    "start_time": "2023-11-25T08:40:01.160Z"
   },
   {
    "duration": 7,
    "start_time": "2023-11-25T08:40:09.605Z"
   },
   {
    "duration": 9,
    "start_time": "2023-11-25T08:40:28.193Z"
   },
   {
    "duration": 7,
    "start_time": "2023-11-25T08:40:33.232Z"
   },
   {
    "duration": 9,
    "start_time": "2023-11-25T08:40:41.257Z"
   },
   {
    "duration": 10,
    "start_time": "2023-11-25T08:41:07.093Z"
   },
   {
    "duration": 6,
    "start_time": "2023-11-25T08:41:14.947Z"
   },
   {
    "duration": 10,
    "start_time": "2023-11-25T08:41:26.442Z"
   },
   {
    "duration": 167,
    "start_time": "2023-11-25T08:43:15.832Z"
   },
   {
    "duration": 175,
    "start_time": "2023-11-25T08:44:12.003Z"
   },
   {
    "duration": 274,
    "start_time": "2023-11-25T08:52:45.297Z"
   },
   {
    "duration": 280,
    "start_time": "2023-11-25T08:53:13.120Z"
   },
   {
    "duration": 335,
    "start_time": "2023-11-25T08:53:18.189Z"
   },
   {
    "duration": 287,
    "start_time": "2023-11-25T08:53:22.352Z"
   },
   {
    "duration": 17,
    "start_time": "2023-11-25T08:58:14.604Z"
   },
   {
    "duration": 272,
    "start_time": "2023-11-25T08:58:27.364Z"
   },
   {
    "duration": 19,
    "start_time": "2023-11-25T09:01:51.010Z"
   },
   {
    "duration": 203,
    "start_time": "2023-11-25T09:02:30.957Z"
   },
   {
    "duration": 199,
    "start_time": "2023-11-25T09:03:44.540Z"
   },
   {
    "duration": 201,
    "start_time": "2023-11-25T09:04:14.438Z"
   },
   {
    "duration": 211,
    "start_time": "2023-11-25T09:04:59.050Z"
   },
   {
    "duration": 3,
    "start_time": "2023-11-25T09:08:56.789Z"
   },
   {
    "duration": 19,
    "start_time": "2023-11-25T09:16:17.380Z"
   },
   {
    "duration": 18,
    "start_time": "2023-11-25T10:31:43.231Z"
   },
   {
    "duration": 17,
    "start_time": "2023-11-25T10:32:08.059Z"
   },
   {
    "duration": 19,
    "start_time": "2023-11-25T10:32:25.820Z"
   },
   {
    "duration": 436,
    "start_time": "2023-11-25T10:32:52.938Z"
   },
   {
    "duration": 331,
    "start_time": "2023-11-25T10:33:35.548Z"
   },
   {
    "duration": 16,
    "start_time": "2023-11-25T10:33:51.081Z"
   },
   {
    "duration": 31,
    "start_time": "2023-11-25T10:34:32.819Z"
   },
   {
    "duration": 29,
    "start_time": "2023-11-25T10:35:00.407Z"
   },
   {
    "duration": 327,
    "start_time": "2023-11-25T10:35:21.189Z"
   },
   {
    "duration": 340,
    "start_time": "2023-11-25T10:37:21.651Z"
   },
   {
    "duration": 12,
    "start_time": "2023-11-25T10:40:34.209Z"
   },
   {
    "duration": 285,
    "start_time": "2023-11-25T10:41:00.311Z"
   },
   {
    "duration": 277,
    "start_time": "2023-11-25T10:41:33.399Z"
   },
   {
    "duration": 79,
    "start_time": "2023-11-25T10:44:26.477Z"
   },
   {
    "duration": 271,
    "start_time": "2023-11-25T11:09:51.244Z"
   },
   {
    "duration": 411,
    "start_time": "2023-11-25T11:10:17.586Z"
   },
   {
    "duration": 284,
    "start_time": "2023-11-25T11:10:35.103Z"
   },
   {
    "duration": 108,
    "start_time": "2023-11-25T11:10:57.414Z"
   },
   {
    "duration": 278,
    "start_time": "2023-11-25T11:11:24.466Z"
   },
   {
    "duration": 313,
    "start_time": "2023-11-25T11:11:33.596Z"
   },
   {
    "duration": 289,
    "start_time": "2023-11-25T11:13:13.804Z"
   },
   {
    "duration": 301,
    "start_time": "2023-11-25T11:13:23.393Z"
   },
   {
    "duration": 37,
    "start_time": "2023-11-25T11:14:19.184Z"
   },
   {
    "duration": 13,
    "start_time": "2023-11-25T11:15:04.703Z"
   },
   {
    "duration": 13,
    "start_time": "2023-11-25T11:15:14.463Z"
   },
   {
    "duration": 36,
    "start_time": "2023-11-25T11:15:53.314Z"
   },
   {
    "duration": 17,
    "start_time": "2023-11-25T11:28:34.444Z"
   },
   {
    "duration": 274,
    "start_time": "2023-11-25T11:28:37.626Z"
   },
   {
    "duration": 282,
    "start_time": "2023-11-25T11:28:45.464Z"
   },
   {
    "duration": 423,
    "start_time": "2023-11-25T11:29:12.320Z"
   },
   {
    "duration": 17,
    "start_time": "2023-11-25T11:34:16.406Z"
   },
   {
    "duration": 713,
    "start_time": "2023-11-25T11:35:20.823Z"
   },
   {
    "duration": 16,
    "start_time": "2023-11-25T11:37:00.303Z"
   },
   {
    "duration": 15,
    "start_time": "2023-11-25T11:37:15.223Z"
   },
   {
    "duration": 25,
    "start_time": "2023-11-25T11:37:34.044Z"
   },
   {
    "duration": 29,
    "start_time": "2023-11-25T11:37:51.853Z"
   },
   {
    "duration": 4,
    "start_time": "2023-11-25T11:38:27.503Z"
   },
   {
    "duration": 678,
    "start_time": "2023-11-25T11:38:35.773Z"
   },
   {
    "duration": 1408,
    "start_time": "2023-11-26T09:17:32.709Z"
   },
   {
    "duration": 189,
    "start_time": "2023-11-26T09:17:34.120Z"
   },
   {
    "duration": 17,
    "start_time": "2023-11-26T09:17:34.311Z"
   },
   {
    "duration": 3,
    "start_time": "2023-11-26T09:17:34.330Z"
   },
   {
    "duration": 8,
    "start_time": "2023-11-26T09:17:34.334Z"
   },
   {
    "duration": 18,
    "start_time": "2023-11-26T09:17:34.343Z"
   },
   {
    "duration": 3,
    "start_time": "2023-11-26T09:17:34.363Z"
   },
   {
    "duration": 26,
    "start_time": "2023-11-26T09:17:34.368Z"
   },
   {
    "duration": 22,
    "start_time": "2023-11-26T09:17:34.395Z"
   },
   {
    "duration": 8,
    "start_time": "2023-11-26T09:17:34.419Z"
   },
   {
    "duration": 7,
    "start_time": "2023-11-26T09:17:34.429Z"
   },
   {
    "duration": 27,
    "start_time": "2023-11-26T09:17:34.438Z"
   },
   {
    "duration": 13,
    "start_time": "2023-11-26T09:17:34.467Z"
   },
   {
    "duration": 11,
    "start_time": "2023-11-26T09:17:34.482Z"
   },
   {
    "duration": 138,
    "start_time": "2023-11-26T09:17:34.494Z"
   },
   {
    "duration": 312,
    "start_time": "2023-11-26T09:17:34.633Z"
   },
   {
    "duration": 229,
    "start_time": "2023-11-26T09:17:34.946Z"
   },
   {
    "duration": 17,
    "start_time": "2023-11-26T09:17:35.177Z"
   },
   {
    "duration": 318,
    "start_time": "2023-11-26T09:17:35.195Z"
   },
   {
    "duration": 264,
    "start_time": "2023-11-26T09:17:35.515Z"
   },
   {
    "duration": 123,
    "start_time": "2023-11-26T09:17:35.780Z"
   },
   {
    "duration": 0,
    "start_time": "2023-11-26T09:17:35.905Z"
   },
   {
    "duration": 0,
    "start_time": "2023-11-26T09:17:35.906Z"
   },
   {
    "duration": 118,
    "start_time": "2023-11-26T09:18:09.890Z"
   },
   {
    "duration": 198,
    "start_time": "2023-11-26T09:18:35.918Z"
   },
   {
    "duration": 194,
    "start_time": "2023-11-26T09:19:57.112Z"
   },
   {
    "duration": 9,
    "start_time": "2023-11-26T09:20:36.918Z"
   },
   {
    "duration": 229,
    "start_time": "2023-11-26T09:22:02.472Z"
   },
   {
    "duration": 15,
    "start_time": "2023-11-26T09:22:21.943Z"
   },
   {
    "duration": 234,
    "start_time": "2023-11-26T09:22:51.925Z"
   },
   {
    "duration": 221,
    "start_time": "2023-11-26T09:23:02.374Z"
   },
   {
    "duration": 239,
    "start_time": "2023-11-26T09:24:45.995Z"
   },
   {
    "duration": 256,
    "start_time": "2023-11-26T09:25:09.239Z"
   },
   {
    "duration": 255,
    "start_time": "2023-11-26T09:26:05.184Z"
   },
   {
    "duration": 745,
    "start_time": "2023-11-26T09:30:39.233Z"
   },
   {
    "duration": 1144,
    "start_time": "2023-11-26T09:42:33.114Z"
   },
   {
    "duration": 747,
    "start_time": "2023-11-26T09:42:47.412Z"
   },
   {
    "duration": 97,
    "start_time": "2023-11-26T09:42:54.353Z"
   },
   {
    "duration": 96,
    "start_time": "2023-11-26T09:43:03.026Z"
   },
   {
    "duration": 671,
    "start_time": "2023-11-26T09:44:31.789Z"
   },
   {
    "duration": 27,
    "start_time": "2023-11-26T09:45:23.752Z"
   },
   {
    "duration": 5,
    "start_time": "2023-11-26T09:45:50.734Z"
   },
   {
    "duration": 13,
    "start_time": "2023-11-26T09:47:05.235Z"
   },
   {
    "duration": 6,
    "start_time": "2023-11-26T09:47:39.870Z"
   },
   {
    "duration": 14,
    "start_time": "2023-11-26T09:47:54.692Z"
   },
   {
    "duration": 1160,
    "start_time": "2023-11-26T09:48:47.881Z"
   },
   {
    "duration": 6,
    "start_time": "2023-11-26T09:49:41.795Z"
   },
   {
    "duration": 11,
    "start_time": "2023-11-26T09:49:49.653Z"
   },
   {
    "duration": 11,
    "start_time": "2023-11-26T09:50:38.628Z"
   },
   {
    "duration": 85,
    "start_time": "2023-11-26T09:51:44.831Z"
   },
   {
    "duration": 11,
    "start_time": "2023-11-26T09:52:08.498Z"
   },
   {
    "duration": 11,
    "start_time": "2023-11-26T09:53:08.199Z"
   },
   {
    "duration": 60,
    "start_time": "2023-11-26T18:47:14.540Z"
   },
   {
    "duration": 1387,
    "start_time": "2023-11-26T18:47:35.820Z"
   },
   {
    "duration": 110,
    "start_time": "2023-11-26T18:47:37.210Z"
   },
   {
    "duration": 18,
    "start_time": "2023-11-26T18:47:37.322Z"
   },
   {
    "duration": 10,
    "start_time": "2023-11-26T18:47:37.341Z"
   },
   {
    "duration": 5,
    "start_time": "2023-11-26T18:47:37.353Z"
   },
   {
    "duration": 33,
    "start_time": "2023-11-26T18:47:37.359Z"
   },
   {
    "duration": 3,
    "start_time": "2023-11-26T18:47:37.394Z"
   },
   {
    "duration": 20,
    "start_time": "2023-11-26T18:47:37.398Z"
   },
   {
    "duration": 12,
    "start_time": "2023-11-26T18:47:37.419Z"
   },
   {
    "duration": 13,
    "start_time": "2023-11-26T18:47:37.432Z"
   },
   {
    "duration": 11,
    "start_time": "2023-11-26T18:47:37.447Z"
   },
   {
    "duration": 19,
    "start_time": "2023-11-26T18:47:37.460Z"
   },
   {
    "duration": 8,
    "start_time": "2023-11-26T18:47:37.482Z"
   },
   {
    "duration": 9,
    "start_time": "2023-11-26T18:47:37.495Z"
   },
   {
    "duration": 174,
    "start_time": "2023-11-26T18:47:37.506Z"
   },
   {
    "duration": 357,
    "start_time": "2023-11-26T18:47:37.682Z"
   },
   {
    "duration": 264,
    "start_time": "2023-11-26T18:47:38.041Z"
   },
   {
    "duration": 15,
    "start_time": "2023-11-26T18:47:38.307Z"
   },
   {
    "duration": 340,
    "start_time": "2023-11-26T18:47:38.323Z"
   },
   {
    "duration": 285,
    "start_time": "2023-11-26T18:47:38.664Z"
   },
   {
    "duration": 347,
    "start_time": "2023-11-26T18:47:38.951Z"
   },
   {
    "duration": 724,
    "start_time": "2023-11-26T18:47:39.299Z"
   },
   {
    "duration": 11,
    "start_time": "2023-11-26T18:47:40.025Z"
   },
   {
    "duration": 28,
    "start_time": "2023-11-26T18:47:40.038Z"
   },
   {
    "duration": 16,
    "start_time": "2023-11-26T18:47:40.068Z"
   },
   {
    "duration": 11,
    "start_time": "2023-11-26T18:47:40.086Z"
   },
   {
    "duration": 84,
    "start_time": "2023-11-26T18:47:40.099Z"
   },
   {
    "duration": 11,
    "start_time": "2023-11-26T18:47:54.774Z"
   },
   {
    "duration": 10,
    "start_time": "2023-11-26T18:48:08.018Z"
   },
   {
    "duration": 18,
    "start_time": "2023-11-26T18:48:16.170Z"
   },
   {
    "duration": 10,
    "start_time": "2023-11-26T18:48:21.545Z"
   },
   {
    "duration": 148,
    "start_time": "2023-11-26T18:48:37.336Z"
   },
   {
    "duration": 123,
    "start_time": "2023-11-26T18:48:58.705Z"
   },
   {
    "duration": 153,
    "start_time": "2023-11-26T18:49:11.060Z"
   },
   {
    "duration": 151,
    "start_time": "2023-11-26T18:49:37.715Z"
   },
   {
    "duration": 199,
    "start_time": "2023-11-26T18:50:27.249Z"
   },
   {
    "duration": 177,
    "start_time": "2023-11-26T18:50:52.898Z"
   },
   {
    "duration": 180,
    "start_time": "2023-11-26T18:51:20.217Z"
   },
   {
    "duration": 9,
    "start_time": "2023-11-26T18:54:04.451Z"
   },
   {
    "duration": 13,
    "start_time": "2023-11-26T18:54:50.576Z"
   },
   {
    "duration": 14,
    "start_time": "2023-11-26T18:55:11.640Z"
   },
   {
    "duration": 12,
    "start_time": "2023-11-26T18:55:55.312Z"
   },
   {
    "duration": 8,
    "start_time": "2023-11-26T18:57:07.616Z"
   },
   {
    "duration": 15,
    "start_time": "2023-11-26T18:57:13.850Z"
   },
   {
    "duration": 16,
    "start_time": "2023-11-26T18:59:49.432Z"
   },
   {
    "duration": 82,
    "start_time": "2023-11-26T19:00:29.508Z"
   },
   {
    "duration": 11,
    "start_time": "2023-11-26T19:00:45.668Z"
   },
   {
    "duration": 30,
    "start_time": "2023-11-26T19:00:51.653Z"
   },
   {
    "duration": 199,
    "start_time": "2023-11-26T19:03:30.135Z"
   },
   {
    "duration": 13,
    "start_time": "2023-11-26T19:06:00.283Z"
   },
   {
    "duration": 16,
    "start_time": "2023-11-26T19:06:10.021Z"
   },
   {
    "duration": 14,
    "start_time": "2023-11-26T19:06:39.392Z"
   },
   {
    "duration": 3,
    "start_time": "2023-11-27T18:17:39.837Z"
   },
   {
    "duration": 45,
    "start_time": "2023-11-27T18:25:39.113Z"
   },
   {
    "duration": 1289,
    "start_time": "2023-11-27T18:25:44.419Z"
   },
   {
    "duration": 192,
    "start_time": "2023-11-27T18:25:45.710Z"
   },
   {
    "duration": 16,
    "start_time": "2023-11-27T18:25:45.903Z"
   },
   {
    "duration": 3,
    "start_time": "2023-11-27T18:25:45.921Z"
   },
   {
    "duration": 15,
    "start_time": "2023-11-27T18:25:45.926Z"
   },
   {
    "duration": 29,
    "start_time": "2023-11-27T18:25:45.942Z"
   },
   {
    "duration": 3,
    "start_time": "2023-11-27T18:25:45.972Z"
   },
   {
    "duration": 6,
    "start_time": "2023-11-27T18:25:45.976Z"
   },
   {
    "duration": 6,
    "start_time": "2023-11-27T18:25:45.984Z"
   },
   {
    "duration": 13,
    "start_time": "2023-11-27T18:25:45.991Z"
   },
   {
    "duration": 6,
    "start_time": "2023-11-27T18:25:46.005Z"
   },
   {
    "duration": 14,
    "start_time": "2023-11-27T18:25:46.012Z"
   },
   {
    "duration": 17,
    "start_time": "2023-11-27T18:25:46.027Z"
   },
   {
    "duration": 6,
    "start_time": "2023-11-27T18:25:46.047Z"
   },
   {
    "duration": 137,
    "start_time": "2023-11-27T18:25:46.055Z"
   },
   {
    "duration": 308,
    "start_time": "2023-11-27T18:25:46.193Z"
   },
   {
    "duration": 221,
    "start_time": "2023-11-27T18:25:46.502Z"
   },
   {
    "duration": 16,
    "start_time": "2023-11-27T18:25:46.725Z"
   },
   {
    "duration": 307,
    "start_time": "2023-11-27T18:25:46.742Z"
   },
   {
    "duration": 259,
    "start_time": "2023-11-27T18:25:47.050Z"
   },
   {
    "duration": 259,
    "start_time": "2023-11-27T18:25:47.311Z"
   },
   {
    "duration": 809,
    "start_time": "2023-11-27T18:25:47.571Z"
   },
   {
    "duration": 18,
    "start_time": "2023-11-27T18:25:48.381Z"
   },
   {
    "duration": 22,
    "start_time": "2023-11-27T18:25:48.401Z"
   },
   {
    "duration": 9,
    "start_time": "2023-11-27T18:25:48.424Z"
   },
   {
    "duration": 10,
    "start_time": "2023-11-27T18:25:48.435Z"
   },
   {
    "duration": 169,
    "start_time": "2023-11-27T18:25:48.447Z"
   },
   {
    "duration": 169,
    "start_time": "2023-11-27T18:25:48.617Z"
   },
   {
    "duration": 22,
    "start_time": "2023-11-27T18:25:48.788Z"
   },
   {
    "duration": 66,
    "start_time": "2023-11-27T18:25:48.812Z"
   },
   {
    "duration": 10,
    "start_time": "2023-11-27T18:26:13.912Z"
   },
   {
    "duration": 9,
    "start_time": "2023-11-27T18:26:20.394Z"
   },
   {
    "duration": 6,
    "start_time": "2023-11-27T18:26:23.110Z"
   },
   {
    "duration": 101,
    "start_time": "2023-11-27T18:27:41.531Z"
   },
   {
    "duration": 6,
    "start_time": "2023-11-27T18:27:57.262Z"
   },
   {
    "duration": 7,
    "start_time": "2023-11-27T18:28:10.661Z"
   },
   {
    "duration": 6,
    "start_time": "2023-11-27T18:28:36.805Z"
   },
   {
    "duration": 7,
    "start_time": "2023-11-27T18:29:52.688Z"
   },
   {
    "duration": 5,
    "start_time": "2023-11-27T18:30:38.832Z"
   },
   {
    "duration": 10,
    "start_time": "2023-11-27T18:30:43.933Z"
   },
   {
    "duration": 7,
    "start_time": "2023-11-27T18:31:33.736Z"
   },
   {
    "duration": 12,
    "start_time": "2023-11-27T18:31:38.089Z"
   },
   {
    "duration": 12,
    "start_time": "2023-11-27T18:31:52.177Z"
   },
   {
    "duration": 12,
    "start_time": "2023-11-27T18:33:16.904Z"
   },
   {
    "duration": 116,
    "start_time": "2023-11-27T18:34:11.628Z"
   },
   {
    "duration": 85,
    "start_time": "2023-11-27T18:34:43.634Z"
   },
   {
    "duration": 12,
    "start_time": "2023-11-27T18:34:46.888Z"
   },
   {
    "duration": 12,
    "start_time": "2023-11-27T18:36:23.110Z"
   },
   {
    "duration": 12,
    "start_time": "2023-11-27T18:36:32.146Z"
   },
   {
    "duration": 1146,
    "start_time": "2023-11-27T18:37:08.221Z"
   },
   {
    "duration": 12,
    "start_time": "2023-11-27T18:37:23.493Z"
   },
   {
    "duration": 13,
    "start_time": "2023-11-27T18:38:07.398Z"
   },
   {
    "duration": 13,
    "start_time": "2023-11-27T18:44:15.573Z"
   },
   {
    "duration": 12,
    "start_time": "2023-11-27T18:45:21.362Z"
   },
   {
    "duration": 13,
    "start_time": "2023-11-27T18:46:01.947Z"
   },
   {
    "duration": 11,
    "start_time": "2023-11-27T18:46:50.964Z"
   },
   {
    "duration": 12,
    "start_time": "2023-11-27T18:47:59.643Z"
   },
   {
    "duration": 14,
    "start_time": "2023-11-27T18:48:16.054Z"
   },
   {
    "duration": 12,
    "start_time": "2023-11-27T18:48:26.186Z"
   },
   {
    "duration": 13,
    "start_time": "2023-11-27T18:48:37.740Z"
   },
   {
    "duration": 12,
    "start_time": "2023-11-27T18:48:47.652Z"
   },
   {
    "duration": 11,
    "start_time": "2023-11-27T18:48:58.656Z"
   },
   {
    "duration": 14,
    "start_time": "2023-11-27T18:55:57.748Z"
   },
   {
    "duration": 92,
    "start_time": "2023-11-27T18:56:25.275Z"
   },
   {
    "duration": 12,
    "start_time": "2023-11-27T18:59:38.612Z"
   },
   {
    "duration": 13,
    "start_time": "2023-11-27T19:00:04.362Z"
   },
   {
    "duration": 14,
    "start_time": "2023-11-27T19:02:34.254Z"
   },
   {
    "duration": 51,
    "start_time": "2023-11-28T12:57:40.377Z"
   },
   {
    "duration": 1439,
    "start_time": "2023-11-28T12:58:05.844Z"
   },
   {
    "duration": 95,
    "start_time": "2023-11-28T12:58:08.508Z"
   },
   {
    "duration": 18,
    "start_time": "2023-11-28T12:58:10.940Z"
   },
   {
    "duration": 1168,
    "start_time": "2023-11-28T12:58:18.392Z"
   },
   {
    "duration": 54,
    "start_time": "2023-11-28T12:58:19.562Z"
   },
   {
    "duration": 18,
    "start_time": "2023-11-28T12:58:19.618Z"
   },
   {
    "duration": 22,
    "start_time": "2023-11-28T12:58:19.639Z"
   },
   {
    "duration": 19,
    "start_time": "2023-11-28T12:58:19.662Z"
   },
   {
    "duration": 17,
    "start_time": "2023-11-28T12:58:19.683Z"
   },
   {
    "duration": 10,
    "start_time": "2023-11-28T12:58:19.702Z"
   },
   {
    "duration": 10,
    "start_time": "2023-11-28T12:58:19.714Z"
   },
   {
    "duration": 10,
    "start_time": "2023-11-28T12:58:19.726Z"
   },
   {
    "duration": 11,
    "start_time": "2023-11-28T12:58:19.738Z"
   },
   {
    "duration": 14,
    "start_time": "2023-11-28T12:58:19.751Z"
   },
   {
    "duration": 25,
    "start_time": "2023-11-28T12:58:19.767Z"
   },
   {
    "duration": 5,
    "start_time": "2023-11-28T12:58:19.794Z"
   },
   {
    "duration": 8,
    "start_time": "2023-11-28T12:58:19.800Z"
   },
   {
    "duration": 165,
    "start_time": "2023-11-28T12:58:19.810Z"
   },
   {
    "duration": 348,
    "start_time": "2023-11-28T12:58:19.976Z"
   },
   {
    "duration": 247,
    "start_time": "2023-11-28T12:58:20.326Z"
   },
   {
    "duration": 17,
    "start_time": "2023-11-28T12:58:20.575Z"
   },
   {
    "duration": 365,
    "start_time": "2023-11-28T12:58:20.594Z"
   },
   {
    "duration": 281,
    "start_time": "2023-11-28T12:58:20.960Z"
   },
   {
    "duration": 258,
    "start_time": "2023-11-28T12:58:21.243Z"
   },
   {
    "duration": 769,
    "start_time": "2023-11-28T12:58:21.503Z"
   },
   {
    "duration": 12,
    "start_time": "2023-11-28T12:58:22.274Z"
   },
   {
    "duration": 14,
    "start_time": "2023-11-28T12:58:22.287Z"
   },
   {
    "duration": 10,
    "start_time": "2023-11-28T12:58:22.303Z"
   },
   {
    "duration": 10,
    "start_time": "2023-11-28T12:58:22.314Z"
   },
   {
    "duration": 197,
    "start_time": "2023-11-28T12:58:22.326Z"
   },
   {
    "duration": 180,
    "start_time": "2023-11-28T12:58:22.527Z"
   },
   {
    "duration": 14,
    "start_time": "2023-11-28T12:58:22.708Z"
   },
   {
    "duration": 13,
    "start_time": "2023-11-28T12:58:22.723Z"
   },
   {
    "duration": 34,
    "start_time": "2023-11-28T12:58:22.737Z"
   },
   {
    "duration": 12,
    "start_time": "2023-11-28T12:58:22.773Z"
   },
   {
    "duration": 13,
    "start_time": "2023-11-28T12:58:22.786Z"
   },
   {
    "duration": 11,
    "start_time": "2023-11-28T12:58:22.800Z"
   },
   {
    "duration": 30,
    "start_time": "2023-11-28T12:58:22.812Z"
   },
   {
    "duration": 81,
    "start_time": "2023-11-28T12:59:19.227Z"
   },
   {
    "duration": 278,
    "start_time": "2023-11-28T12:59:36.997Z"
   },
   {
    "duration": 273,
    "start_time": "2023-11-28T12:59:46.355Z"
   },
   {
    "duration": 14,
    "start_time": "2023-11-28T13:01:28.275Z"
   },
   {
    "duration": 5,
    "start_time": "2023-11-28T13:02:43.432Z"
   },
   {
    "duration": 66,
    "start_time": "2023-11-28T13:06:57.366Z"
   },
   {
    "duration": 10,
    "start_time": "2023-11-28T13:07:01.415Z"
   },
   {
    "duration": 11,
    "start_time": "2023-11-28T13:07:13.245Z"
   },
   {
    "duration": 7,
    "start_time": "2023-11-28T13:07:23.020Z"
   },
   {
    "duration": 13,
    "start_time": "2023-11-28T13:13:05.408Z"
   },
   {
    "duration": 15,
    "start_time": "2023-11-28T13:44:32.859Z"
   },
   {
    "duration": 112,
    "start_time": "2023-11-28T13:49:37.671Z"
   },
   {
    "duration": 13,
    "start_time": "2023-11-28T13:49:47.015Z"
   },
   {
    "duration": 14,
    "start_time": "2023-11-28T13:50:17.781Z"
   },
   {
    "duration": 24,
    "start_time": "2023-11-28T14:25:54.791Z"
   },
   {
    "duration": 365,
    "start_time": "2023-11-28T14:25:58.701Z"
   },
   {
    "duration": 359,
    "start_time": "2023-11-28T14:26:50.755Z"
   },
   {
    "duration": 301,
    "start_time": "2023-11-28T14:26:57.396Z"
   },
   {
    "duration": 365,
    "start_time": "2023-11-28T14:27:10.253Z"
   },
   {
    "duration": 476,
    "start_time": "2023-11-28T14:27:14.179Z"
   },
   {
    "duration": 332,
    "start_time": "2023-11-28T14:27:44.364Z"
   },
   {
    "duration": 135,
    "start_time": "2023-11-28T14:31:45.608Z"
   },
   {
    "duration": 143,
    "start_time": "2023-11-28T14:31:58.759Z"
   },
   {
    "duration": 678,
    "start_time": "2023-11-28T14:33:55.566Z"
   },
   {
    "duration": 611,
    "start_time": "2023-11-28T14:34:46.645Z"
   },
   {
    "duration": 552,
    "start_time": "2023-11-28T14:34:54.613Z"
   },
   {
    "duration": 444,
    "start_time": "2023-11-28T14:35:02.952Z"
   },
   {
    "duration": 84,
    "start_time": "2023-11-28T14:36:29.763Z"
   },
   {
    "duration": 115,
    "start_time": "2023-11-28T14:36:36.236Z"
   },
   {
    "duration": 101,
    "start_time": "2023-11-28T14:36:48.795Z"
   },
   {
    "duration": 11,
    "start_time": "2023-11-28T14:38:29.458Z"
   },
   {
    "duration": 95,
    "start_time": "2023-11-28T14:38:39.985Z"
   },
   {
    "duration": 117,
    "start_time": "2023-11-28T17:06:47.157Z"
   },
   {
    "duration": 1321,
    "start_time": "2023-11-28T17:06:53.457Z"
   },
   {
    "duration": 194,
    "start_time": "2023-11-28T17:06:54.780Z"
   },
   {
    "duration": 20,
    "start_time": "2023-11-28T17:06:54.976Z"
   },
   {
    "duration": 12,
    "start_time": "2023-11-28T17:06:54.998Z"
   },
   {
    "duration": 9,
    "start_time": "2023-11-28T17:06:55.012Z"
   },
   {
    "duration": 49,
    "start_time": "2023-11-28T17:06:55.023Z"
   },
   {
    "duration": 39,
    "start_time": "2023-11-28T17:06:55.074Z"
   },
   {
    "duration": 18,
    "start_time": "2023-11-28T17:06:55.115Z"
   },
   {
    "duration": 34,
    "start_time": "2023-11-28T17:06:55.135Z"
   },
   {
    "duration": 19,
    "start_time": "2023-11-28T17:06:55.171Z"
   },
   {
    "duration": 24,
    "start_time": "2023-11-28T17:06:55.192Z"
   },
   {
    "duration": 20,
    "start_time": "2023-11-28T17:06:55.218Z"
   },
   {
    "duration": 28,
    "start_time": "2023-11-28T17:06:55.240Z"
   },
   {
    "duration": 24,
    "start_time": "2023-11-28T17:06:55.271Z"
   },
   {
    "duration": 168,
    "start_time": "2023-11-28T17:06:55.296Z"
   },
   {
    "duration": 321,
    "start_time": "2023-11-28T17:06:55.465Z"
   },
   {
    "duration": 234,
    "start_time": "2023-11-28T17:06:55.788Z"
   },
   {
    "duration": 15,
    "start_time": "2023-11-28T17:06:56.024Z"
   },
   {
    "duration": 368,
    "start_time": "2023-11-28T17:06:56.040Z"
   },
   {
    "duration": 292,
    "start_time": "2023-11-28T17:06:56.410Z"
   },
   {
    "duration": 333,
    "start_time": "2023-11-28T17:06:56.703Z"
   },
   {
    "duration": 354,
    "start_time": "2023-11-28T17:06:57.038Z"
   },
   {
    "duration": 344,
    "start_time": "2023-11-28T17:06:57.393Z"
   },
   {
    "duration": 12,
    "start_time": "2023-11-28T17:06:57.738Z"
   },
   {
    "duration": 26,
    "start_time": "2023-11-28T17:06:57.752Z"
   },
   {
    "duration": 15,
    "start_time": "2023-11-28T17:06:57.779Z"
   },
   {
    "duration": 23,
    "start_time": "2023-11-28T17:06:57.795Z"
   },
   {
    "duration": 159,
    "start_time": "2023-11-28T17:06:57.819Z"
   },
   {
    "duration": 161,
    "start_time": "2023-11-28T17:06:57.979Z"
   },
   {
    "duration": 13,
    "start_time": "2023-11-28T17:06:58.141Z"
   },
   {
    "duration": 27,
    "start_time": "2023-11-28T17:06:58.155Z"
   },
   {
    "duration": 12,
    "start_time": "2023-11-28T17:06:58.183Z"
   },
   {
    "duration": 23,
    "start_time": "2023-11-28T17:06:58.196Z"
   },
   {
    "duration": 12,
    "start_time": "2023-11-28T17:06:58.220Z"
   },
   {
    "duration": 13,
    "start_time": "2023-11-28T17:06:58.233Z"
   },
   {
    "duration": 13,
    "start_time": "2023-11-28T17:06:58.248Z"
   },
   {
    "duration": 5,
    "start_time": "2023-11-28T17:06:58.262Z"
   },
   {
    "duration": 53,
    "start_time": "2023-11-28T17:06:58.268Z"
   },
   {
    "duration": 14,
    "start_time": "2023-11-28T17:06:58.322Z"
   },
   {
    "duration": 13,
    "start_time": "2023-11-28T17:06:58.337Z"
   },
   {
    "duration": 91,
    "start_time": "2023-11-28T17:06:58.353Z"
   },
   {
    "duration": 3,
    "start_time": "2023-11-28T18:09:39.637Z"
   },
   {
    "duration": 5,
    "start_time": "2023-11-28T18:16:18.217Z"
   },
   {
    "duration": 104,
    "start_time": "2023-11-28T18:18:45.833Z"
   },
   {
    "duration": 3,
    "start_time": "2023-11-28T18:19:05.064Z"
   },
   {
    "duration": 7,
    "start_time": "2023-11-28T18:19:10.486Z"
   },
   {
    "duration": 7,
    "start_time": "2023-11-28T18:19:35.843Z"
   },
   {
    "duration": 6,
    "start_time": "2023-11-28T18:19:40.496Z"
   },
   {
    "duration": 6,
    "start_time": "2023-11-28T18:22:46.604Z"
   },
   {
    "duration": 4,
    "start_time": "2023-11-28T18:25:26.919Z"
   },
   {
    "duration": 10,
    "start_time": "2023-11-28T18:25:44.954Z"
   },
   {
    "duration": 15,
    "start_time": "2023-11-28T18:28:45.089Z"
   },
   {
    "duration": 5,
    "start_time": "2023-11-28T18:29:34.046Z"
   },
   {
    "duration": 11,
    "start_time": "2023-11-28T18:30:16.141Z"
   },
   {
    "duration": 6,
    "start_time": "2023-11-28T18:30:23.443Z"
   },
   {
    "duration": 14,
    "start_time": "2023-11-28T18:30:32.514Z"
   },
   {
    "duration": 5,
    "start_time": "2023-11-28T18:30:39.796Z"
   },
   {
    "duration": 6,
    "start_time": "2023-11-28T18:30:41.672Z"
   },
   {
    "duration": 8,
    "start_time": "2023-11-28T18:31:49.049Z"
   },
   {
    "duration": 12,
    "start_time": "2023-11-28T18:33:36.564Z"
   },
   {
    "duration": 10,
    "start_time": "2023-11-28T18:34:25.565Z"
   },
   {
    "duration": 5,
    "start_time": "2023-11-28T18:34:32.903Z"
   },
   {
    "duration": 300,
    "start_time": "2023-11-28T18:35:22.102Z"
   },
   {
    "duration": 83,
    "start_time": "2023-11-28T18:35:33.857Z"
   },
   {
    "duration": 4,
    "start_time": "2023-11-28T18:35:58.445Z"
   },
   {
    "duration": 91,
    "start_time": "2023-11-28T18:36:06.743Z"
   },
   {
    "duration": 7,
    "start_time": "2023-11-28T18:36:09.451Z"
   },
   {
    "duration": 4,
    "start_time": "2023-11-28T18:36:31.299Z"
   },
   {
    "duration": 7,
    "start_time": "2023-11-28T18:36:35.550Z"
   },
   {
    "duration": 7,
    "start_time": "2023-11-28T18:36:37.904Z"
   },
   {
    "duration": 7,
    "start_time": "2023-11-28T18:36:51.048Z"
   },
   {
    "duration": 10,
    "start_time": "2023-11-28T18:42:35.190Z"
   },
   {
    "duration": 618,
    "start_time": "2023-11-28T18:43:06.549Z"
   },
   {
    "duration": 12,
    "start_time": "2023-11-28T18:45:07.889Z"
   },
   {
    "duration": 619,
    "start_time": "2023-11-28T18:45:19.089Z"
   },
   {
    "duration": 9,
    "start_time": "2023-11-28T18:45:30.274Z"
   },
   {
    "duration": 22,
    "start_time": "2023-11-28T18:45:55.941Z"
   },
   {
    "duration": 13,
    "start_time": "2023-11-28T18:46:46.130Z"
   },
   {
    "duration": 666,
    "start_time": "2023-11-28T18:47:09.173Z"
   },
   {
    "duration": 9,
    "start_time": "2023-11-28T18:47:26.819Z"
   },
   {
    "duration": 11,
    "start_time": "2023-11-28T18:48:13.865Z"
   },
   {
    "duration": 5,
    "start_time": "2023-11-28T18:48:27.827Z"
   },
   {
    "duration": 5,
    "start_time": "2023-11-28T18:48:49.844Z"
   },
   {
    "duration": 13,
    "start_time": "2023-11-28T18:49:25.261Z"
   },
   {
    "duration": 1217,
    "start_time": "2023-11-28T18:51:07.570Z"
   },
   {
    "duration": 1192,
    "start_time": "2023-11-28T18:51:21.059Z"
   },
   {
    "duration": 1153,
    "start_time": "2023-11-28T18:51:34.079Z"
   },
   {
    "duration": 833,
    "start_time": "2023-11-28T18:51:48.689Z"
   },
   {
    "duration": 973,
    "start_time": "2023-11-28T18:52:21.877Z"
   },
   {
    "duration": 6,
    "start_time": "2023-11-28T18:52:39.986Z"
   },
   {
    "duration": 940,
    "start_time": "2023-11-28T18:53:06.018Z"
   },
   {
    "duration": 10,
    "start_time": "2023-11-28T18:53:31.461Z"
   },
   {
    "duration": 9,
    "start_time": "2023-11-28T18:53:58.453Z"
   },
   {
    "duration": 11,
    "start_time": "2023-11-28T18:54:11.816Z"
   },
   {
    "duration": 10,
    "start_time": "2023-11-28T18:55:15.616Z"
   },
   {
    "duration": 14,
    "start_time": "2023-11-28T18:56:06.344Z"
   },
   {
    "duration": 11,
    "start_time": "2023-11-28T18:56:54.341Z"
   },
   {
    "duration": 11,
    "start_time": "2023-11-28T18:58:17.450Z"
   },
   {
    "duration": 88,
    "start_time": "2023-11-28T18:59:50.519Z"
   },
   {
    "duration": 58,
    "start_time": "2023-11-29T17:55:56.634Z"
   },
   {
    "duration": 1268,
    "start_time": "2023-11-29T17:56:08.519Z"
   },
   {
    "duration": 96,
    "start_time": "2023-11-29T17:56:09.790Z"
   },
   {
    "duration": 18,
    "start_time": "2023-11-29T17:56:09.888Z"
   },
   {
    "duration": 18,
    "start_time": "2023-11-29T17:56:09.909Z"
   },
   {
    "duration": 38,
    "start_time": "2023-11-29T17:56:09.928Z"
   },
   {
    "duration": 48,
    "start_time": "2023-11-29T17:56:09.967Z"
   },
   {
    "duration": 40,
    "start_time": "2023-11-29T17:56:10.017Z"
   },
   {
    "duration": 28,
    "start_time": "2023-11-29T17:56:10.058Z"
   },
   {
    "duration": 28,
    "start_time": "2023-11-29T17:56:10.087Z"
   },
   {
    "duration": 37,
    "start_time": "2023-11-29T17:56:10.117Z"
   },
   {
    "duration": 28,
    "start_time": "2023-11-29T17:56:10.156Z"
   },
   {
    "duration": 24,
    "start_time": "2023-11-29T17:56:10.186Z"
   },
   {
    "duration": 28,
    "start_time": "2023-11-29T17:56:10.211Z"
   },
   {
    "duration": 18,
    "start_time": "2023-11-29T17:56:10.241Z"
   },
   {
    "duration": 38,
    "start_time": "2023-11-29T17:56:10.260Z"
   },
   {
    "duration": 172,
    "start_time": "2023-11-29T17:56:10.300Z"
   },
   {
    "duration": 328,
    "start_time": "2023-11-29T17:56:10.474Z"
   },
   {
    "duration": 236,
    "start_time": "2023-11-29T17:56:10.803Z"
   },
   {
    "duration": 30,
    "start_time": "2023-11-29T17:56:11.040Z"
   },
   {
    "duration": 396,
    "start_time": "2023-11-29T17:56:11.071Z"
   },
   {
    "duration": 290,
    "start_time": "2023-11-29T17:56:11.469Z"
   },
   {
    "duration": 329,
    "start_time": "2023-11-29T17:56:11.761Z"
   },
   {
    "duration": 350,
    "start_time": "2023-11-29T17:56:12.092Z"
   },
   {
    "duration": 352,
    "start_time": "2023-11-29T17:56:12.444Z"
   },
   {
    "duration": 12,
    "start_time": "2023-11-29T17:56:12.797Z"
   },
   {
    "duration": 11,
    "start_time": "2023-11-29T17:56:12.810Z"
   },
   {
    "duration": 11,
    "start_time": "2023-11-29T17:56:12.823Z"
   },
   {
    "duration": 37,
    "start_time": "2023-11-29T17:56:12.838Z"
   },
   {
    "duration": 173,
    "start_time": "2023-11-29T17:56:12.877Z"
   },
   {
    "duration": 174,
    "start_time": "2023-11-29T17:56:13.052Z"
   },
   {
    "duration": 16,
    "start_time": "2023-11-29T17:56:13.228Z"
   },
   {
    "duration": 31,
    "start_time": "2023-11-29T17:56:13.245Z"
   },
   {
    "duration": 13,
    "start_time": "2023-11-29T17:56:13.278Z"
   },
   {
    "duration": 12,
    "start_time": "2023-11-29T17:56:13.293Z"
   },
   {
    "duration": 12,
    "start_time": "2023-11-29T17:56:13.307Z"
   },
   {
    "duration": 46,
    "start_time": "2023-11-29T17:56:13.321Z"
   },
   {
    "duration": 12,
    "start_time": "2023-11-29T17:56:13.369Z"
   },
   {
    "duration": 5,
    "start_time": "2023-11-29T17:56:13.382Z"
   },
   {
    "duration": 16,
    "start_time": "2023-11-29T17:56:13.388Z"
   },
   {
    "duration": 14,
    "start_time": "2023-11-29T17:56:13.405Z"
   },
   {
    "duration": 14,
    "start_time": "2023-11-29T17:56:13.421Z"
   },
   {
    "duration": 30,
    "start_time": "2023-11-29T17:56:13.436Z"
   },
   {
    "duration": 820,
    "start_time": "2023-11-29T17:56:13.468Z"
   },
   {
    "duration": 0,
    "start_time": "2023-11-29T17:56:14.289Z"
   },
   {
    "duration": 0,
    "start_time": "2023-11-29T17:56:14.291Z"
   },
   {
    "duration": 7,
    "start_time": "2023-11-29T17:56:35.271Z"
   },
   {
    "duration": 6,
    "start_time": "2023-11-29T18:03:52.423Z"
   },
   {
    "duration": 17,
    "start_time": "2023-11-29T18:09:19.364Z"
   },
   {
    "duration": 9,
    "start_time": "2023-11-29T18:09:30.057Z"
   },
   {
    "duration": 17,
    "start_time": "2023-11-29T18:09:35.619Z"
   },
   {
    "duration": 93,
    "start_time": "2023-11-29T18:10:30.204Z"
   },
   {
    "duration": 17,
    "start_time": "2023-11-29T18:31:31.190Z"
   },
   {
    "duration": 252,
    "start_time": "2023-11-29T18:34:58.491Z"
   },
   {
    "duration": 137,
    "start_time": "2023-11-29T18:35:30.788Z"
   },
   {
    "duration": 123,
    "start_time": "2023-11-29T18:35:42.309Z"
   },
   {
    "duration": 131,
    "start_time": "2023-11-29T18:35:55.526Z"
   },
   {
    "duration": 307,
    "start_time": "2023-11-29T18:37:44.934Z"
   },
   {
    "duration": 389,
    "start_time": "2023-11-29T18:46:53.004Z"
   },
   {
    "duration": 337,
    "start_time": "2023-11-29T18:50:16.266Z"
   },
   {
    "duration": 336,
    "start_time": "2023-11-29T18:50:24.463Z"
   },
   {
    "duration": 287,
    "start_time": "2023-11-29T18:51:33.162Z"
   },
   {
    "duration": 15,
    "start_time": "2023-11-29T18:57:29.636Z"
   },
   {
    "duration": 1406,
    "start_time": "2023-11-30T11:18:34.312Z"
   },
   {
    "duration": 186,
    "start_time": "2023-11-30T11:18:35.720Z"
   },
   {
    "duration": 20,
    "start_time": "2023-11-30T11:18:35.907Z"
   },
   {
    "duration": 14,
    "start_time": "2023-11-30T11:18:35.928Z"
   },
   {
    "duration": 48,
    "start_time": "2023-11-30T11:18:35.945Z"
   },
   {
    "duration": 35,
    "start_time": "2023-11-30T11:18:35.994Z"
   },
   {
    "duration": 18,
    "start_time": "2023-11-30T11:18:36.031Z"
   },
   {
    "duration": 50,
    "start_time": "2023-11-30T11:18:36.050Z"
   },
   {
    "duration": 45,
    "start_time": "2023-11-30T11:18:36.102Z"
   },
   {
    "duration": 21,
    "start_time": "2023-11-30T11:18:36.149Z"
   },
   {
    "duration": 38,
    "start_time": "2023-11-30T11:18:36.172Z"
   },
   {
    "duration": 33,
    "start_time": "2023-11-30T11:18:36.211Z"
   },
   {
    "duration": 14,
    "start_time": "2023-11-30T11:18:36.246Z"
   },
   {
    "duration": 12,
    "start_time": "2023-11-30T11:18:36.263Z"
   },
   {
    "duration": 25,
    "start_time": "2023-11-30T11:18:36.277Z"
   },
   {
    "duration": 5,
    "start_time": "2023-11-30T11:18:36.304Z"
   },
   {
    "duration": 11,
    "start_time": "2023-11-30T11:18:36.310Z"
   },
   {
    "duration": 26,
    "start_time": "2023-11-30T11:18:36.323Z"
   },
   {
    "duration": 180,
    "start_time": "2023-11-30T11:18:36.350Z"
   },
   {
    "duration": 350,
    "start_time": "2023-11-30T11:18:36.531Z"
   },
   {
    "duration": 292,
    "start_time": "2023-11-30T11:18:36.883Z"
   },
   {
    "duration": 18,
    "start_time": "2023-11-30T11:18:37.177Z"
   },
   {
    "duration": 418,
    "start_time": "2023-11-30T11:18:37.196Z"
   },
   {
    "duration": 311,
    "start_time": "2023-11-30T11:18:37.615Z"
   },
   {
    "duration": 390,
    "start_time": "2023-11-30T11:18:37.928Z"
   },
   {
    "duration": 385,
    "start_time": "2023-11-30T11:18:38.320Z"
   },
   {
    "duration": 376,
    "start_time": "2023-11-30T11:18:38.706Z"
   },
   {
    "duration": 13,
    "start_time": "2023-11-30T11:18:39.083Z"
   },
   {
    "duration": 27,
    "start_time": "2023-11-30T11:18:39.097Z"
   },
   {
    "duration": 38,
    "start_time": "2023-11-30T11:18:39.125Z"
   },
   {
    "duration": 28,
    "start_time": "2023-11-30T11:18:39.165Z"
   },
   {
    "duration": 170,
    "start_time": "2023-11-30T11:18:39.195Z"
   },
   {
    "duration": 180,
    "start_time": "2023-11-30T11:18:39.372Z"
   },
   {
    "duration": 29,
    "start_time": "2023-11-30T11:18:39.554Z"
   },
   {
    "duration": 14,
    "start_time": "2023-11-30T11:18:39.585Z"
   },
   {
    "duration": 14,
    "start_time": "2023-11-30T11:18:39.600Z"
   },
   {
    "duration": 14,
    "start_time": "2023-11-30T11:18:39.615Z"
   },
   {
    "duration": 45,
    "start_time": "2023-11-30T11:18:39.630Z"
   },
   {
    "duration": 13,
    "start_time": "2023-11-30T11:18:39.677Z"
   },
   {
    "duration": 14,
    "start_time": "2023-11-30T11:18:39.692Z"
   },
   {
    "duration": 5,
    "start_time": "2023-11-30T11:18:39.710Z"
   },
   {
    "duration": 38,
    "start_time": "2023-11-30T11:18:39.716Z"
   },
   {
    "duration": 27,
    "start_time": "2023-11-30T11:18:39.755Z"
   },
   {
    "duration": 15,
    "start_time": "2023-11-30T11:18:39.783Z"
   },
   {
    "duration": 2,
    "start_time": "2023-11-30T11:18:39.800Z"
   },
   {
    "duration": 720,
    "start_time": "2023-11-30T11:18:39.804Z"
   },
   {
    "duration": 0,
    "start_time": "2023-11-30T11:18:40.526Z"
   },
   {
    "duration": 0,
    "start_time": "2023-11-30T11:18:40.528Z"
   },
   {
    "duration": 314,
    "start_time": "2023-11-30T11:32:27.033Z"
   },
   {
    "duration": 322,
    "start_time": "2023-11-30T11:34:33.167Z"
   },
   {
    "duration": 187,
    "start_time": "2023-11-30T13:33:46.484Z"
   },
   {
    "duration": 185,
    "start_time": "2023-11-30T13:33:58.251Z"
   },
   {
    "duration": 354,
    "start_time": "2023-11-30T13:36:54.952Z"
   },
   {
    "duration": 91,
    "start_time": "2023-11-30T13:47:37.903Z"
   },
   {
    "duration": 14,
    "start_time": "2023-11-30T14:12:43.344Z"
   },
   {
    "duration": 113,
    "start_time": "2023-11-30T14:14:00.726Z"
   },
   {
    "duration": 186,
    "start_time": "2023-11-30T14:14:20.645Z"
   },
   {
    "duration": 49,
    "start_time": "2023-12-01T11:55:05.310Z"
   },
   {
    "duration": 1320,
    "start_time": "2023-12-01T11:55:15.134Z"
   },
   {
    "duration": 190,
    "start_time": "2023-12-01T11:55:16.456Z"
   },
   {
    "duration": 17,
    "start_time": "2023-12-01T11:55:16.648Z"
   },
   {
    "duration": 3,
    "start_time": "2023-12-01T11:55:16.667Z"
   },
   {
    "duration": 5,
    "start_time": "2023-12-01T11:55:16.671Z"
   },
   {
    "duration": 20,
    "start_time": "2023-12-01T11:55:16.678Z"
   },
   {
    "duration": 3,
    "start_time": "2023-12-01T11:55:16.700Z"
   },
   {
    "duration": 6,
    "start_time": "2023-12-01T11:55:16.715Z"
   },
   {
    "duration": 12,
    "start_time": "2023-12-01T11:55:16.722Z"
   },
   {
    "duration": 8,
    "start_time": "2023-12-01T11:55:16.736Z"
   },
   {
    "duration": 15,
    "start_time": "2023-12-01T11:55:16.745Z"
   },
   {
    "duration": 15,
    "start_time": "2023-12-01T11:55:16.761Z"
   },
   {
    "duration": 4,
    "start_time": "2023-12-01T11:55:16.777Z"
   },
   {
    "duration": 33,
    "start_time": "2023-12-01T11:55:16.782Z"
   },
   {
    "duration": 14,
    "start_time": "2023-12-01T11:55:16.816Z"
   },
   {
    "duration": 4,
    "start_time": "2023-12-01T11:55:16.832Z"
   },
   {
    "duration": 7,
    "start_time": "2023-12-01T11:55:16.837Z"
   },
   {
    "duration": 16,
    "start_time": "2023-12-01T11:55:16.845Z"
   },
   {
    "duration": 167,
    "start_time": "2023-12-01T11:55:16.862Z"
   },
   {
    "duration": 299,
    "start_time": "2023-12-01T11:55:17.030Z"
   },
   {
    "duration": 229,
    "start_time": "2023-12-01T11:55:17.330Z"
   },
   {
    "duration": 15,
    "start_time": "2023-12-01T11:55:17.561Z"
   },
   {
    "duration": 358,
    "start_time": "2023-12-01T11:55:17.578Z"
   },
   {
    "duration": 282,
    "start_time": "2023-12-01T11:55:17.938Z"
   },
   {
    "duration": 330,
    "start_time": "2023-12-01T11:55:18.222Z"
   },
   {
    "duration": 353,
    "start_time": "2023-12-01T11:55:18.554Z"
   },
   {
    "duration": 333,
    "start_time": "2023-12-01T11:55:18.908Z"
   },
   {
    "duration": 12,
    "start_time": "2023-12-01T11:55:19.245Z"
   },
   {
    "duration": 11,
    "start_time": "2023-12-01T11:55:19.258Z"
   },
   {
    "duration": 18,
    "start_time": "2023-12-01T11:55:19.271Z"
   },
   {
    "duration": 24,
    "start_time": "2023-12-01T11:55:19.291Z"
   },
   {
    "duration": 164,
    "start_time": "2023-12-01T11:55:19.316Z"
   },
   {
    "duration": 156,
    "start_time": "2023-12-01T11:55:19.482Z"
   },
   {
    "duration": 13,
    "start_time": "2023-12-01T11:55:19.640Z"
   },
   {
    "duration": 14,
    "start_time": "2023-12-01T11:55:19.655Z"
   },
   {
    "duration": 13,
    "start_time": "2023-12-01T11:55:19.670Z"
   },
   {
    "duration": 35,
    "start_time": "2023-12-01T11:55:19.684Z"
   },
   {
    "duration": 11,
    "start_time": "2023-12-01T11:55:19.721Z"
   },
   {
    "duration": 32,
    "start_time": "2023-12-01T11:55:19.734Z"
   },
   {
    "duration": 15,
    "start_time": "2023-12-01T11:55:19.769Z"
   },
   {
    "duration": 5,
    "start_time": "2023-12-01T11:55:19.786Z"
   },
   {
    "duration": 33,
    "start_time": "2023-12-01T11:55:19.793Z"
   },
   {
    "duration": 13,
    "start_time": "2023-12-01T11:55:19.827Z"
   },
   {
    "duration": 13,
    "start_time": "2023-12-01T11:55:19.842Z"
   },
   {
    "duration": 13,
    "start_time": "2023-12-01T11:55:19.856Z"
   },
   {
    "duration": 10,
    "start_time": "2023-12-01T11:55:19.871Z"
   },
   {
    "duration": 104,
    "start_time": "2023-12-01T12:04:04.621Z"
   },
   {
    "duration": 89,
    "start_time": "2023-12-01T12:04:55.604Z"
   },
   {
    "duration": 12,
    "start_time": "2023-12-01T12:05:04.716Z"
   },
   {
    "duration": 99,
    "start_time": "2023-12-01T12:05:43.636Z"
   },
   {
    "duration": 11,
    "start_time": "2023-12-01T12:05:48.883Z"
   },
   {
    "duration": 12,
    "start_time": "2023-12-01T12:06:33.609Z"
   },
   {
    "duration": 2,
    "start_time": "2023-12-01T12:08:23.710Z"
   },
   {
    "duration": 13,
    "start_time": "2023-12-01T13:55:06.110Z"
   },
   {
    "duration": 95,
    "start_time": "2023-12-01T13:56:19.893Z"
   },
   {
    "duration": 3,
    "start_time": "2023-12-01T14:39:13.947Z"
   },
   {
    "duration": 64,
    "start_time": "2023-12-01T14:39:13.952Z"
   },
   {
    "duration": 21,
    "start_time": "2023-12-01T14:39:14.018Z"
   },
   {
    "duration": 3,
    "start_time": "2023-12-01T14:39:14.042Z"
   },
   {
    "duration": 9,
    "start_time": "2023-12-01T14:39:14.047Z"
   },
   {
    "duration": 16,
    "start_time": "2023-12-01T14:39:14.058Z"
   },
   {
    "duration": 3,
    "start_time": "2023-12-01T14:39:14.076Z"
   },
   {
    "duration": 5,
    "start_time": "2023-12-01T14:39:14.115Z"
   },
   {
    "duration": 12,
    "start_time": "2023-12-01T14:39:14.122Z"
   },
   {
    "duration": 9,
    "start_time": "2023-12-01T14:39:14.136Z"
   },
   {
    "duration": 17,
    "start_time": "2023-12-01T14:39:14.147Z"
   },
   {
    "duration": 14,
    "start_time": "2023-12-01T14:39:14.166Z"
   },
   {
    "duration": 5,
    "start_time": "2023-12-01T14:39:14.215Z"
   },
   {
    "duration": 7,
    "start_time": "2023-12-01T14:39:14.221Z"
   },
   {
    "duration": 15,
    "start_time": "2023-12-01T14:39:14.229Z"
   },
   {
    "duration": 4,
    "start_time": "2023-12-01T14:39:14.246Z"
   },
   {
    "duration": 9,
    "start_time": "2023-12-01T14:39:14.251Z"
   },
   {
    "duration": 54,
    "start_time": "2023-12-01T14:39:14.261Z"
   },
   {
    "duration": 135,
    "start_time": "2023-12-01T14:39:14.317Z"
   },
   {
    "duration": 314,
    "start_time": "2023-12-01T14:39:14.454Z"
   },
   {
    "duration": 244,
    "start_time": "2023-12-01T14:39:14.769Z"
   },
   {
    "duration": 18,
    "start_time": "2023-12-01T14:39:15.015Z"
   },
   {
    "duration": 37,
    "start_time": "2023-12-01T14:39:15.035Z"
   },
   {
    "duration": 363,
    "start_time": "2023-12-01T14:39:15.073Z"
   },
   {
    "duration": 313,
    "start_time": "2023-12-01T14:39:15.438Z"
   },
   {
    "duration": 436,
    "start_time": "2023-12-01T14:39:15.753Z"
   },
   {
    "duration": 287,
    "start_time": "2023-12-01T14:39:16.191Z"
   },
   {
    "duration": 316,
    "start_time": "2023-12-01T14:39:16.480Z"
   },
   {
    "duration": 19,
    "start_time": "2023-12-01T14:39:16.799Z"
   },
   {
    "duration": 11,
    "start_time": "2023-12-01T14:39:16.820Z"
   },
   {
    "duration": 14,
    "start_time": "2023-12-01T14:39:16.833Z"
   },
   {
    "duration": 12,
    "start_time": "2023-12-01T14:39:16.848Z"
   },
   {
    "duration": 190,
    "start_time": "2023-12-01T14:39:16.861Z"
   },
   {
    "duration": 168,
    "start_time": "2023-12-01T14:39:17.053Z"
   },
   {
    "duration": 15,
    "start_time": "2023-12-01T14:39:17.222Z"
   },
   {
    "duration": 12,
    "start_time": "2023-12-01T14:39:17.238Z"
   },
   {
    "duration": 13,
    "start_time": "2023-12-01T14:39:17.251Z"
   },
   {
    "duration": 13,
    "start_time": "2023-12-01T14:39:17.266Z"
   },
   {
    "duration": 44,
    "start_time": "2023-12-01T14:39:17.281Z"
   },
   {
    "duration": 11,
    "start_time": "2023-12-01T14:39:17.326Z"
   },
   {
    "duration": 12,
    "start_time": "2023-12-01T14:39:17.338Z"
   },
   {
    "duration": 5,
    "start_time": "2023-12-01T14:39:17.351Z"
   },
   {
    "duration": 16,
    "start_time": "2023-12-01T14:39:17.357Z"
   },
   {
    "duration": 47,
    "start_time": "2023-12-01T14:39:17.375Z"
   },
   {
    "duration": 39,
    "start_time": "2023-12-01T14:39:17.423Z"
   },
   {
    "duration": 12,
    "start_time": "2023-12-01T14:39:17.463Z"
   },
   {
    "duration": 11,
    "start_time": "2023-12-01T14:39:17.476Z"
   },
   {
    "duration": 1288,
    "start_time": "2023-12-01T15:11:47.363Z"
   },
   {
    "duration": 92,
    "start_time": "2023-12-01T15:11:48.653Z"
   },
   {
    "duration": 16,
    "start_time": "2023-12-01T15:11:48.746Z"
   },
   {
    "duration": 24,
    "start_time": "2023-12-01T15:11:48.763Z"
   },
   {
    "duration": 32,
    "start_time": "2023-12-01T15:11:48.789Z"
   },
   {
    "duration": 40,
    "start_time": "2023-12-01T15:11:48.822Z"
   },
   {
    "duration": 3,
    "start_time": "2023-12-01T15:11:48.864Z"
   },
   {
    "duration": 31,
    "start_time": "2023-12-01T15:11:48.868Z"
   },
   {
    "duration": 30,
    "start_time": "2023-12-01T15:11:48.900Z"
   },
   {
    "duration": 47,
    "start_time": "2023-12-01T15:11:48.931Z"
   },
   {
    "duration": 33,
    "start_time": "2023-12-01T15:11:48.980Z"
   },
   {
    "duration": 39,
    "start_time": "2023-12-01T15:11:49.015Z"
   },
   {
    "duration": 26,
    "start_time": "2023-12-01T15:11:49.055Z"
   },
   {
    "duration": 34,
    "start_time": "2023-12-01T15:11:49.084Z"
   },
   {
    "duration": 39,
    "start_time": "2023-12-01T15:11:49.119Z"
   },
   {
    "duration": 20,
    "start_time": "2023-12-01T15:11:49.160Z"
   },
   {
    "duration": 11,
    "start_time": "2023-12-01T15:11:49.181Z"
   },
   {
    "duration": 35,
    "start_time": "2023-12-01T15:11:49.193Z"
   },
   {
    "duration": 168,
    "start_time": "2023-12-01T15:11:49.229Z"
   },
   {
    "duration": 252,
    "start_time": "2023-12-01T15:11:49.399Z"
   },
   {
    "duration": 200,
    "start_time": "2023-12-01T15:11:49.653Z"
   },
   {
    "duration": 18,
    "start_time": "2023-12-01T15:11:49.855Z"
   },
   {
    "duration": 11,
    "start_time": "2023-12-01T15:11:49.875Z"
   },
   {
    "duration": 313,
    "start_time": "2023-12-01T15:11:49.887Z"
   },
   {
    "duration": 265,
    "start_time": "2023-12-01T15:11:50.202Z"
   },
   {
    "duration": 288,
    "start_time": "2023-12-01T15:11:50.470Z"
   },
   {
    "duration": 291,
    "start_time": "2023-12-01T15:11:50.759Z"
   },
   {
    "duration": 331,
    "start_time": "2023-12-01T15:11:51.052Z"
   },
   {
    "duration": 12,
    "start_time": "2023-12-01T15:11:51.384Z"
   },
   {
    "duration": 214,
    "start_time": "2023-12-01T15:11:51.397Z"
   },
   {
    "duration": 10,
    "start_time": "2023-12-01T15:11:51.613Z"
   },
   {
    "duration": 14,
    "start_time": "2023-12-01T15:11:51.625Z"
   },
   {
    "duration": 138,
    "start_time": "2023-12-01T15:11:51.640Z"
   },
   {
    "duration": 148,
    "start_time": "2023-12-01T15:11:51.780Z"
   },
   {
    "duration": 13,
    "start_time": "2023-12-01T15:11:51.930Z"
   },
   {
    "duration": 25,
    "start_time": "2023-12-01T15:11:51.945Z"
   },
   {
    "duration": 11,
    "start_time": "2023-12-01T15:11:51.972Z"
   },
   {
    "duration": 13,
    "start_time": "2023-12-01T15:11:51.985Z"
   },
   {
    "duration": 12,
    "start_time": "2023-12-01T15:11:52.000Z"
   },
   {
    "duration": 12,
    "start_time": "2023-12-01T15:11:52.014Z"
   },
   {
    "duration": 47,
    "start_time": "2023-12-01T15:11:52.030Z"
   },
   {
    "duration": 3,
    "start_time": "2023-12-01T15:11:52.078Z"
   },
   {
    "duration": 18,
    "start_time": "2023-12-01T15:11:52.082Z"
   },
   {
    "duration": 18,
    "start_time": "2023-12-01T15:11:52.101Z"
   },
   {
    "duration": 11,
    "start_time": "2023-12-01T15:11:52.120Z"
   },
   {
    "duration": 10,
    "start_time": "2023-12-01T15:11:52.132Z"
   },
   {
    "duration": 27,
    "start_time": "2023-12-01T15:11:52.143Z"
   },
   {
    "duration": 48,
    "start_time": "2023-12-03T08:10:00.166Z"
   },
   {
    "duration": 1347,
    "start_time": "2023-12-03T08:10:05.226Z"
   },
   {
    "duration": 97,
    "start_time": "2023-12-03T08:10:06.575Z"
   },
   {
    "duration": 15,
    "start_time": "2023-12-03T08:10:06.674Z"
   },
   {
    "duration": 3,
    "start_time": "2023-12-03T08:10:06.690Z"
   },
   {
    "duration": 4,
    "start_time": "2023-12-03T08:10:06.695Z"
   },
   {
    "duration": 23,
    "start_time": "2023-12-03T08:10:06.700Z"
   },
   {
    "duration": 3,
    "start_time": "2023-12-03T08:10:06.725Z"
   },
   {
    "duration": 13,
    "start_time": "2023-12-03T08:10:06.729Z"
   },
   {
    "duration": 6,
    "start_time": "2023-12-03T08:10:06.744Z"
   },
   {
    "duration": 18,
    "start_time": "2023-12-03T08:10:06.751Z"
   },
   {
    "duration": 12,
    "start_time": "2023-12-03T08:10:06.770Z"
   },
   {
    "duration": 13,
    "start_time": "2023-12-03T08:10:06.783Z"
   },
   {
    "duration": 5,
    "start_time": "2023-12-03T08:10:06.797Z"
   },
   {
    "duration": 16,
    "start_time": "2023-12-03T08:10:06.804Z"
   },
   {
    "duration": 10,
    "start_time": "2023-12-03T08:10:06.822Z"
   },
   {
    "duration": 34,
    "start_time": "2023-12-03T08:10:06.834Z"
   },
   {
    "duration": 5,
    "start_time": "2023-12-03T08:10:06.869Z"
   },
   {
    "duration": 17,
    "start_time": "2023-12-03T08:10:06.875Z"
   },
   {
    "duration": 17,
    "start_time": "2023-12-03T08:10:06.893Z"
   },
   {
    "duration": 151,
    "start_time": "2023-12-03T08:10:06.911Z"
   },
   {
    "duration": 325,
    "start_time": "2023-12-03T08:10:07.066Z"
   },
   {
    "duration": 237,
    "start_time": "2023-12-03T08:10:07.393Z"
   },
   {
    "duration": 28,
    "start_time": "2023-12-03T08:10:07.631Z"
   },
   {
    "duration": 10,
    "start_time": "2023-12-03T08:10:07.665Z"
   },
   {
    "duration": 362,
    "start_time": "2023-12-03T08:10:07.676Z"
   },
   {
    "duration": 281,
    "start_time": "2023-12-03T08:10:08.039Z"
   },
   {
    "duration": 397,
    "start_time": "2023-12-03T08:10:08.322Z"
   },
   {
    "duration": 272,
    "start_time": "2023-12-03T08:10:08.721Z"
   },
   {
    "duration": 339,
    "start_time": "2023-12-03T08:10:08.995Z"
   },
   {
    "duration": 32,
    "start_time": "2023-12-03T08:10:09.335Z"
   },
   {
    "duration": 11,
    "start_time": "2023-12-03T08:10:09.368Z"
   },
   {
    "duration": 11,
    "start_time": "2023-12-03T08:10:09.380Z"
   },
   {
    "duration": 26,
    "start_time": "2023-12-03T08:10:09.392Z"
   },
   {
    "duration": 153,
    "start_time": "2023-12-03T08:10:09.419Z"
   },
   {
    "duration": 158,
    "start_time": "2023-12-03T08:10:09.573Z"
   },
   {
    "duration": 28,
    "start_time": "2023-12-03T08:10:09.733Z"
   },
   {
    "duration": 17,
    "start_time": "2023-12-03T08:10:09.773Z"
   },
   {
    "duration": 14,
    "start_time": "2023-12-03T08:10:09.791Z"
   },
   {
    "duration": 15,
    "start_time": "2023-12-03T08:10:09.807Z"
   },
   {
    "duration": 34,
    "start_time": "2023-12-03T08:10:09.824Z"
   },
   {
    "duration": 11,
    "start_time": "2023-12-03T08:10:09.868Z"
   },
   {
    "duration": 19,
    "start_time": "2023-12-03T08:10:09.881Z"
   },
   {
    "duration": 4,
    "start_time": "2023-12-03T08:10:09.901Z"
   },
   {
    "duration": 13,
    "start_time": "2023-12-03T08:10:09.907Z"
   },
   {
    "duration": 13,
    "start_time": "2023-12-03T08:10:09.922Z"
   },
   {
    "duration": 29,
    "start_time": "2023-12-03T08:10:09.936Z"
   },
   {
    "duration": 13,
    "start_time": "2023-12-03T08:10:09.966Z"
   },
   {
    "duration": 10,
    "start_time": "2023-12-03T08:10:09.980Z"
   },
   {
    "duration": 8,
    "start_time": "2023-12-03T08:13:42.361Z"
   },
   {
    "duration": 77,
    "start_time": "2023-12-03T08:14:13.506Z"
   },
   {
    "duration": 5,
    "start_time": "2023-12-03T08:14:18.476Z"
   },
   {
    "duration": 107,
    "start_time": "2023-12-03T08:16:34.999Z"
   },
   {
    "duration": 80,
    "start_time": "2023-12-03T08:16:41.236Z"
   },
   {
    "duration": 4,
    "start_time": "2023-12-03T08:16:56.721Z"
   },
   {
    "duration": 1349,
    "start_time": "2023-12-03T14:23:41.015Z"
   },
   {
    "duration": 106,
    "start_time": "2023-12-03T14:23:42.367Z"
   },
   {
    "duration": 23,
    "start_time": "2023-12-03T14:23:42.475Z"
   },
   {
    "duration": 3,
    "start_time": "2023-12-03T14:23:42.500Z"
   },
   {
    "duration": 14,
    "start_time": "2023-12-03T14:23:42.505Z"
   },
   {
    "duration": 33,
    "start_time": "2023-12-03T14:23:42.520Z"
   },
   {
    "duration": 3,
    "start_time": "2023-12-03T14:23:42.555Z"
   },
   {
    "duration": 13,
    "start_time": "2023-12-03T14:23:42.559Z"
   },
   {
    "duration": 8,
    "start_time": "2023-12-03T14:23:42.573Z"
   },
   {
    "duration": 9,
    "start_time": "2023-12-03T14:23:42.584Z"
   },
   {
    "duration": 18,
    "start_time": "2023-12-03T14:23:42.595Z"
   },
   {
    "duration": 44,
    "start_time": "2023-12-03T14:23:42.615Z"
   },
   {
    "duration": 5,
    "start_time": "2023-12-03T14:23:42.661Z"
   },
   {
    "duration": 25,
    "start_time": "2023-12-03T14:23:42.668Z"
   },
   {
    "duration": 11,
    "start_time": "2023-12-03T14:23:42.694Z"
   },
   {
    "duration": 6,
    "start_time": "2023-12-03T14:23:42.706Z"
   },
   {
    "duration": 24,
    "start_time": "2023-12-03T14:23:42.713Z"
   },
   {
    "duration": 72,
    "start_time": "2023-12-03T14:23:42.738Z"
   },
   {
    "duration": 0,
    "start_time": "2023-12-03T14:23:42.812Z"
   },
   {
    "duration": 0,
    "start_time": "2023-12-03T14:23:42.814Z"
   },
   {
    "duration": 0,
    "start_time": "2023-12-03T14:23:42.815Z"
   },
   {
    "duration": 0,
    "start_time": "2023-12-03T14:23:42.817Z"
   },
   {
    "duration": 0,
    "start_time": "2023-12-03T14:23:42.818Z"
   },
   {
    "duration": 0,
    "start_time": "2023-12-03T14:23:42.820Z"
   },
   {
    "duration": 0,
    "start_time": "2023-12-03T14:23:42.821Z"
   },
   {
    "duration": 0,
    "start_time": "2023-12-03T14:23:42.822Z"
   },
   {
    "duration": 0,
    "start_time": "2023-12-03T14:23:42.824Z"
   },
   {
    "duration": 0,
    "start_time": "2023-12-03T14:23:42.825Z"
   },
   {
    "duration": 0,
    "start_time": "2023-12-03T14:23:42.826Z"
   },
   {
    "duration": 0,
    "start_time": "2023-12-03T14:23:42.828Z"
   },
   {
    "duration": 0,
    "start_time": "2023-12-03T14:23:42.829Z"
   },
   {
    "duration": 0,
    "start_time": "2023-12-03T14:23:42.830Z"
   },
   {
    "duration": 0,
    "start_time": "2023-12-03T14:23:42.831Z"
   },
   {
    "duration": 0,
    "start_time": "2023-12-03T14:23:42.832Z"
   },
   {
    "duration": 0,
    "start_time": "2023-12-03T14:23:42.834Z"
   },
   {
    "duration": 0,
    "start_time": "2023-12-03T14:23:42.835Z"
   },
   {
    "duration": 0,
    "start_time": "2023-12-03T14:23:42.836Z"
   },
   {
    "duration": 0,
    "start_time": "2023-12-03T14:23:42.837Z"
   },
   {
    "duration": 0,
    "start_time": "2023-12-03T14:23:42.839Z"
   },
   {
    "duration": 0,
    "start_time": "2023-12-03T14:23:42.840Z"
   },
   {
    "duration": 0,
    "start_time": "2023-12-03T14:23:42.841Z"
   },
   {
    "duration": 0,
    "start_time": "2023-12-03T14:23:42.842Z"
   },
   {
    "duration": 0,
    "start_time": "2023-12-03T14:23:42.843Z"
   },
   {
    "duration": 0,
    "start_time": "2023-12-03T14:23:42.844Z"
   },
   {
    "duration": 1,
    "start_time": "2023-12-03T14:23:42.845Z"
   },
   {
    "duration": 0,
    "start_time": "2023-12-03T14:23:42.847Z"
   },
   {
    "duration": 0,
    "start_time": "2023-12-03T14:23:42.848Z"
   },
   {
    "duration": 0,
    "start_time": "2023-12-03T14:23:42.849Z"
   },
   {
    "duration": 0,
    "start_time": "2023-12-03T14:23:42.852Z"
   },
   {
    "duration": 0,
    "start_time": "2023-12-03T14:23:42.853Z"
   },
   {
    "duration": 8,
    "start_time": "2023-12-03T14:25:49.109Z"
   },
   {
    "duration": 26,
    "start_time": "2023-12-03T14:26:08.391Z"
   },
   {
    "duration": 5,
    "start_time": "2023-12-03T14:41:30.100Z"
   },
   {
    "duration": 85,
    "start_time": "2023-12-03T14:42:13.961Z"
   },
   {
    "duration": 6,
    "start_time": "2023-12-03T14:42:39.204Z"
   },
   {
    "duration": 3,
    "start_time": "2023-12-03T14:42:49.538Z"
   },
   {
    "duration": 58,
    "start_time": "2023-12-03T14:42:49.545Z"
   },
   {
    "duration": 14,
    "start_time": "2023-12-03T14:42:49.605Z"
   },
   {
    "duration": 3,
    "start_time": "2023-12-03T14:42:49.621Z"
   },
   {
    "duration": 4,
    "start_time": "2023-12-03T14:42:49.626Z"
   },
   {
    "duration": 28,
    "start_time": "2023-12-03T14:42:49.632Z"
   },
   {
    "duration": 3,
    "start_time": "2023-12-03T14:42:49.662Z"
   },
   {
    "duration": 6,
    "start_time": "2023-12-03T14:42:49.667Z"
   },
   {
    "duration": 8,
    "start_time": "2023-12-03T14:42:49.675Z"
   },
   {
    "duration": 11,
    "start_time": "2023-12-03T14:42:49.684Z"
   },
   {
    "duration": 23,
    "start_time": "2023-12-03T14:42:49.697Z"
   },
   {
    "duration": 46,
    "start_time": "2023-12-03T14:42:49.722Z"
   },
   {
    "duration": 7,
    "start_time": "2023-12-03T14:42:49.769Z"
   },
   {
    "duration": 7,
    "start_time": "2023-12-03T14:42:49.778Z"
   },
   {
    "duration": 6,
    "start_time": "2023-12-03T14:42:49.789Z"
   },
   {
    "duration": 14,
    "start_time": "2023-12-03T14:42:49.796Z"
   },
   {
    "duration": 46,
    "start_time": "2023-12-03T14:42:49.812Z"
   },
   {
    "duration": 28,
    "start_time": "2023-12-03T14:42:49.860Z"
   },
   {
    "duration": 5,
    "start_time": "2023-12-03T14:42:49.889Z"
   },
   {
    "duration": 7,
    "start_time": "2023-12-03T14:42:49.896Z"
   },
   {
    "duration": 7,
    "start_time": "2023-12-03T14:42:49.905Z"
   },
   {
    "duration": 44,
    "start_time": "2023-12-03T14:42:49.914Z"
   },
   {
    "duration": 149,
    "start_time": "2023-12-03T14:42:49.960Z"
   },
   {
    "duration": 297,
    "start_time": "2023-12-03T14:42:50.112Z"
   },
   {
    "duration": 224,
    "start_time": "2023-12-03T14:42:50.411Z"
   },
   {
    "duration": 27,
    "start_time": "2023-12-03T14:42:50.637Z"
   },
   {
    "duration": 12,
    "start_time": "2023-12-03T14:42:50.666Z"
   },
   {
    "duration": 355,
    "start_time": "2023-12-03T14:42:50.679Z"
   },
   {
    "duration": 354,
    "start_time": "2023-12-03T14:42:51.037Z"
   },
   {
    "duration": 324,
    "start_time": "2023-12-03T14:42:51.393Z"
   },
   {
    "duration": 312,
    "start_time": "2023-12-03T14:42:51.719Z"
   },
   {
    "duration": 358,
    "start_time": "2023-12-03T14:42:52.033Z"
   },
   {
    "duration": 14,
    "start_time": "2023-12-03T14:42:52.393Z"
   },
   {
    "duration": 17,
    "start_time": "2023-12-03T14:42:52.409Z"
   },
   {
    "duration": 30,
    "start_time": "2023-12-03T14:42:52.428Z"
   },
   {
    "duration": 11,
    "start_time": "2023-12-03T14:42:52.460Z"
   },
   {
    "duration": 188,
    "start_time": "2023-12-03T14:42:52.473Z"
   },
   {
    "duration": 171,
    "start_time": "2023-12-03T14:42:52.663Z"
   },
   {
    "duration": 21,
    "start_time": "2023-12-03T14:42:52.835Z"
   },
   {
    "duration": 12,
    "start_time": "2023-12-03T14:42:52.857Z"
   },
   {
    "duration": 11,
    "start_time": "2023-12-03T14:42:52.870Z"
   },
   {
    "duration": 13,
    "start_time": "2023-12-03T14:42:52.884Z"
   },
   {
    "duration": 12,
    "start_time": "2023-12-03T14:42:52.899Z"
   },
   {
    "duration": 49,
    "start_time": "2023-12-03T14:42:52.913Z"
   },
   {
    "duration": 14,
    "start_time": "2023-12-03T14:42:52.964Z"
   },
   {
    "duration": 4,
    "start_time": "2023-12-03T14:42:52.980Z"
   },
   {
    "duration": 27,
    "start_time": "2023-12-03T14:42:52.986Z"
   },
   {
    "duration": 15,
    "start_time": "2023-12-03T14:42:53.015Z"
   },
   {
    "duration": 33,
    "start_time": "2023-12-03T14:42:53.032Z"
   },
   {
    "duration": 12,
    "start_time": "2023-12-03T14:42:53.066Z"
   },
   {
    "duration": 10,
    "start_time": "2023-12-03T14:42:53.080Z"
   },
   {
    "duration": 69,
    "start_time": "2023-12-03T14:47:19.038Z"
   },
   {
    "duration": 73,
    "start_time": "2023-12-03T14:49:01.728Z"
   },
   {
    "duration": 15,
    "start_time": "2023-12-03T14:50:41.797Z"
   },
   {
    "duration": 21,
    "start_time": "2023-12-03T14:53:38.734Z"
   },
   {
    "duration": 2,
    "start_time": "2023-12-03T14:55:21.427Z"
   },
   {
    "duration": 55,
    "start_time": "2023-12-03T14:55:21.432Z"
   },
   {
    "duration": 13,
    "start_time": "2023-12-03T14:55:21.490Z"
   },
   {
    "duration": 5,
    "start_time": "2023-12-03T14:55:21.505Z"
   },
   {
    "duration": 4,
    "start_time": "2023-12-03T14:55:21.513Z"
   },
   {
    "duration": 36,
    "start_time": "2023-12-03T14:55:21.518Z"
   },
   {
    "duration": 4,
    "start_time": "2023-12-03T14:55:21.555Z"
   },
   {
    "duration": 11,
    "start_time": "2023-12-03T14:55:21.561Z"
   },
   {
    "duration": 7,
    "start_time": "2023-12-03T14:55:21.573Z"
   },
   {
    "duration": 12,
    "start_time": "2023-12-03T14:55:21.582Z"
   },
   {
    "duration": 14,
    "start_time": "2023-12-03T14:55:21.597Z"
   },
   {
    "duration": 51,
    "start_time": "2023-12-03T14:55:21.612Z"
   },
   {
    "duration": 5,
    "start_time": "2023-12-03T14:55:21.665Z"
   },
   {
    "duration": 5,
    "start_time": "2023-12-03T14:55:21.672Z"
   },
   {
    "duration": 5,
    "start_time": "2023-12-03T14:55:21.679Z"
   },
   {
    "duration": 11,
    "start_time": "2023-12-03T14:55:21.686Z"
   },
   {
    "duration": 39,
    "start_time": "2023-12-03T14:55:21.699Z"
   },
   {
    "duration": 37,
    "start_time": "2023-12-03T14:55:21.740Z"
   },
   {
    "duration": 5,
    "start_time": "2023-12-03T14:55:21.779Z"
   },
   {
    "duration": 8,
    "start_time": "2023-12-03T14:55:21.786Z"
   },
   {
    "duration": 15,
    "start_time": "2023-12-03T14:55:21.795Z"
   },
   {
    "duration": 21,
    "start_time": "2023-12-03T14:55:21.811Z"
   },
   {
    "duration": 135,
    "start_time": "2023-12-03T14:55:21.852Z"
   },
   {
    "duration": 311,
    "start_time": "2023-12-03T14:55:21.988Z"
   },
   {
    "duration": 229,
    "start_time": "2023-12-03T14:55:22.301Z"
   },
   {
    "duration": 24,
    "start_time": "2023-12-03T14:55:22.531Z"
   },
   {
    "duration": 10,
    "start_time": "2023-12-03T14:55:22.557Z"
   },
   {
    "duration": 330,
    "start_time": "2023-12-03T14:55:22.568Z"
   },
   {
    "duration": 350,
    "start_time": "2023-12-03T14:55:22.902Z"
   },
   {
    "duration": 338,
    "start_time": "2023-12-03T14:55:23.253Z"
   },
   {
    "duration": 261,
    "start_time": "2023-12-03T14:55:23.593Z"
   },
   {
    "duration": 287,
    "start_time": "2023-12-03T14:55:23.856Z"
   },
   {
    "duration": 16,
    "start_time": "2023-12-03T14:55:24.145Z"
   },
   {
    "duration": 10,
    "start_time": "2023-12-03T14:55:24.163Z"
   },
   {
    "duration": 72,
    "start_time": "2023-12-03T14:55:24.175Z"
   },
   {
    "duration": 10,
    "start_time": "2023-12-03T14:55:24.249Z"
   },
   {
    "duration": 191,
    "start_time": "2023-12-03T14:55:24.261Z"
   },
   {
    "duration": 174,
    "start_time": "2023-12-03T14:55:24.454Z"
   },
   {
    "duration": 23,
    "start_time": "2023-12-03T14:55:24.630Z"
   },
   {
    "duration": 15,
    "start_time": "2023-12-03T14:55:24.654Z"
   },
   {
    "duration": 15,
    "start_time": "2023-12-03T14:55:24.671Z"
   },
   {
    "duration": 14,
    "start_time": "2023-12-03T14:55:24.688Z"
   },
   {
    "duration": 15,
    "start_time": "2023-12-03T14:55:24.703Z"
   },
   {
    "duration": 44,
    "start_time": "2023-12-03T14:55:24.720Z"
   },
   {
    "duration": 20,
    "start_time": "2023-12-03T14:55:24.766Z"
   },
   {
    "duration": 4,
    "start_time": "2023-12-03T14:55:24.788Z"
   },
   {
    "duration": 11,
    "start_time": "2023-12-03T14:55:24.793Z"
   },
   {
    "duration": 13,
    "start_time": "2023-12-03T14:55:24.805Z"
   },
   {
    "duration": 40,
    "start_time": "2023-12-03T14:55:24.820Z"
   },
   {
    "duration": 11,
    "start_time": "2023-12-03T14:55:24.862Z"
   },
   {
    "duration": 11,
    "start_time": "2023-12-03T14:55:24.875Z"
   },
   {
    "duration": 359,
    "start_time": "2023-12-03T14:58:28.816Z"
   },
   {
    "duration": 272,
    "start_time": "2023-12-03T14:59:46.865Z"
   },
   {
    "duration": 269,
    "start_time": "2023-12-03T15:00:53.283Z"
   },
   {
    "duration": 276,
    "start_time": "2023-12-03T15:01:02.051Z"
   },
   {
    "duration": 272,
    "start_time": "2023-12-03T15:01:07.342Z"
   },
   {
    "duration": 219,
    "start_time": "2023-12-03T15:10:11.571Z"
   },
   {
    "duration": 336,
    "start_time": "2023-12-03T15:10:19.308Z"
   },
   {
    "duration": 251,
    "start_time": "2023-12-03T15:11:42.724Z"
   },
   {
    "duration": 231,
    "start_time": "2023-12-03T15:12:25.349Z"
   },
   {
    "duration": 249,
    "start_time": "2023-12-03T15:12:48.070Z"
   },
   {
    "duration": 280,
    "start_time": "2023-12-03T15:15:33.044Z"
   },
   {
    "duration": 138,
    "start_time": "2023-12-03T15:23:18.928Z"
   },
   {
    "duration": 267,
    "start_time": "2023-12-03T15:23:37.319Z"
   },
   {
    "duration": 90,
    "start_time": "2023-12-03T15:24:58.617Z"
   },
   {
    "duration": 82,
    "start_time": "2023-12-03T15:25:05.395Z"
   },
   {
    "duration": 173,
    "start_time": "2023-12-03T15:25:10.102Z"
   },
   {
    "duration": 122,
    "start_time": "2023-12-03T15:25:29.838Z"
   },
   {
    "duration": 379,
    "start_time": "2023-12-03T15:26:22.452Z"
   },
   {
    "duration": 351,
    "start_time": "2023-12-03T15:26:51.878Z"
   },
   {
    "duration": 161,
    "start_time": "2023-12-03T15:27:05.004Z"
   },
   {
    "duration": 3,
    "start_time": "2023-12-03T15:27:31.488Z"
   },
   {
    "duration": 4,
    "start_time": "2023-12-03T15:27:37.414Z"
   },
   {
    "duration": 376,
    "start_time": "2023-12-03T15:28:06.363Z"
   },
   {
    "duration": 452,
    "start_time": "2023-12-03T15:28:13.061Z"
   },
   {
    "duration": 3480,
    "start_time": "2023-12-03T15:30:09.297Z"
   },
   {
    "duration": 4284,
    "start_time": "2023-12-03T15:30:13.107Z"
   },
   {
    "duration": 1472,
    "start_time": "2023-12-03T15:32:15.571Z"
   },
   {
    "duration": 73,
    "start_time": "2023-12-03T15:32:40.323Z"
   },
   {
    "duration": 80,
    "start_time": "2023-12-03T15:33:11.745Z"
   },
   {
    "duration": 9,
    "start_time": "2023-12-03T15:33:25.889Z"
   },
   {
    "duration": 9,
    "start_time": "2023-12-03T15:33:48.473Z"
   },
   {
    "duration": 274,
    "start_time": "2023-12-03T15:34:04.767Z"
   },
   {
    "duration": 377,
    "start_time": "2023-12-03T15:34:14.359Z"
   },
   {
    "duration": 254,
    "start_time": "2023-12-03T15:34:48.789Z"
   },
   {
    "duration": 306,
    "start_time": "2023-12-03T15:35:05.127Z"
   },
   {
    "duration": 272,
    "start_time": "2023-12-03T15:35:09.689Z"
   },
   {
    "duration": 417,
    "start_time": "2023-12-03T15:35:31.807Z"
   },
   {
    "duration": 314,
    "start_time": "2023-12-03T15:35:43.283Z"
   },
   {
    "duration": 309,
    "start_time": "2023-12-03T15:35:54.080Z"
   },
   {
    "duration": 350,
    "start_time": "2023-12-03T15:36:37.947Z"
   },
   {
    "duration": 1068,
    "start_time": "2023-12-03T15:40:39.350Z"
   },
   {
    "duration": 12,
    "start_time": "2023-12-03T15:41:20.242Z"
   },
   {
    "duration": 18,
    "start_time": "2023-12-03T15:41:23.144Z"
   },
   {
    "duration": 13,
    "start_time": "2023-12-03T15:41:58.151Z"
   },
   {
    "duration": 17,
    "start_time": "2023-12-03T15:42:09.070Z"
   },
   {
    "duration": 17,
    "start_time": "2023-12-03T15:42:15.666Z"
   },
   {
    "duration": 1433,
    "start_time": "2023-12-03T18:38:56.954Z"
   },
   {
    "duration": 96,
    "start_time": "2023-12-03T18:38:58.390Z"
   },
   {
    "duration": 19,
    "start_time": "2023-12-03T18:38:58.487Z"
   },
   {
    "duration": 4,
    "start_time": "2023-12-03T18:38:58.507Z"
   },
   {
    "duration": 6,
    "start_time": "2023-12-03T18:38:58.513Z"
   },
   {
    "duration": 18,
    "start_time": "2023-12-03T18:38:58.520Z"
   },
   {
    "duration": 4,
    "start_time": "2023-12-03T18:38:58.551Z"
   },
   {
    "duration": 7,
    "start_time": "2023-12-03T18:38:58.557Z"
   },
   {
    "duration": 8,
    "start_time": "2023-12-03T18:38:58.566Z"
   },
   {
    "duration": 9,
    "start_time": "2023-12-03T18:38:58.575Z"
   },
   {
    "duration": 14,
    "start_time": "2023-12-03T18:38:58.586Z"
   },
   {
    "duration": 51,
    "start_time": "2023-12-03T18:38:58.603Z"
   },
   {
    "duration": 5,
    "start_time": "2023-12-03T18:38:58.656Z"
   },
   {
    "duration": 6,
    "start_time": "2023-12-03T18:38:58.664Z"
   },
   {
    "duration": 9,
    "start_time": "2023-12-03T18:38:58.671Z"
   },
   {
    "duration": 7,
    "start_time": "2023-12-03T18:38:58.681Z"
   },
   {
    "duration": 18,
    "start_time": "2023-12-03T18:38:58.690Z"
   },
   {
    "duration": 64,
    "start_time": "2023-12-03T18:38:58.710Z"
   },
   {
    "duration": 6,
    "start_time": "2023-12-03T18:38:58.776Z"
   },
   {
    "duration": 24,
    "start_time": "2023-12-03T18:38:58.783Z"
   },
   {
    "duration": 12,
    "start_time": "2023-12-03T18:38:58.809Z"
   },
   {
    "duration": 20,
    "start_time": "2023-12-03T18:38:58.822Z"
   },
   {
    "duration": 146,
    "start_time": "2023-12-03T18:38:58.852Z"
   },
   {
    "duration": 311,
    "start_time": "2023-12-03T18:38:59.000Z"
   },
   {
    "duration": 241,
    "start_time": "2023-12-03T18:38:59.313Z"
   },
   {
    "duration": 18,
    "start_time": "2023-12-03T18:38:59.556Z"
   },
   {
    "duration": 11,
    "start_time": "2023-12-03T18:38:59.576Z"
   },
   {
    "duration": 358,
    "start_time": "2023-12-03T18:38:59.588Z"
   },
   {
    "duration": 287,
    "start_time": "2023-12-03T18:38:59.947Z"
   },
   {
    "duration": 250,
    "start_time": "2023-12-03T18:39:00.236Z"
   },
   {
    "duration": 366,
    "start_time": "2023-12-03T18:39:00.488Z"
   },
   {
    "duration": 327,
    "start_time": "2023-12-03T18:39:00.856Z"
   },
   {
    "duration": 16,
    "start_time": "2023-12-03T18:39:01.185Z"
   },
   {
    "duration": 13,
    "start_time": "2023-12-03T18:39:01.203Z"
   },
   {
    "duration": 35,
    "start_time": "2023-12-03T18:39:01.218Z"
   },
   {
    "duration": 21,
    "start_time": "2023-12-03T18:39:01.255Z"
   },
   {
    "duration": 345,
    "start_time": "2023-12-03T18:39:01.277Z"
   },
   {
    "duration": 1197,
    "start_time": "2023-12-03T18:39:01.624Z"
   },
   {
    "duration": 179,
    "start_time": "2023-12-03T18:39:02.823Z"
   },
   {
    "duration": 170,
    "start_time": "2023-12-03T18:39:03.004Z"
   },
   {
    "duration": 14,
    "start_time": "2023-12-03T18:39:03.178Z"
   },
   {
    "duration": 13,
    "start_time": "2023-12-03T18:39:03.193Z"
   },
   {
    "duration": 12,
    "start_time": "2023-12-03T18:39:03.207Z"
   },
   {
    "duration": 38,
    "start_time": "2023-12-03T18:39:03.221Z"
   },
   {
    "duration": 12,
    "start_time": "2023-12-03T18:39:03.261Z"
   },
   {
    "duration": 12,
    "start_time": "2023-12-03T18:39:03.274Z"
   },
   {
    "duration": 16,
    "start_time": "2023-12-03T18:39:03.287Z"
   },
   {
    "duration": 4,
    "start_time": "2023-12-03T18:39:03.305Z"
   },
   {
    "duration": 48,
    "start_time": "2023-12-03T18:39:03.311Z"
   },
   {
    "duration": 18,
    "start_time": "2023-12-03T18:39:03.361Z"
   },
   {
    "duration": 14,
    "start_time": "2023-12-03T18:39:03.381Z"
   },
   {
    "duration": 20,
    "start_time": "2023-12-03T18:39:03.396Z"
   },
   {
    "duration": 16,
    "start_time": "2023-12-03T18:39:03.418Z"
   },
   {
    "duration": 80,
    "start_time": "2023-12-03T18:50:46.300Z"
   },
   {
    "duration": 11,
    "start_time": "2023-12-03T18:58:43.416Z"
   },
   {
    "duration": 70,
    "start_time": "2023-12-03T19:00:16.180Z"
   },
   {
    "duration": 442,
    "start_time": "2023-12-03T19:14:51.791Z"
   },
   {
    "duration": 371,
    "start_time": "2023-12-03T19:15:46.733Z"
   },
   {
    "duration": 398,
    "start_time": "2023-12-03T19:16:48.867Z"
   },
   {
    "duration": 510,
    "start_time": "2023-12-03T19:17:20.106Z"
   },
   {
    "duration": 396,
    "start_time": "2023-12-03T19:17:32.291Z"
   },
   {
    "duration": 626,
    "start_time": "2023-12-03T19:17:38.339Z"
   },
   {
    "duration": 492,
    "start_time": "2023-12-03T19:18:10.088Z"
   },
   {
    "duration": 552,
    "start_time": "2023-12-03T19:18:21.444Z"
   },
   {
    "duration": 365,
    "start_time": "2023-12-03T19:18:33.730Z"
   },
   {
    "duration": 548,
    "start_time": "2023-12-03T19:18:42.404Z"
   },
   {
    "duration": 583,
    "start_time": "2023-12-03T19:20:27.789Z"
   },
   {
    "duration": 717,
    "start_time": "2023-12-03T19:21:27.478Z"
   },
   {
    "duration": 588,
    "start_time": "2023-12-03T19:21:42.213Z"
   },
   {
    "duration": 1432,
    "start_time": "2023-12-04T13:19:42.926Z"
   },
   {
    "duration": 193,
    "start_time": "2023-12-04T13:19:44.360Z"
   },
   {
    "duration": 19,
    "start_time": "2023-12-04T13:19:44.554Z"
   },
   {
    "duration": 3,
    "start_time": "2023-12-04T13:19:44.574Z"
   },
   {
    "duration": 4,
    "start_time": "2023-12-04T13:19:44.580Z"
   },
   {
    "duration": 17,
    "start_time": "2023-12-04T13:19:44.586Z"
   },
   {
    "duration": 3,
    "start_time": "2023-12-04T13:19:44.604Z"
   },
   {
    "duration": 23,
    "start_time": "2023-12-04T13:19:44.609Z"
   },
   {
    "duration": 14,
    "start_time": "2023-12-04T13:19:44.634Z"
   },
   {
    "duration": 12,
    "start_time": "2023-12-04T13:19:44.650Z"
   },
   {
    "duration": 21,
    "start_time": "2023-12-04T13:19:44.664Z"
   },
   {
    "duration": 17,
    "start_time": "2023-12-04T13:19:44.687Z"
   },
   {
    "duration": 26,
    "start_time": "2023-12-04T13:19:44.706Z"
   },
   {
    "duration": 14,
    "start_time": "2023-12-04T13:19:44.735Z"
   },
   {
    "duration": 7,
    "start_time": "2023-12-04T13:19:44.751Z"
   },
   {
    "duration": 10,
    "start_time": "2023-12-04T13:19:44.759Z"
   },
   {
    "duration": 23,
    "start_time": "2023-12-04T13:19:44.771Z"
   },
   {
    "duration": 22,
    "start_time": "2023-12-04T13:19:44.796Z"
   },
   {
    "duration": 5,
    "start_time": "2023-12-04T13:19:44.831Z"
   },
   {
    "duration": 8,
    "start_time": "2023-12-04T13:19:44.838Z"
   },
   {
    "duration": 7,
    "start_time": "2023-12-04T13:19:44.848Z"
   },
   {
    "duration": 20,
    "start_time": "2023-12-04T13:19:44.856Z"
   },
   {
    "duration": 173,
    "start_time": "2023-12-04T13:19:44.878Z"
   },
   {
    "duration": 329,
    "start_time": "2023-12-04T13:19:45.053Z"
   },
   {
    "duration": 240,
    "start_time": "2023-12-04T13:19:45.384Z"
   },
   {
    "duration": 20,
    "start_time": "2023-12-04T13:19:45.626Z"
   },
   {
    "duration": 12,
    "start_time": "2023-12-04T13:19:45.648Z"
   },
   {
    "duration": 346,
    "start_time": "2023-12-04T13:19:45.662Z"
   },
   {
    "duration": 269,
    "start_time": "2023-12-04T13:19:46.010Z"
   },
   {
    "duration": 272,
    "start_time": "2023-12-04T13:19:46.280Z"
   },
   {
    "duration": 361,
    "start_time": "2023-12-04T13:19:46.553Z"
   },
   {
    "duration": 336,
    "start_time": "2023-12-04T13:19:46.916Z"
   },
   {
    "duration": 12,
    "start_time": "2023-12-04T13:19:47.254Z"
   },
   {
    "duration": 34,
    "start_time": "2023-12-04T13:19:47.268Z"
   },
   {
    "duration": 26,
    "start_time": "2023-12-04T13:19:47.304Z"
   },
   {
    "duration": 32,
    "start_time": "2023-12-04T13:19:47.332Z"
   },
   {
    "duration": 612,
    "start_time": "2023-12-04T13:19:47.365Z"
   },
   {
    "duration": 1094,
    "start_time": "2023-12-04T13:19:47.979Z"
   },
   {
    "duration": 167,
    "start_time": "2023-12-04T13:19:49.074Z"
   },
   {
    "duration": 169,
    "start_time": "2023-12-04T13:19:49.243Z"
   },
   {
    "duration": 23,
    "start_time": "2023-12-04T13:19:49.416Z"
   },
   {
    "duration": 35,
    "start_time": "2023-12-04T13:19:49.441Z"
   },
   {
    "duration": 27,
    "start_time": "2023-12-04T13:19:49.478Z"
   },
   {
    "duration": 41,
    "start_time": "2023-12-04T13:19:49.507Z"
   },
   {
    "duration": 17,
    "start_time": "2023-12-04T13:19:49.549Z"
   },
   {
    "duration": 23,
    "start_time": "2023-12-04T13:19:49.568Z"
   },
   {
    "duration": 29,
    "start_time": "2023-12-04T13:19:49.593Z"
   },
   {
    "duration": 52,
    "start_time": "2023-12-04T13:19:49.623Z"
   },
   {
    "duration": 39,
    "start_time": "2023-12-04T13:19:49.677Z"
   },
   {
    "duration": 23,
    "start_time": "2023-12-04T13:19:49.718Z"
   },
   {
    "duration": 31,
    "start_time": "2023-12-04T13:19:49.742Z"
   },
   {
    "duration": 38,
    "start_time": "2023-12-04T13:19:49.775Z"
   },
   {
    "duration": 30,
    "start_time": "2023-12-04T13:19:49.814Z"
   },
   {
    "duration": 697,
    "start_time": "2023-12-04T13:26:07.157Z"
   },
   {
    "duration": 92,
    "start_time": "2023-12-04T13:56:02.417Z"
   },
   {
    "duration": 1025,
    "start_time": "2023-12-04T17:40:39.933Z"
   },
   {
    "duration": 90,
    "start_time": "2023-12-04T17:40:40.959Z"
   },
   {
    "duration": 18,
    "start_time": "2023-12-04T17:40:41.051Z"
   },
   {
    "duration": 2,
    "start_time": "2023-12-04T17:40:41.071Z"
   },
   {
    "duration": 5,
    "start_time": "2023-12-04T17:40:41.074Z"
   },
   {
    "duration": 17,
    "start_time": "2023-12-04T17:40:41.080Z"
   },
   {
    "duration": 2,
    "start_time": "2023-12-04T17:40:41.099Z"
   },
   {
    "duration": 13,
    "start_time": "2023-12-04T17:40:41.102Z"
   },
   {
    "duration": 6,
    "start_time": "2023-12-04T17:40:41.116Z"
   },
   {
    "duration": 12,
    "start_time": "2023-12-04T17:40:41.124Z"
   },
   {
    "duration": 12,
    "start_time": "2023-12-04T17:40:41.137Z"
   },
   {
    "duration": 13,
    "start_time": "2023-12-04T17:40:41.150Z"
   },
   {
    "duration": 4,
    "start_time": "2023-12-04T17:40:41.165Z"
   },
   {
    "duration": 8,
    "start_time": "2023-12-04T17:40:41.171Z"
   },
   {
    "duration": 11,
    "start_time": "2023-12-04T17:40:41.180Z"
   },
   {
    "duration": 5,
    "start_time": "2023-12-04T17:40:41.215Z"
   },
   {
    "duration": 19,
    "start_time": "2023-12-04T17:40:41.221Z"
   },
   {
    "duration": 23,
    "start_time": "2023-12-04T17:40:41.242Z"
   },
   {
    "duration": 3,
    "start_time": "2023-12-04T17:40:41.266Z"
   },
   {
    "duration": 8,
    "start_time": "2023-12-04T17:40:41.271Z"
   },
   {
    "duration": 9,
    "start_time": "2023-12-04T17:40:41.280Z"
   },
   {
    "duration": 29,
    "start_time": "2023-12-04T17:40:41.290Z"
   },
   {
    "duration": 131,
    "start_time": "2023-12-04T17:40:41.321Z"
   },
   {
    "duration": 258,
    "start_time": "2023-12-04T17:40:41.453Z"
   },
   {
    "duration": 183,
    "start_time": "2023-12-04T17:40:41.715Z"
   },
   {
    "duration": 18,
    "start_time": "2023-12-04T17:40:41.899Z"
   },
   {
    "duration": 8,
    "start_time": "2023-12-04T17:40:41.919Z"
   },
   {
    "duration": 276,
    "start_time": "2023-12-04T17:40:41.929Z"
   },
   {
    "duration": 224,
    "start_time": "2023-12-04T17:40:42.207Z"
   },
   {
    "duration": 212,
    "start_time": "2023-12-04T17:40:42.432Z"
   },
   {
    "duration": 267,
    "start_time": "2023-12-04T17:40:42.646Z"
   },
   {
    "duration": 245,
    "start_time": "2023-12-04T17:40:42.914Z"
   },
   {
    "duration": 11,
    "start_time": "2023-12-04T17:40:43.160Z"
   },
   {
    "duration": 15,
    "start_time": "2023-12-04T17:40:43.173Z"
   },
   {
    "duration": 8,
    "start_time": "2023-12-04T17:40:43.189Z"
   },
   {
    "duration": 9,
    "start_time": "2023-12-04T17:40:43.215Z"
   },
   {
    "duration": 543,
    "start_time": "2023-12-04T17:40:43.225Z"
   },
   {
    "duration": 516,
    "start_time": "2023-12-04T17:40:43.770Z"
   },
   {
    "duration": 138,
    "start_time": "2023-12-04T17:40:44.287Z"
   },
   {
    "duration": 145,
    "start_time": "2023-12-04T17:40:44.427Z"
   },
   {
    "duration": 12,
    "start_time": "2023-12-04T17:40:44.573Z"
   },
   {
    "duration": 8,
    "start_time": "2023-12-04T17:40:44.586Z"
   },
   {
    "duration": 26,
    "start_time": "2023-12-04T17:40:44.596Z"
   },
   {
    "duration": 9,
    "start_time": "2023-12-04T17:40:44.623Z"
   },
   {
    "duration": 9,
    "start_time": "2023-12-04T17:40:44.633Z"
   },
   {
    "duration": 10,
    "start_time": "2023-12-04T17:40:44.643Z"
   },
   {
    "duration": 9,
    "start_time": "2023-12-04T17:40:44.654Z"
   },
   {
    "duration": 4,
    "start_time": "2023-12-04T17:40:44.664Z"
   },
   {
    "duration": 11,
    "start_time": "2023-12-04T17:40:44.669Z"
   },
   {
    "duration": 40,
    "start_time": "2023-12-04T17:40:44.681Z"
   },
   {
    "duration": 10,
    "start_time": "2023-12-04T17:40:44.722Z"
   },
   {
    "duration": 7,
    "start_time": "2023-12-04T17:40:44.733Z"
   },
   {
    "duration": 7,
    "start_time": "2023-12-04T17:40:44.742Z"
   },
   {
    "duration": 16,
    "start_time": "2023-12-04T17:41:38.522Z"
   }
  ],
  "kernelspec": {
   "display_name": "Python 3 (ipykernel)",
   "language": "python",
   "name": "python3"
  },
  "language_info": {
   "codemirror_mode": {
    "name": "ipython",
    "version": 3
   },
   "file_extension": ".py",
   "mimetype": "text/x-python",
   "name": "python",
   "nbconvert_exporter": "python",
   "pygments_lexer": "ipython3",
   "version": "3.10.9"
  },
  "toc": {
   "base_numbering": 1,
   "nav_menu": {
    "height": "207.988px",
    "width": "228.496px"
   },
   "number_sections": true,
   "sideBar": true,
   "skip_h1_title": true,
   "title_cell": "Table of Contents",
   "title_sidebar": "Contents",
   "toc_cell": false,
   "toc_position": {},
   "toc_section_display": true,
   "toc_window_display": false
  }
 },
 "nbformat": 4,
 "nbformat_minor": 2
}
